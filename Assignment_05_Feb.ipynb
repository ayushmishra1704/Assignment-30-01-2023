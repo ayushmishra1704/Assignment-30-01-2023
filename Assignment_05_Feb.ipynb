{
 "cells": [
  {
   "cell_type": "code",
   "execution_count": 20,
   "id": "44bd6bf3-b747-4884-b8a7-f355938244e1",
   "metadata": {},
   "outputs": [],
   "source": [
    "# Q.1. Ans -\n",
    "\"\"\"Sol - Class is classification or specification of a real-world entity(object) which describes\n",
    "general properties not specific properties. We can also say it is skeleton or blueprint.\n",
    "E.g. – Layout of a Building made by an architecture. Or A Car with nothing specified like color, model,\n",
    "etc. is a class, but we can get a general idea about the car like of any car.\"\"\"\n",
    "\"\"\" Object is a real-world entity. An object is a single instance of a class. You can create many objects from the same class type.\"\"\"\n",
    "class student:\n",
    "    def __init__(self, StudentId, StudentRollNo):\n",
    "        self.StudentId = StudentId\n",
    "        self.StudentRollNo = StudentRollNo\n",
    "    \n",
    "    def set_StudentID(self, StudentId):\n",
    "        self.StudentId = StudentId\n",
    "    \n",
    "    def get_StudentID(self):\n",
    "        return  self.StudentId\n",
    "       \n",
    "s =  student(123, 70234)  \n",
    "\n",
    "s.set_StudentID(2345)\n"
   ]
  },
  {
   "cell_type": "code",
   "execution_count": 21,
   "id": "bc732bf1-4c66-44c4-b24d-5305bfa1a793",
   "metadata": {},
   "outputs": [
    {
     "data": {
      "text/plain": [
       "2345"
      ]
     },
     "execution_count": 21,
     "metadata": {},
     "output_type": "execute_result"
    }
   ],
   "source": [
    "s.get_StudentID()"
   ]
  },
  {
   "cell_type": "code",
   "execution_count": 8,
   "id": "fbcd80bc-fed6-48b4-b1b3-8519dcc0be66",
   "metadata": {},
   "outputs": [
    {
     "data": {
      "text/plain": [
       "\"Q.3 Ans - The __init__ method lets the class initialize the object's attributes and serves no other purpose.\\nTo pass data (specific to object) to a class \\nwe have inbuilt function __init__, it is also called constructor.  \""
      ]
     },
     "execution_count": 8,
     "metadata": {},
     "output_type": "execute_result"
    }
   ],
   "source": [
    "\"\"\"Q,2 Ans - The Four pillers of OOPS are:\n",
    "These four pillars are Inheritance,\n",
    "Polymorphism, Encapsulation and Abstraction.\"\"\"\n"
   ]
  },
  {
   "cell_type": "code",
   "execution_count": 4,
   "id": "9c089586-d300-4676-a8f0-33032535494a",
   "metadata": {},
   "outputs": [
    {
     "data": {
      "text/plain": [
       "'Q.4 Ans - The self keyword is used to represent an instance (object) of the given class.\\nThis handy keyword allows us to access variables, attributes, and methods of a defined class in Python.\\nSelf-keyword binds variables with class. self is not a reserved keyword; we can use even our name for pointers.'"
      ]
     },
     "execution_count": 4,
     "metadata": {},
     "output_type": "execute_result"
    }
   ],
   "source": [
    "\"\"\"Q.3 Ans - The __init__ method lets the class initialize the object's attributes and serves no other purpose.\n",
    "To pass data (specific to object) to a class \n",
    "we have inbuilt function __init__, it is also called constructor.  \"\"\"  "
   ]
  },
  {
   "cell_type": "code",
   "execution_count": 10,
   "id": "23df7bc8-5eda-4b25-924a-5f143e2da0de",
   "metadata": {},
   "outputs": [
    {
     "data": {
      "text/plain": [
       "'Q.5 Ans - > Inheritance is used to reuse the class , function or code in a deifferent class\\n.nheritance allows us to define a class that inherits all the methods and properties from another class.\\nParent class is the class being inherited from, also called base class. \\nChild class is the class that inherits from another class, also called derived class.\\nDifferent types of Inheritances are Multiple, Multiabel Inheritance'"
      ]
     },
     "execution_count": 10,
     "metadata": {},
     "output_type": "execute_result"
    }
   ],
   "source": [
    "\"\"\"Q.4 Ans - The self keyword is used to represent an instance (object) of the given class.\n",
    "This handy keyword allows us to access variables, attributes, and methods of a defined class in Python.\n",
    "Self-keyword binds variables with class. self is not a reserved keyword; we can use even our name for pointers.\"\"\""
   ]
  },
  {
   "cell_type": "code",
   "execution_count": 22,
   "id": "40fbf8c8-0ef7-431e-b854-c6f235aac1c9",
   "metadata": {},
   "outputs": [
    {
     "data": {
      "text/plain": [
       "'The father of student1 is Ajay'"
      ]
     },
     "execution_count": 22,
     "metadata": {},
     "output_type": "execute_result"
    }
   ],
   "source": [
    "\"\"\"Q.5 Ans - > Inheritance is used to reuse the class , function or code in a different class. \n",
    "Inheritance allows us to define a class that inherits all the methods and properties from another class.\n",
    "Parent class is the class being inherited from, also called base class. \n",
    "Child class is the class that inherits from another class, also called derived class.\n",
    "Different types of Inheritances are Multiple Inheritance, Multiabel Inheritance\"\"\"\n",
    "# Multilabel Inheritance - Inheritance based on hierarchy\n",
    "# e.g - A child which inherits some traits from its parents who further has inherited some traits from their parents\n",
    "class class1:\n",
    "    def student1_class1(self):\n",
    "        return \"The student Name is Arun\"\n",
    "    \n",
    "class class2(class1):\n",
    "    def father_of_student1_class1(self):\n",
    "        return \"The father of student1 is Ajay\"\n",
    "    \n",
    "class class3(class2):\n",
    "    def grandfather_of_student1_class1(self):\n",
    "        return \"The father of student1 is Anuj\"\n",
    "        \n",
    "obj_class3 = class3()     \n",
    "obj_class3.father_of_student1_class1()\n",
    "        "
   ]
  },
  {
   "cell_type": "code",
   "execution_count": 25,
   "id": "63949df2-0530-4443-851b-84119d201c8d",
   "metadata": {},
   "outputs": [
    {
     "data": {
      "text/plain": [
       "'The father of student1 is Ajay'"
      ]
     },
     "execution_count": 25,
     "metadata": {},
     "output_type": "execute_result"
    }
   ],
   "source": [
    "# Multiple Inheritance - We are able to access functions from multiple class in a single class.\n",
    "# e.g - A child that inherit the traits from its mother and fther.\n",
    "class class1:\n",
    "    def student1_class1(self):\n",
    "        return \"The student Name is Arun\"\n",
    "    \n",
    "class class2:\n",
    "    def father_of_student1_class1(self):\n",
    "        return \"The father of student1 is Ajay\"\n",
    "    \n",
    "class class3(class1, class2):\n",
    "    def grandfather_of_student1_class1(self):\n",
    "        return \"The father of student1 is Anuj\"\n",
    "    \n",
    "obj_class3 = class3()     \n",
    "obj_class3.father_of_student1_class1()"
   ]
  },
  {
   "cell_type": "code",
   "execution_count": null,
   "id": "053b6697-ac08-4257-b8e8-2904e589a9eb",
   "metadata": {},
   "outputs": [],
   "source": []
  }
 ],
 "metadata": {
  "kernelspec": {
   "display_name": "Python 3 (ipykernel)",
   "language": "python",
   "name": "python3"
  },
  "language_info": {
   "codemirror_mode": {
    "name": "ipython",
    "version": 3
   },
   "file_extension": ".py",
   "mimetype": "text/x-python",
   "name": "python",
   "nbconvert_exporter": "python",
   "pygments_lexer": "ipython3",
   "version": "3.10.8"
  }
 },
 "nbformat": 4,
 "nbformat_minor": 5
}
