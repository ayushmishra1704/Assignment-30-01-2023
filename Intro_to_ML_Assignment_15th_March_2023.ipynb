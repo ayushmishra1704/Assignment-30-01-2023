{
 "cells": [
  {
   "cell_type": "code",
   "execution_count": null,
   "id": "9258e0fd-33ad-4b45-a938-88caac2ad561",
   "metadata": {},
   "outputs": [],
   "source": [
    "\"\"\"Q.1. Artificial Intelligence is  the capability of machine, agent to perform a task on its own without human intervention.\n",
    "Artificial  Intelligence which comes under the  branch of computer science is the intelligence of machines and robots that aims to have  -\n",
    "1. the ability to solve problems\n",
    "2. the ability to act rationaly\n",
    "3. the ability to act like humans\n",
    "e.g. ChatGPT, Google Bard, S400, Brahmos Missile\n",
    "\n",
    "Machine Learning is the branch of AI that provides stats tools to analyse , visualize and used in predictive modeling and used in forecasting.\n",
    "Machine Learning is the capability of machine that is given to perform some task T and it learns to perform and improve its performance with Experince 'E' and performance is measured using 'P', if\n",
    "its performance at task T as measured using Performance P improves with Experience E.\n",
    "e.g. Amazon product recognition system.\n",
    "\n",
    "Deep  Learning is the branch of Machine Learning that mimics human brain, i.e. ability of machine to read, learn and understand and then use neural\n",
    "network algorithms to perform tasks such as Image processing, Object Detection, etc.\n",
    "e.g. ChatGPT, Bard, Face Scanner, Fingerprint scanner\n",
    "\"\"\"\n"
   ]
  },
  {
   "cell_type": "code",
   "execution_count": null,
   "id": "b1ad52b8-c683-4f5c-9d32-005ba9310a23",
   "metadata": {},
   "outputs": [],
   "source": [
    "\"\"\"Q.2. Supervised learning is supervising a machine to train on the basis of \n",
    "input and output,and output  and output can be either continous or discrete.\n",
    "Supervised machine learning is the machine learning task of learning \n",
    "a function that maps an input to an output.\n",
    "e.g. Classifying  students Pass/Fail on the basis of Features are Number of hours studied, Number of hours played.\n",
    "\"\"\""
   ]
  },
  {
   "cell_type": "code",
   "execution_count": null,
   "id": "2bbeb291-b00c-49e9-8221-0a014cd074e4",
   "metadata": {},
   "outputs": [],
   "source": [
    "\"\"\"Q.3. Unsupervised learning uses machine learning algorithm to analyse and cluster data \n",
    "based on similar data. \n",
    "e.g. Customer Segmentation, Anamoly Detection, Dimensionality Reduction.\n",
    "A shop in a mall want to  sell watches to. Features are salary and expenditure.\n",
    "Shop will focus customer segment which has highest expenditure.\n",
    "\"\"\""
   ]
  },
  {
   "cell_type": "code",
   "execution_count": null,
   "id": "2c882876-08a3-4e74-8a2a-4cefbfc1f889",
   "metadata": {},
   "outputs": [],
   "source": [
    "\"\"\"Q.4. AI is capability of machine , agents to perform tasks  on its own without human intervention. \n",
    "AI which comes under branch of computer science in which machines have intelligence which aims to have -\n",
    "1. ability to think and act rationaly.\n",
    "2. ability to act like  human.\n",
    "3. ability to solve problems.\n",
    "\n",
    "Machine Learning is the subset of AI that proides stats, tools to visualize, analyze and used in predictive modeling and forecasting.\n",
    "A  computer program is said to learn from Experience 'E' with respect to some class of task 'T' and performance is measured  using 'P', if its performance \n",
    "'P' to perform task improves with Experince 'E'.\n",
    "\n",
    "Deep Learning is the subset of Machine Learning that mimics human brain. It uses neural network algorithms for Image recognition, object detection.\n",
    "Ability of machine to read, learn and understand.\n",
    "\n",
    "Data science is a multidisciplinary field that uses scientific methods, processes, algorithms, and systems to extract insights and knowledge \n",
    "from structured and unstructured data. Data Scientist role has ML, DL , NLP all combined  together. \"\"\""
   ]
  },
  {
   "cell_type": "code",
   "execution_count": null,
   "id": "52a28035-6eea-4040-bd89-ac69f8cc68a5",
   "metadata": {},
   "outputs": [],
   "source": [
    "\"\"\"Q.5.\n",
    "Supervised Learning - Supervising a machine to train input and output on the basis of examples to classify a class label which is either \n",
    "continous or discrete. Machine learning task of learning a function that maps an input to output.\n",
    "e.g. Classifying  students - Pass/Fail on the basis of Features are Number of hours studied, Number of hours played.\n",
    "Unsupervised Learning - Uses machine learning algorithm to classify and cluster unlsabeled dataet. \n",
    "e.g. Segmentation, Anamoly detection.\n",
    "Semi-supervised Learning - It is combination of supervised and unsupervised ML. It uses advantage of Supervised and Unsupervised Ml algorithm.\n",
    "It involves small number of labeled and large  number of unlabeled data.\n",
    "e.g. Text document classification, Protein sequence classification, Speech Analysis.\n",
    "\"\"\""
   ]
  },
  {
   "cell_type": "code",
   "execution_count": null,
   "id": "a26d053a-5acf-4571-85d9-6dac8fca7a95",
   "metadata": {},
   "outputs": [],
   "source": [
    "\"\"\"Q.6. \n",
    "Training Set - Portion of the dataset used for training the model n. The models learn from patterns, relationships and features\n",
    "present in the set. The larger the trainning set , better the model learns.\n",
    "\n",
    "Validation Set - Hyperparameter tuning of model. Increasing the accuracy of model by changing parameters of model.\n",
    "Fine tune model's hyperparameter and provide an unbiased evaluation of model fit during training phase.\n",
    "After training the model on training set it is evaluated on validation set so that model performs well under both training and validation set.\n",
    "\n",
    "Test Set  - New unseen dataset wchich is never seen and used to test the trained model for evaluation. \n",
    "It is used to estimate the final performance of the model, and provide an estimate of how well model performs on new dataset.\n",
    "e.g. \n",
    "\n",
    "\"\"\""
   ]
  },
  {
   "cell_type": "code",
   "execution_count": null,
   "id": "b9dec325-5152-47b9-9639-396670c14f9e",
   "metadata": {},
   "outputs": [],
   "source": [
    "\"\"\"Q.7.\n",
    "There are various methods used in unsupervised machine learning that are used in anamoly detection as unsupervisd learning doesn't use labeled data and \n",
    "dont require explicit information used anamolies. They rely on identifying patterns, and structures within data.\n",
    "Some methods are :\n",
    "1. Statistical based method- z-score, median absolute deviation.\n",
    "2. Clustering based method - Hierarichal , K-means clusterng\n",
    "3. Density based Cluster\n",
    "\"\"\""
   ]
  },
  {
   "cell_type": "code",
   "execution_count": null,
   "id": "5e1a029f-2056-48bd-bbff-92dd21eca406",
   "metadata": {},
   "outputs": [],
   "source": [
    "\"\"\"Q.8. Commonly used supervised learning algorithms are-:\n",
    "1. Classification\n",
    "2. Regression\n",
    "\n",
    "Commonly used unsupervised learning algorithms are-:\n",
    "1. Association\n",
    "2. Clustering\n",
    "\"\"\""
   ]
  }
 ],
 "metadata": {
  "kernelspec": {
   "display_name": "Python 3 (ipykernel)",
   "language": "python",
   "name": "python3"
  },
  "language_info": {
   "codemirror_mode": {
    "name": "ipython",
    "version": 3
   },
   "file_extension": ".py",
   "mimetype": "text/x-python",
   "name": "python",
   "nbconvert_exporter": "python",
   "pygments_lexer": "ipython3",
   "version": "3.10.8"
  }
 },
 "nbformat": 4,
 "nbformat_minor": 5
}
