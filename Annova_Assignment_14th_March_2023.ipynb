{
 "cells": [
  {
   "cell_type": "code",
   "execution_count": 69,
   "id": "4d4d393b-15ef-41aa-b8d7-eef41442f52d",
   "metadata": {},
   "outputs": [
    {
     "name": "stdout",
     "output_type": "stream",
     "text": [
      "f_statistic: 0.20491803278688528, and p_value: 0.6628039775154362\n"
     ]
    }
   ],
   "source": [
    "\"\"\"Q.1. \n",
    "\"\"\"\n",
    "import numpy as np\n",
    "import scipy.stats as stat\n",
    "Male_student_roll_no = np.array([12,15,17,19,21])\n",
    "Female_student_roll_no = np.array([13,16,18,20,22])\n",
    "f_statistic_value, p_value = stat.f_oneway(Male_student_roll_no, Female_student_roll_no )\n",
    "print(f\"f_statistic: {f_statistic_value}, and p_value: {p_value}\")"
   ]
  },
  {
   "cell_type": "code",
   "execution_count": 70,
   "id": "9628ffff-8ee4-4987-b25e-9c8c796e1db2",
   "metadata": {},
   "outputs": [
    {
     "name": "stdout",
     "output_type": "stream",
     "text": [
      "f_critical:3.9638651576225317\n"
     ]
    }
   ],
   "source": [
    "\"\"\"Q.2.\"\"\"\n",
    "import scipy.stats as stat\n",
    "significance_level = 0.05\n",
    "dof1 = 10\n",
    "dof2 = 9\n",
    "f_critical = stat.f.ppf(1- (significance_level/2) , dfn = dof1, dfd = dof2)\n",
    "print(f\"f_critical:{f_critical}\")"
   ]
  },
  {
   "cell_type": "code",
   "execution_count": 71,
   "id": "786ef73e-8294-4c16-a9cf-555e45e1506c",
   "metadata": {},
   "outputs": [
    {
     "name": "stdout",
     "output_type": "stream",
     "text": [
      " f_value: 1.7881951235230436 , p_value: 0.21076686891186436, dof1: 10, dof2: 9\n",
      "Accept the null hypothesis and conclude variance are equal\n"
     ]
    }
   ],
   "source": [
    "\"\"\"Q.3.\"\"\"\n",
    "import numpy as np\n",
    "import scipy.stats as stat\n",
    "\n",
    "significance_value = 0.05\n",
    "sample_1 = np.random.normal(5, 7, size = 5)\n",
    "sample_2 = np.random.normal(7, 9, size = 7)\n",
    "dof_1 = len(sample_1) - 1\n",
    "dof_2 = len(sample_2) - 1\n",
    "f_value, p_value = stat.f_oneway(sample_1, sample_2)\n",
    "f_critical = stat.f.ppf(1-significance_value, dfn = dof1, dfd = dof2)\n",
    "print(f\" f_value: {f_value} , p_value: {p_value}, dof1: {dof1}, dof2: {dof2}\")\n",
    "if f_value > f_critical:\n",
    "    print(\"Reject the null hypothesis and conclude variance are not equal\")\n",
    "else:\n",
    "    print(\"Accept the null hypothesis and conclude variance are equal\")"
   ]
  },
  {
   "cell_type": "code",
   "execution_count": 72,
   "id": "b3e9f3d3-0a8b-4b93-a8a9-9b13a38aa806",
   "metadata": {},
   "outputs": [
    {
     "name": "stdout",
     "output_type": "stream",
     "text": [
      "Accept the null hypothesis and conclude variance are equal\n"
     ]
    }
   ],
   "source": [
    "\"Q.4.\"\n",
    "var_1 = 10\n",
    "var_2 = 15\n",
    "n = 12\n",
    "dof1 = 12- 1\n",
    "dof2 = 12- 1\n",
    "significance_value = 0.05\n",
    "f_value = var_1/var_2\n",
    "f_critical = stat.f.ppf(1-significance_value, dfn = dof1, dfd = dof2)\n",
    "if f_value > f_critical:\n",
    "    print(\"Reject the null hypothesis and conclude variance are not equal\")\n",
    "else:\n",
    "    print(\"Accept the null hypothesis and conclude variance are equal\")\n"
   ]
  },
  {
   "cell_type": "code",
   "execution_count": 73,
   "id": "8254fa2c-287e-464b-8761-647d9ca3cd82",
   "metadata": {},
   "outputs": [
    {
     "name": "stdout",
     "output_type": "stream",
     "text": [
      "nan\n",
      "Accept the null hypothesis and conclude variance are equal\n"
     ]
    }
   ],
   "source": [
    "\"Q.5.\"\n",
    "var_1 = 0.005\n",
    "var_2 = 0.006\n",
    "n1 = 1\n",
    "n2 = 25\n",
    "dof1 = 0\n",
    "dof2 = 24\n",
    "significance_value = 0.01\n",
    "f_value = var_1/var_2\n",
    "f_critical = stat.f.ppf(1-significance_value, dfn = dof1, dfd = dof2)\n",
    "print(f_critical)\n",
    "if f_value > f_critical:\n",
    "    print(\"Reject the null hypothesis and conclude variance are not equal\")\n",
    "else:\n",
    "    print(\"Accept the null hypothesis and conclude variance are equal\")\n"
   ]
  },
  {
   "cell_type": "code",
   "execution_count": 3,
   "id": "3d16e8a8-07c8-47e2-8424-df77f7a4a770",
   "metadata": {},
   "outputs": [
    {
     "data": {
      "text/plain": [
       "('mean:', 1.1818181818181819, 'variance', 0.5948882767064585)"
      ]
     },
     "execution_count": 3,
     "metadata": {},
     "output_type": "execute_result"
    }
   ],
   "source": [
    "\"\"\"Q.6.\"\"\"\n",
    "def f_distribution(df1, df2):\n",
    "    mean = df2/(df2-2)\n",
    "    variance = (2 * (df2**2 * (df1 + df2 - 2))) / (df1 * (df2 - 2)**2 * (df2 - 4))\n",
    "    \n",
    "    return (\"mean:\", mean, \"variance\", variance)\n",
    "f_distribution(12, 13)"
   ]
  },
  {
   "cell_type": "code",
   "execution_count": null,
   "id": "dbcbb065-6bd0-4567-8f0b-290bd7aea6cd",
   "metadata": {},
   "outputs": [],
   "source": [
    "f_distribution(6, 9)"
   ]
  },
  {
   "cell_type": "code",
   "execution_count": 75,
   "id": "efc1c2c0-3ccb-4afd-a8af-265ac66385bc",
   "metadata": {},
   "outputs": [
    {
     "name": "stdout",
     "output_type": "stream",
     "text": [
      "Accept the null hypothesis and conclude variance are equal\n"
     ]
    }
   ],
   "source": [
    "\"\"\"Q.7.\"\"\"\n",
    "import scipy.stats as stat\n",
    "n1 = 10\n",
    "n2 = 15\n",
    "dof1 = n1-1\n",
    "dof2 = n2-1\n",
    "var_1 = 25\n",
    "var_2 = 20\n",
    "significance_value = 0.10\n",
    "f_value = var_1/var_2\n",
    "f_critical = stat.f.ppf(1-significance_value, dfn = dof1, dfd = dof2)\n",
    "if f_value > f_critical:\n",
    "    print(\"Reject the null hypothesis and conclude variance are not equal\")\n",
    "else:\n",
    "    print(\"Accept the null hypothesis and conclude variance are equal\")"
   ]
  },
  {
   "cell_type": "code",
   "execution_count": 76,
   "id": "147b967c-7775-4310-a219-b4c7516b2b02",
   "metadata": {},
   "outputs": [
    {
     "name": "stdout",
     "output_type": "stream",
     "text": [
      "Accept the null hypothesis and conclude variance are equal\n"
     ]
    }
   ],
   "source": [
    "\"\"\"Q.8.\"\"\"\n",
    "import scipy.stats as stat\n",
    "import numpy as np\n",
    "significance_value = 0.05\n",
    "ResturantA = [24,25,28,23,22,20,27]\n",
    "ResturantB = [31,33,35,30,32,36]\n",
    "dof1 = len(ResturantA) - 1\n",
    "dof2 = len(ResturantB) - 1\n",
    "sample_1 = np.array([ResturantA])\n",
    "sample_2 = np.array([ResturantB])\n",
    "f_value = np.var(sample_1)/np.var(sample_2)\n",
    "f_critical = stat.f.ppf(1-significance_value, dfn = dof1, dfd = dof2)\n",
    "if f_value > f_critical:\n",
    "    print(\"Reject the null hypothesis and conclude variance are not equal\")\n",
    "else:\n",
    "    print(\"Accept the null hypothesis and conclude variance are equal\")"
   ]
  },
  {
   "cell_type": "code",
   "execution_count": 77,
   "id": "db4a42eb-9a87-4c51-8cf7-81dbe5667c19",
   "metadata": {},
   "outputs": [
    {
     "name": "stdout",
     "output_type": "stream",
     "text": [
      "Accept the null hypothesis and conclude variance are equal\n"
     ]
    }
   ],
   "source": [
    "\"\"\"Q.9.\"\"\"\n",
    "import scipy.stats as stat\n",
    "import numpy as np\n",
    "significance_value = 0.01\n",
    "GroupA = [80,85,90,92,87,83]\n",
    "GroupB = [75,78,82,79,81,84]\n",
    "dof1 = len(GroupA) - 1\n",
    "dof2 = len(GroupB) - 1\n",
    "sample_1 = np.array([GroupA])\n",
    "sample_2 = np.array([GroupB])\n",
    "f_value = np.var(sample_1)/np.var(sample_2)\n",
    "f_critical = stat.f.ppf(1-significance_value, dfn = dof1, dfd = dof2)\n",
    "if f_value > f_critical:\n",
    "    print(\"Reject the null hypothesis and conclude variance are not equal\")\n",
    "else:\n",
    "    print(\"Accept the null hypothesis and conclude variance are equal\")"
   ]
  },
  {
   "cell_type": "code",
   "execution_count": null,
   "id": "ff908a0a-8877-4d40-b76d-f876c9701123",
   "metadata": {},
   "outputs": [],
   "source": []
  },
  {
   "cell_type": "code",
   "execution_count": null,
   "id": "933561da-4768-4bef-92dd-c0676b19a0be",
   "metadata": {},
   "outputs": [],
   "source": []
  }
 ],
 "metadata": {
  "kernelspec": {
   "display_name": "Python 3 (ipykernel)",
   "language": "python",
   "name": "python3"
  },
  "language_info": {
   "codemirror_mode": {
    "name": "ipython",
    "version": 3
   },
   "file_extension": ".py",
   "mimetype": "text/x-python",
   "name": "python",
   "nbconvert_exporter": "python",
   "pygments_lexer": "ipython3",
   "version": "3.10.8"
  }
 },
 "nbformat": 4,
 "nbformat_minor": 5
}
