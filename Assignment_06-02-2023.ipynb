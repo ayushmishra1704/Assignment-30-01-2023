{
 "cells": [
  {
   "cell_type": "code",
   "execution_count": 79,
   "id": "6b5e61a5-5593-4695-8314-5c0b2d80bbb6",
   "metadata": {},
   "outputs": [],
   "source": [
    "# Q.1 - Sol:\n",
    "list1 = [1,2,3,4, [44,55,66, True], False, (34,56,78,89,34), {1,2,3,3,2,1}, {1:34, \"key2\": [55, 67, 78, 89], 4: (45, \n",
    "    22, 61, 34)}, [56, 'data science'], 'Machine Learning']\n",
    "\n",
    "def func_list(a):   \n",
    "    product = 1\n",
    "    for i in a :\n",
    "        if type(i) == int:\n",
    "            product = product * i\n",
    "        elif type(i) == list  or type(i) == tuple  or type(i) == set:\n",
    "            for j in i:\n",
    "                if type(j) == int:\n",
    "                    product = product * j  \n",
    "        elif type(i) == dict:\n",
    "            print(i.keys())\n",
    "            print(i.values())\n",
    "            for j in i.keys():\n",
    "                if type(j) == int:\n",
    "                    product = product * j     \n",
    "            for k in i.values():\n",
    "                if type(k) == int:\n",
    "                    product = product * k \n",
    "                    for l in i.values():\n",
    "                        if type(l) == list or type(l) == tuple:\n",
    "                            for m in l:\n",
    "                                if type(m) == int:\n",
    "                                     product = product * m\n",
    "        else:\n",
    "            pass\n",
    "    return product"
   ]
  },
  {
   "cell_type": "code",
   "execution_count": 80,
   "id": "8756f45d-86dc-4994-9ea7-6e1d1b72e813",
   "metadata": {},
   "outputs": [
    {
     "name": "stdout",
     "output_type": "stream",
     "text": [
      "dict_keys([1, 'key2', 4])\n",
      "dict_values([34, [55, 67, 78, 89], (45, 22, 61, 34)])\n"
     ]
    },
    {
     "data": {
      "text/plain": [
       "4134711838987085478833841242112000"
      ]
     },
     "execution_count": 80,
     "metadata": {},
     "output_type": "execute_result"
    }
   ],
   "source": [
    "func_list(list1)"
   ]
  },
  {
   "cell_type": "code",
   "execution_count": 46,
   "id": "63bf072e-e8a6-4910-ad04-80169ebfdc53",
   "metadata": {},
   "outputs": [
    {
     "name": "stdout",
     "output_type": "stream",
     "text": [
      " i want to become a data scientist. \n",
      "$i$wznt$to$yexome$z$dztz$sxientist.$\n"
     ]
    }
   ],
   "source": [
    "#Q.2 Ans - \n",
    "s = \" I want to become a Data Scientist. \"\n",
    "s1 = s.lower()\n",
    "print(s1)\n",
    "s2 = s1.replace(\"a\", \"z\").replace(\"b\", \"y\").replace(\"c\", \"x\").replace(\" \",\"$\")\n",
    "print(s2)\n",
    "\n",
    " "
   ]
  },
  {
   "cell_type": "code",
   "execution_count": 52,
   "id": "57c517ca-a814-451b-b3c7-a90bd2c1f434",
   "metadata": {},
   "outputs": [
    {
     "name": "stdout",
     "output_type": "stream",
     "text": [
      " i want to become a data scientist. \n",
      "$i$wznt$to$yexome$z$dztz$sxientist.$\n"
     ]
    }
   ],
   "source": [
    "# or\n",
    "s = \" I want to become a Data Scientist. \"\n",
    "s1 = s.lower()\n",
    "print(s1)\n",
    "s2 = s1.translate(s1.maketrans(\"abc \", \"zyx$\"))\n",
    "print(s2)\n"
   ]
  },
  {
   "cell_type": "code",
   "execution_count": null,
   "id": "6aefca35-db00-4f4a-a5de-9f9533595f94",
   "metadata": {},
   "outputs": [],
   "source": []
  },
  {
   "cell_type": "code",
   "execution_count": null,
   "id": "1addd284-4dba-4023-86ba-aeb95dd47dd7",
   "metadata": {},
   "outputs": [],
   "source": []
  }
 ],
 "metadata": {
  "kernelspec": {
   "display_name": "Python 3 (ipykernel)",
   "language": "python",
   "name": "python3"
  },
  "language_info": {
   "codemirror_mode": {
    "name": "ipython",
    "version": 3
   },
   "file_extension": ".py",
   "mimetype": "text/x-python",
   "name": "python",
   "nbconvert_exporter": "python",
   "pygments_lexer": "ipython3",
   "version": "3.10.8"
  }
 },
 "nbformat": 4,
 "nbformat_minor": 5
}
