{
 "cells": [
  {
   "cell_type": "code",
   "execution_count": 14,
   "id": "487a7ec1-ab16-4fd9-bed4-cca4c4e8b9a5",
   "metadata": {},
   "outputs": [
    {
     "data": {
      "text/plain": [
       "[('Virat Kohli', 24396),\n",
       " ('Jack Kallis', 25534),\n",
       " ('Ricky Ponting', 27483),\n",
       " ('Sachin Tendulkar', 34357)]"
      ]
     },
     "execution_count": 14,
     "metadata": {},
     "output_type": "execute_result"
    }
   ],
   "source": [
    "# Q.1 Ans\n",
    "l = [('Sachin Tendulkar' , 34357), ('Ricky Ponting', 27483), ('Jack Kallis', 25534), ('Virat Kohli',24396)]\n",
    "l.sort(key = lambda y: y[1], reverse = False)\n",
    "l"
   ]
  },
  {
   "cell_type": "code",
   "execution_count": 11,
   "id": "f0aafce3-a1d4-4304-a5cd-ba9a3338c5e5",
   "metadata": {},
   "outputs": [
    {
     "name": "stdout",
     "output_type": "stream",
     "text": [
      "[('Virat Kohli', 24396), ('Jack Kallis', 25534), ('Ricky Ponting', 27483), ('Sachin Tendulkar', 34357)]\n"
     ]
    }
   ],
   "source": [
    "# Q.1 Ans\n",
    "l = [('Sachin Tendulkar' , 34357), ('Ricky Ponting', 27483), ('Jack Kallis', 25534), ('Virat Kohli',24396)]\n",
    "print(sorted(l, key = lambda y: y[1], reverse = False))\n"
   ]
  },
  {
   "cell_type": "code",
   "execution_count": 15,
   "id": "7efae736-24fc-4366-94a5-8202dde7dac3",
   "metadata": {},
   "outputs": [
    {
     "data": {
      "text/plain": [
       "[1, 4, 9, 16, 25, 36, 49, 64, 81, 100]"
      ]
     },
     "execution_count": 15,
     "metadata": {},
     "output_type": "execute_result"
    }
   ],
   "source": [
    "#Q.2. Ans\n",
    "l = [1,2,3,4,5,6,7,8,9,10]\n",
    "list(map(lambda y : y**2 , l))"
   ]
  },
  {
   "cell_type": "code",
   "execution_count": 48,
   "id": "b8867f4d-78c4-4cf1-a2de-08e5c0e41f61",
   "metadata": {},
   "outputs": [
    {
     "data": {
      "text/plain": [
       "(1, 2, 3, 4, 5, 6, 7, 8, 9, 10)"
      ]
     },
     "execution_count": 48,
     "metadata": {},
     "output_type": "execute_result"
    }
   ],
   "source": [
    "#Q.3. Ans\n",
    "l = [1,2,3,4,5,6,7,8,9,10]\n",
    "tuple(map(lambda y : y , l))"
   ]
  },
  {
   "cell_type": "code",
   "execution_count": 27,
   "id": "8b9d01a1-b685-40b9-828e-fe10c42c4e3c",
   "metadata": {},
   "outputs": [
    {
     "data": {
      "text/plain": [
       "15511210043330985984000000"
      ]
     },
     "execution_count": 27,
     "metadata": {},
     "output_type": "execute_result"
    }
   ],
   "source": [
    "#Q.4. Ans\n",
    "from functools import reduce\n",
    "l = [1,2,3,4,5,6,7,8,9,10,11,12,13,14,15,16,17,18,19,20,21,22,23,24,25]\n",
    "reduce(lambda y, i: y*i   , l)"
   ]
  },
  {
   "cell_type": "code",
   "execution_count": 39,
   "id": "1db272f5-6e48-435a-a9bc-56e7d510f26e",
   "metadata": {},
   "outputs": [
    {
     "data": {
      "text/plain": [
       "[6, 60, 90, 120]"
      ]
     },
     "execution_count": 39,
     "metadata": {},
     "output_type": "execute_result"
    }
   ],
   "source": [
    "#Q.5. Ans\n",
    "l = [2,3,6,9,27,60,90,120,55,46]\n",
    "list(filter(lambda y : y % 2 == 0 and y % 3 == 0, l))"
   ]
  },
  {
   "cell_type": "code",
   "execution_count": 52,
   "id": "66a47178-512f-42ef-acf0-b163100a7d07",
   "metadata": {},
   "outputs": [
    {
     "data": {
      "text/plain": [
       "['php', 'aba', 'radar', 'level']"
      ]
     },
     "execution_count": 52,
     "metadata": {},
     "output_type": "execute_result"
    }
   ],
   "source": [
    "#Q.6. Ans\n",
    "l = ['python','php','aba','radar','level']\n",
    "list(filter(lambda y : y == y[::-1] , l))"
   ]
  },
  {
   "cell_type": "code",
   "execution_count": null,
   "id": "f4803a19-abbb-4bd5-80f7-9a5f1d8ea093",
   "metadata": {},
   "outputs": [],
   "source": []
  },
  {
   "cell_type": "code",
   "execution_count": null,
   "id": "e0a0a483-26fc-4ada-b356-b9e568e128ec",
   "metadata": {},
   "outputs": [],
   "source": []
  }
 ],
 "metadata": {
  "kernelspec": {
   "display_name": "Python 3 (ipykernel)",
   "language": "python",
   "name": "python3"
  },
  "language_info": {
   "codemirror_mode": {
    "name": "ipython",
    "version": 3
   },
   "file_extension": ".py",
   "mimetype": "text/x-python",
   "name": "python",
   "nbconvert_exporter": "python",
   "pygments_lexer": "ipython3",
   "version": "3.10.8"
  }
 },
 "nbformat": 4,
 "nbformat_minor": 5
}
