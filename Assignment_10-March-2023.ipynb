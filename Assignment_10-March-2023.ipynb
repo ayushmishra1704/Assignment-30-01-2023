{
 "cells": [
  {
   "cell_type": "code",
   "execution_count": 1,
   "id": "d823ec12-050d-468c-9f2e-1999b2c006fe",
   "metadata": {},
   "outputs": [
    {
     "data": {
      "text/plain": [
       "'Q.1. Estimation Statistics is  the statistical analysis to have an observed numerical value to estimate the unknown population parameter. \\nThere are two type of estimate:\\n1. Point Estimate -  Single numerical value to estimate the unknown population parameter.\\n2. Interval Estimate - Range of values to estimate the unknown population parameter. \\n'"
      ]
     },
     "execution_count": 1,
     "metadata": {},
     "output_type": "execute_result"
    }
   ],
   "source": [
    "\"\"\"Q.1. Estimation Statistics is  the statistical analysis to have an observed numerical value to estimate the unknown population parameter. \n",
    "There are two type of estimate:\n",
    "1. Point Estimate -  Single numerical value to estimate the unknown population parameter.\n",
    "2. Interval Estimate - Range of values to estimate the unknown population parameter. \n",
    "\"\"\""
   ]
  },
  {
   "cell_type": "code",
   "execution_count": 3,
   "id": "a8dc9073-b3b7-4e90-8cf1-54060de9c171",
   "metadata": {},
   "outputs": [
    {
     "name": "stdout",
     "output_type": "stream",
     "text": [
      "The mean lies within:  {3.040036015459946, 6.959963984540054}\n"
     ]
    }
   ],
   "source": [
    "\"\"\"Q.2.\"\"\"\n",
    "import scipy.stats as stat\n",
    "import numpy as np\n",
    "sample_mean = 5\n",
    "sample_standard_deviation = 6\n",
    "n = 36\n",
    "sig_value = 0.05\n",
    "sig_value_2 = 0.05/2\n",
    "zscore = stat.norm.ppf(1-sig_value_2)\n",
    "root_n = np.sqrt(n)\n",
    "upper_bound = sample_mean + (zscore*(sample_standard_deviation/root_n))\n",
    "lower_bound = sample_mean - (zscore*(sample_standard_deviation/root_n))\n",
    "print(\"The mean lies within: \", {lower_bound , upper_bound})"
   ]
  },
  {
   "cell_type": "code",
   "execution_count": null,
   "id": "535f0d92-f0ae-47e9-bceb-16106e63254b",
   "metadata": {},
   "outputs": [],
   "source": [
    "\"\"\"Q.3. Hypothesis testing is a statistical method used to make inferences from sample data to get to know about population data.\n",
    "Hypothesis testig is used to get to know about population parameters(mean, standard deviation, etc) from sample parameters(sample mean, sample standard deviation, etc).\n",
    "Importance of Hypothesis testing-:\n",
    "1. Quality Control.\n",
    "2. Statistical Inerence.\n",
    "3. Policy Evaluation by Ministry of Finance.\n",
    "4. Exit Polls for election.\n",
    "5. Scientific study on health data of population by health ministry.\n",
    "6. Data driven decision making.\n",
    "\"\"\""
   ]
  },
  {
   "cell_type": "code",
   "execution_count": 2,
   "id": "3fd12e1e-bf92-4101-82cd-62634f2a471d",
   "metadata": {},
   "outputs": [
    {
     "data": {
      "text/plain": [
       "74.0"
      ]
     },
     "execution_count": 2,
     "metadata": {},
     "output_type": "execute_result"
    }
   ],
   "source": [
    "\"\"\"Q.4. \n",
    "1. Null Hypothesis H0 : Average weight of male college students is smaller than or equal to\n",
    "   the average weight of female college students.\n",
    "2. Alternate Hypothesis H1 : Average weight of male college students is greater than\n",
    "   the average weight of female college students.\n",
    "\"\"\""
   ]
  },
  {
   "cell_type": "code",
   "execution_count": 1,
   "id": "1a57416a-ab42-40ce-b138-dc1d517a75e3",
   "metadata": {},
   "outputs": [],
   "source": [
    "\"\"\"Q.5. \n",
    "\"\"\"\n",
    "import numpy as np\n",
    "import scipy.stats as stat\n",
    "weight_F = [45,56,65,56,67]\n",
    "weight_M = [78,76,75,74,67]\n",
    "dof_F = len(weight_F) - 1\n",
    "dof_M = len(weight_M) - 1\n",
    "sig_value = 0.05\n",
    "Mean_F = np.mean(weight_F)\n",
    "Mean_M = np.mean(weight_M)\n",
    "Var_F = np.var(weight_F)\n",
    "Var_M = np.var(weight_M)\n",
    "num = Mean_F - Mean_M\n",
    "den = np.sqrt((Var_F/len(weight_F))+(Var_M/len(weight_M)))\n",
    "t_value = num/den\n",
    "t_critical = stat.t.ppf(1-sig_value, dof_F)"
   ]
  },
  {
   "cell_type": "code",
   "execution_count": 2,
   "id": "9a8b3f3b-1cc6-4db9-8e31-5545b0acd2f2",
   "metadata": {},
   "outputs": [
    {
     "name": "stdout",
     "output_type": "stream",
     "text": [
      "Reject the null Hypothesis and conclude there is a difference between means\n"
     ]
    }
   ],
   "source": [
    "if t_value > t_critical :\n",
    "    print(\"Reject the null Hypothesis and conclude there is a difference between means\")\n",
    "elif t_value < -1*(t_critical) :\n",
    "    print(\"Reject the null Hypothesis and conclude there is a difference between means\")\n",
    "else:\n",
    "    print(\"Accept the null Hypothesis and conclude there is no difference between means\")"
   ]
  },
  {
   "cell_type": "code",
   "execution_count": 32,
   "id": "b99a7b91-73c4-48aa-8461-ae4992c16ba8",
   "metadata": {},
   "outputs": [
    {
     "data": {
      "text/plain": [
       "'Q.6. Null Hypothesis -> The hypothesis which is assumed as default  or the assumption we are beginning with. \\nIt represent a statement of no effect or difference.\\nAlternate Hypothesis -> This is the opposite of Null Hypothesis. It represent a statement with significant difference.\\ne.g.\\n1. Suppose a criminal has come for trial in a court.\\nDefault Hypothesis H0 : He is not guilty until proven.\\nAlternate Hypothesis H1 : He is guilty.\\n2. Suppose we want to compare height of female and male students and state whether the average height of male students is greater than female students.\\nDefault Hypothesis H0 : Average height of female students is equal to average height of male students.\\nAlternate Hypothesis H1 : Average height of female students is not equal to average height of male students.\\n'"
      ]
     },
     "execution_count": 32,
     "metadata": {},
     "output_type": "execute_result"
    }
   ],
   "source": [
    "\"\"\"Q.6. Null Hypothesis -> The hypothesis which is assumed as default  or the assumption we are beginning with. \n",
    "It represent a statement of no effect or difference.\n",
    "Alternate Hypothesis -> This is the opposite of Null Hypothesis. It represent a statement with significant difference.\n",
    "e.g.\n",
    "1. Suppose a criminal has come for trial in a court.\n",
    "Default Hypothesis H0 : He is not guilty until proven.\n",
    "Alternate Hypothesis H1 : He is guilty.\n",
    "2. Suppose we want to compare height of female and male students and state whether the average height of male students is greater than female students.\n",
    "Default Hypothesis H0 : Average height of female students is equal to average height of male students.\n",
    "Alternate Hypothesis H1 : Average height of female students is not equal to average height of male students.\n",
    "\"\"\""
   ]
  },
  {
   "cell_type": "code",
   "execution_count": 33,
   "id": "086ae627-fbfb-43a8-9c4a-b4f50e003c13",
   "metadata": {},
   "outputs": [
    {
     "data": {
      "text/plain": [
       "'Q.7. Steps involved in hypothesis testing-:\\n1. Formulate Hypothesis: Two hypothesis are formulated-\\nNull Hypothesis H0 : It represent a statement with no difference. It is the default assumption.\\nAlternate Hypothesis H1 :  It represent a statement with a significant difference.\\n2. Experiment : Do a proper statistical analysis to find out a calculated value after doing test statistics.\\n3. Decison boundary: Compare statisticaly calculated test value with critical value(from a table after taking significance value and degree of freedom for same cases.)\\n4. Conclusion: If calculated value is less than critical value, accept the null hypotheis, else reject the null hypothesis.\\n'"
      ]
     },
     "execution_count": 33,
     "metadata": {},
     "output_type": "execute_result"
    }
   ],
   "source": [
    "\"\"\"Q.7. Steps involved in hypothesis testing-:\n",
    "1. Formulate Hypothesis: Two hypothesis are formulated-\n",
    "Null Hypothesis H0 : It represent a statement with no difference. It is the default assumption.\n",
    "Alternate Hypothesis H1 :  It represent a statement with a significant difference.\n",
    "2. Experiment : Do a proper statistical analysis to find out a calculated value after doing test statistics.\n",
    "3. Decison boundary: Compare statisticaly calculated test value with critical value(from a table after taking significance value and degree of freedom for same cases.)\n",
    "4. Conclusion: If calculated value is less than critical value, accept the null hypotheis, else reject the null hypothesis.\n",
    "\"\"\""
   ]
  },
  {
   "cell_type": "code",
   "execution_count": 34,
   "id": "ef2773a4-9b64-4fe3-bd21-354f9370d616",
   "metadata": {},
   "outputs": [
    {
     "data": {
      "text/plain": [
       "'Q.8. P value is a numerical value used in statistical testing to decide whether to accept or reject the null hypothesis.\\nP value is a numerical value calculated from a statistical  test that describes how a particular set of observations would be if the null hypothesis were true.\\nSignificance in Hypotheis testing-:\\n1. Compared with significance value to decide whether to reject or accept the null hypothesis.\\n2. Used in t-test .\\n3. Used in comparision of means.\\n4. Used in cases when population variance is not known.\\n5. Interpretation of results.\\n6. Quantifying evidence.\\n'"
      ]
     },
     "execution_count": 34,
     "metadata": {},
     "output_type": "execute_result"
    }
   ],
   "source": [
    "\"\"\"Q.8. P value is a numerical value used in statistical testing to decide whether to accept or reject the null hypothesis.\n",
    "P value is a numerical value calculated from a statistical  test that describes how a particular set of observations would be if the null hypothesis were true.\n",
    "Significance in Hypotheis testing-:\n",
    "1. Compared with significance value to decide whether to reject or accept the null hypothesis.\n",
    "2. Used in t-test .\n",
    "3. Used in comparision of means.\n",
    "4. Used in cases when population variance is not known.\n",
    "5. Interpretation of results.\n",
    "6. Quantifying evidence.\n",
    "\"\"\""
   ]
  },
  {
   "cell_type": "code",
   "execution_count": 35,
   "id": "cc041527-0d87-4ae1-9faa-194991555163",
   "metadata": {},
   "outputs": [
    {
     "data": {
      "text/plain": [
       "Text(0, 0.5, 'pdf')"
      ]
     },
     "execution_count": 35,
     "metadata": {},
     "output_type": "execute_result"
    },
    {
     "data": {
      "image/png": "[encoded data removed]",
      "text/plain": [
       "<Figure size 640x480 with 1 Axes>"
      ]
     },
     "metadata": {},
     "output_type": "display_data"
    }
   ],
   "source": [
    "\"\"\"Q.9.\n",
    "\"\"\"\n",
    "import scipy.stats as stat\n",
    "import numpy as np\n",
    "import matplotlib.pyplot as plt\n",
    "significance_value  = 0.05\n",
    "dof = 10 \n",
    "x = np.linspace(-4,4,10)\n",
    "pdf = stat.t.pdf(x,dof)\n",
    "plt.plot(x,pdf)\n",
    "plt.title(\"Student t distibution\")\n",
    "plt.xlabel(\"x axis\")\n",
    "plt.ylabel(\"pdf\")"
   ]
  },
  {
   "cell_type": "code",
   "execution_count": 3,
   "id": "2476e84a-e5a9-4530-bf3a-043a4c14000a",
   "metadata": {},
   "outputs": [],
   "source": [
    "\"\"\"Q.10.\"\"\"\n",
    "import numpy as np\n",
    "import scipy.stats as stat\n",
    "weight_F = [45,56,65,56,67]\n",
    "weight_M = [78,76,75,74,67]\n",
    "dof_F = len(weight_F) - 1\n",
    "dof_M = len(weight_M) - 1\n",
    "sig_value = 0.05\n",
    "Mean_F = np.mean(weight_F)\n",
    "Mean_M = np.mean(weight_M)\n",
    "Var_F = np.var(weight_F)\n",
    "Var_M = np.var(weight_M)\n",
    "num = Mean_F - Mean_M\n",
    "den = np.sqrt((Var_F/len(weight_F))+(Var_M/len(weight_M)))\n",
    "t_value = num/den\n",
    "t_critical = stat.t.ppf(1-sig_value, dof_F)"
   ]
  },
  {
   "cell_type": "code",
   "execution_count": 4,
   "id": "ed0cf17f-5123-407a-8e28-6510f09cd849",
   "metadata": {},
   "outputs": [
    {
     "name": "stdout",
     "output_type": "stream",
     "text": [
      "Reject the null hypothesis and conclude that there is a difference between mean of 2 population\n"
     ]
    }
   ],
   "source": [
    "if t_value > t_critical:\n",
    "    print(\"Reject the null hypothesis and conclude that there is a difference between mean of 2 population\")\n",
    "elif t_value < (-t_critical):\n",
    "    print(\"Reject the null hypothesis and conclude that there is a difference between mean of 2 population\")\n",
    "else:\n",
    "    print(\"Accept the null hypothesis and conclude that there is no difference between mean of 2 population\")"
   ]
  },
  {
   "cell_type": "code",
   "execution_count": 39,
   "id": "9451b721-a6dc-4548-b647-b43e6925711d",
   "metadata": {},
   "outputs": [
    {
     "data": {
      "text/plain": [
       "\"Q.11. Student's t distribution is a statitical analysis used to calculate a t_value to compare with a critical value(from t_table) to know about population parameter from sample parameter.\\nThis analysis is used to compare mean of 2 different samples.\\nThis analysis is used when population variance is not known.\\nThis anaylsis is used also in cases when population variance is known but number of samples is less than 30. \\n\""
      ]
     },
     "execution_count": 39,
     "metadata": {},
     "output_type": "execute_result"
    }
   ],
   "source": [
    "\"\"\"Q.11. Student's t distribution is a statitical analysis used to calculate a t_value to compare with a critical value(from t_table) to know about population parameter from sample parameter.\n",
    "This analysis is used to compare mean of 2 different samples.\n",
    "This analysis is used when population variance is not known.\n",
    "This anaylsis is used also in cases when population variance is known but number of samples is less than 30. \n",
    "\"\"\""
   ]
  },
  {
   "cell_type": "code",
   "execution_count": 40,
   "id": "d117b63b-e57f-4ef9-922a-d6b2ae24fe33",
   "metadata": {},
   "outputs": [
    {
     "data": {
      "text/plain": [
       "\"Q.12.t-statistic is a statistical method used in hypothesis testing to know about population parameter when variance is not known from sample parameter.\\nt-value is calculated from sample parameters and population mean and it is compared with t_critical from t table, later a conclusion is formed whether to reject or accept the null hypothesis.\\nformula for t value is ((x' - mu)/(s/sqrt(n))).\\nwhere x' = mean of sample\\ns = standard deviation of sample.\\nmu = mean of population\\nn = number of samples\\nfor t value to compare 2 mean of 2 different samples is given by\\n(x1' + x2)/sqrt((var1/n1) + (var2/n2))\\n\""
      ]
     },
     "execution_count": 40,
     "metadata": {},
     "output_type": "execute_result"
    }
   ],
   "source": [
    "\"\"\"Q.12.t-statistic is a statistical method used in hypothesis testing to know about population parameter when variance is not known from sample parameter.\n",
    "t-value is calculated from sample parameters and population mean and it is compared with t_critical from t table, later a conclusion is formed whether to reject or accept the null hypothesis.\n",
    "formula for t value is ((x' - mu)/(s/sqrt(n))).\n",
    "where x' = mean of sample\n",
    "s = standard deviation of sample.\n",
    "mu = mean of population\n",
    "n = number of samples\n",
    "for t value to compare 2 mean of 2 different samples is given by\n",
    "(x1' + x2)/sqrt((var1/n1) + (var2/n2))\n",
    "\"\"\""
   ]
  },
  {
   "cell_type": "code",
   "execution_count": 41,
   "id": "129e8f1a-ea9a-45f8-bd95-7c31c64a9aea",
   "metadata": {},
   "outputs": [
    {
     "name": "stdout",
     "output_type": "stream",
     "text": [
      "The range of population mean is between 486.1409617565032 and 513.8590382434968\n"
     ]
    }
   ],
   "source": [
    "\"\"\"Q.13. \n",
    "alpha= 0.05\n",
    "x' = 500$\n",
    "standard_deviation = 50$\n",
    "n = 50 days\n",
    "Upper CI = x' + (z(alpha/2) * (standard_deviation/square_root(n)))\n",
    "Lower CI = x' - (z(alpha/2) * (standard_deviation/square_root(n)))\n",
    "The range of mean is between 513.8590382434968 and 486.1409617565032\n",
    "\"\"\"\n",
    "import numpy as np\n",
    "import scipy.stats as stat\n",
    "alpha= 0.05\n",
    "x_mean = 500\n",
    "standard_deviation = 50\n",
    "n = 50\n",
    "sig_value_2 = alpha/2\n",
    "z_score = stat.norm.ppf(1- sig_value_2)\n",
    "square_root = np.sqrt(n)\n",
    "Upper_CI =  x_mean + (z_score*(standard_deviation/square_root))\n",
    "Lower_CI =  x_mean - (z_score*(standard_deviation/square_root))\n",
    "print(f\"The range of population mean is between {Lower_CI} and {Upper_CI}\")"
   ]
  },
  {
   "cell_type": "code",
   "execution_count": 42,
   "id": "f417cf08-eec7-457c-8e5e-96180290fe49",
   "metadata": {},
   "outputs": [],
   "source": [
    "\"\"\"Q.14. \n",
    "mu = 10 mm\n",
    "x' = 8 mm\n",
    "significance_value = 0.05\n",
    "standard deviation = 3 mm\n",
    "n = 100\n",
    "1. Null Hypothesis: New drug decreases the blood pressure by an average of 10 mm Hg.\n",
    "2. Alternate Hypothesis : New drug doesn't decrease the blood pressure by an average of 10 mm Hg.\n",
    "3. Experiment : z_score = (x' - mu)/(standard_deviation/square_root(n))\n",
    "z_score = -6.66\n",
    "z_critical_value = 1.64\n",
    "Since z_score < -(z_critical_value), we reject the null hypothesis\n",
    "\"\"\"\n",
    "import numpy as np\n",
    "import scipy.stats as stat\n",
    "mu = 10 \n",
    "x_mean = 8\n",
    "significance_value = 0.05\n",
    "standard_deviation = 3\n",
    "n = 100\n",
    "z_critical = stat.norm.ppf(1-significance_value)\n",
    "square_root = np.sqrt(n)\n",
    "z_score = (x_mean - mu)/(standard_deviation/square_root)"
   ]
  },
  {
   "cell_type": "code",
   "execution_count": 43,
   "id": "1b7e582c-91b6-4b52-9912-db79dc909eb7",
   "metadata": {},
   "outputs": [
    {
     "name": "stdout",
     "output_type": "stream",
     "text": [
      "Reject the null hypothesis and conclude that new drug doesn't decrease the blood pressure by an average of 10 mm Hg.\n"
     ]
    }
   ],
   "source": [
    "if z_score > z_critical:\n",
    "    print(\"Reject the null hypothesis and conclude that new drug doesn't decrease the blood pressure by an average of 10 mm Hg.\")\n",
    "elif z_score < (-1)*(z_critical):\n",
    "    print(\"Reject the null hypothesis and conclude that new drug doesn't decrease the blood pressure by an average of 10 mm Hg.\")\n",
    "else:\n",
    "     print(\"Accept the null hypothesis and conclude that new drug decrease the blood pressure by an average of 10 mm Hg.\")"
   ]
  },
  {
   "cell_type": "code",
   "execution_count": 44,
   "id": "53da5661-8963-45b4-b1f3-3be07ae75cfa",
   "metadata": {},
   "outputs": [],
   "source": [
    "\"\"\"Q.15. \n",
    "mu = 5 pounds\n",
    "x' = 4.8 pounds\n",
    "significance_value = 0.01\n",
    "standard_deviation = 0.5 pounds\n",
    "n = 25\n",
    "1. Null Hypothesis: True mean weight of the product is equal to 5 pounds.\n",
    "2. Alternate Hypothesis : True mean weight of the product is less than 5 pounds.\n",
    "3. Experiment : t_value = (x' - mu)/(standard_deviation/square_root(n))\n",
    "t_value = -6.66\n",
    "t_critical_value = 1.64\n",
    "Since t_value < -(t_critical_value), we accept the null hypothesis and conclude that true mean weight of the product is equal to 5 pounds.\"\"\"\n",
    "import numpy as np\n",
    "import scipy.stats as stat\n",
    "mu = 5\n",
    "x_mean = 4.8 \n",
    "significance_value = 0.01\n",
    "standard_deviation = 0.5 \n",
    "n = 25\n",
    "dof = n-1\n",
    "t_critical = stat.t.ppf(1-significance_value, dof)\n",
    "square_root = np.sqrt(n)\n",
    "t_value = (x_mean - mu)/(standard_deviation/square_root)"
   ]
  },
  {
   "cell_type": "code",
   "execution_count": 45,
   "id": "2458ed9d-b704-4214-9037-a60b95da8e31",
   "metadata": {},
   "outputs": [
    {
     "name": "stdout",
     "output_type": "stream",
     "text": [
      "Accept the null hypothesis and conclude that true mean weight of the product is equal to 5 pounds.\n"
     ]
    }
   ],
   "source": [
    "if t_value > t_critical:\n",
    "    print(\"Reject the null hypothesis and conclude that true mean weight of the product is less than 5 pounds.\")\n",
    "elif t_value < (-1)*(t_critical):\n",
    "    print(\"Reject the null hypothesis and conclude that true mean weight of the product is less than 5 pounds.\")\n",
    "else:\n",
    "     print(\"Accept the null hypothesis and conclude that true mean weight of the product is equal to 5 pounds.\")"
   ]
  },
  {
   "cell_type": "code",
   "execution_count": 56,
   "id": "2fb36df9-f0f4-437e-a5ad-66dc74f6504b",
   "metadata": {},
   "outputs": [
    {
     "data": {
      "text/plain": [
       "2.4620213601503833"
      ]
     },
     "execution_count": 56,
     "metadata": {},
     "output_type": "execute_result"
    }
   ],
   "source": [
    "\"\"\"Q.16.\n",
    "n1 = 30\n",
    "mean_1 = 80\n",
    "standard_deviation_1 =  10\n",
    "n2 = 40\n",
    "mean_2 = 75\n",
    "standard_deviation_2 =  8\n",
    "significance_value = 0.01\n",
    "\"\"\"\n",
    "import numpy as np\n",
    "import scipy.stats as stat\n",
    "n1 = 30\n",
    "mean_1 = 80\n",
    "standard_deviation_1 =  10\n",
    "n2 = 40\n",
    "mean_2 = 75\n",
    "standard_deviation_2 =  8\n",
    "significance_value = 0.01\n",
    "dof = n1+n2-2\n",
    "t_critical = stat.t.ppf(1-significance_value,dof1)\n",
    "num = (mean_1-mean_2)\n",
    "den = (((standard_deviation_1**2)/(n1**2))+((standard_deviation_2**2)/n2**2))\n",
    "t_value = num/den\n",
    "t_critical = stat.t.ppf(1-significance_value, dof)\n",
    "if t_value > t_critical:\n",
    "    print(\"Reject the null hypothesis and conclude that mean of 2 samples are not equal.\")\n",
    "elif t_value < (-1)*(t_critical):\n",
    "    print(\"Reject the null hypothesis and conclude that true mean weight of the product is less than 5 pounds.\")\n",
    "else:\n",
    "     print(\"Accept the null hypothesis and conclude that true mean weight of the product is equal to 5 pounds.\")"
   ]
  },
  {
   "cell_type": "code",
   "execution_count": null,
   "id": "eb799262-f4d3-4cba-b4fc-3bf401c2422e",
   "metadata": {},
   "outputs": [],
   "source": []
  },
  {
   "cell_type": "code",
   "execution_count": null,
   "id": "4e9a9fed-0265-4529-99cf-670995762838",
   "metadata": {},
   "outputs": [],
   "source": []
  },
  {
   "cell_type": "code",
   "execution_count": 53,
   "id": "b5ae5eb6-775e-42af-957e-49c698ac50ac",
   "metadata": {},
   "outputs": [
    {
     "name": "stdout",
     "output_type": "stream",
     "text": [
      "The range of population mean is between 3.4535840896844654 and 4.546415910315535\n"
     ]
    }
   ],
   "source": [
    "\"\"\"Q.17.\n",
    "n = 50\n",
    "sample_mean = 4\n",
    "significance_value = 0.01\n",
    "significance_value_2 = significance_value/2\n",
    "sample_standard_deviation = 1.5\n",
    "z_score(from table) = 2.57\n",
    "CI_mean_Upper = sample_mean + z_score*(sample_standard_deviation/square_root(n))\n",
    "CI_mean_Lower = sample_mean - z_score*(sample_standard_deviation/square_root(n))\n",
    "The range of population mean is between 3.4535840896844654 and 4.546415910315535.\n",
    "\"\"\"\n",
    "import numpy as np\n",
    "import scipy.stats as stat\n",
    "n = 50\n",
    "sample_mean = 4\n",
    "significance_value = 0.01\n",
    "significance_value_2 = significance_value/2\n",
    "sample_standard_deviation = 1.5\n",
    "z_score = stat.norm.ppf(1-significance_value_2)\n",
    "square_root = np.sqrt(n)\n",
    "CI_mean_Upper = sample_mean + z_score*(sample_standard_deviation/square_root)\n",
    "CI_mean_Lower = sample_mean - z_score*(sample_standard_deviation/square_root)\n",
    "print(f\"The range of population mean is between {CI_mean_Lower} and {CI_mean_Upper}\")"
   ]
  },
  {
   "cell_type": "code",
   "execution_count": null,
   "id": "3ab6a3a5-ccf7-42f0-beac-581d33923353",
   "metadata": {},
   "outputs": [],
   "source": []
  },
  {
   "cell_type": "code",
   "execution_count": null,
   "id": "c923eff0-5f0b-46c2-afef-b7bae3549b84",
   "metadata": {},
   "outputs": [],
   "source": []
  }
 ],
 "metadata": {
  "kernelspec": {
   "display_name": "Python 3 (ipykernel)",
   "language": "python",
   "name": "python3"
  },
  "language_info": {
   "codemirror_mode": {
    "name": "ipython",
    "version": 3
   },
   "file_extension": ".py",
   "mimetype": "text/x-python",
   "name": "python",
   "nbconvert_exporter": "python",
   "pygments_lexer": "ipython3",
   "version": "3.10.8"
  }
 },
 "nbformat": 4,
 "nbformat_minor": 5
}
