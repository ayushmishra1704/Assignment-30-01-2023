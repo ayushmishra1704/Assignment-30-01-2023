{
 "cells": [
  {
   "cell_type": "code",
   "execution_count": 1,
   "id": "c8c24d91-201a-424e-915b-1f2025362c0f",
   "metadata": {},
   "outputs": [],
   "source": [
    "#Q.1.\n",
    "\"Open() function is used to open a file in python \"\n",
    "\"\"\"Different modes of opening a file are:\n",
    "\"w\" - opening the file for writing .Create a new file if it doesnt exist or truncate the file if it exists\n",
    "\"a\" - opening the file for writing and appending to the end of file without truncating it. Operation fails if file already exists\n",
    "\"r\" - opening the file for reading\n",
    "\"x\" - opening a file for exclusive creation, if the file already exists operation fails\n",
    "\"b\" - opening the file in binary mode\n",
    "\"t\" - opening the file in text mode\n",
    "\"+\" - opening a file for updating\n",
    "\"U\" - Universal newline mode(depricated mode)\n",
    "\"\"\"\n",
    "with open(\"text123.txt\", \"w\") as f:\n",
    "    f.write(\"This is the next file to write\")\n",
    "f.close()"
   ]
  },
  {
   "cell_type": "code",
   "execution_count": 2,
   "id": "a7559222-d6e8-4ed0-aa28-a22e0e2a4c66",
   "metadata": {},
   "outputs": [
    {
     "data": {
      "text/plain": [
       "' Close() -  it closes the opened file. \\nClosing a file is important because:\\n1. In cases of buffering changes made to a file may not  be shown until file is closed\\n2. It frees the file to be returned by future open() calls\\n3. Closing a file isimportant because it saves the file from unwanted opening, modification and access.\\n'"
      ]
     },
     "execution_count": 2,
     "metadata": {},
     "output_type": "execute_result"
    }
   ],
   "source": [
    "#Q.2.\n",
    "\"\"\" Close() -  it closes the opened file. \n",
    "Closing a file is important because:\n",
    "1. In cases of buffering changes made to a file may not  be shown until file is closed\n",
    "2. It frees the file to be returned by future open() calls\n",
    "3. Closing a file isimportant because it saves the file from unwanted opening, modification and access.\n",
    "\"\"\" "
   ]
  },
  {
   "cell_type": "code",
   "execution_count": 12,
   "id": "3d7c57ea-dfd9-4264-800c-140d41d60374",
   "metadata": {},
   "outputs": [
    {
     "ename": "SyntaxError",
     "evalue": "invalid syntax (3806765318.py, line 2)",
     "output_type": "error",
     "traceback": [
      "\u001b[0;36m  Cell \u001b[0;32mIn[12], line 2\u001b[0;36m\u001b[0m\n\u001b[0;31m    f =  open(\"file.txt\", \"w\"):\u001b[0m\n\u001b[0m                              ^\u001b[0m\n\u001b[0;31mSyntaxError\u001b[0m\u001b[0;31m:\u001b[0m invalid syntax\n"
     ]
    }
   ],
   "source": [
    "#Q.3. - Writing in a file\n",
    "f =  open(\"file.txt\", \"w\"):\n",
    "    f.write(\"I want to become a data scientist\")\n",
    "f.close()"
   ]
  },
  {
   "cell_type": "code",
   "execution_count": 13,
   "id": "a56b4a1e-2aa5-4947-927c-8fee0cc7d467",
   "metadata": {},
   "outputs": [
    {
     "name": "stdout",
     "output_type": "stream",
     "text": [
      "I want to become a data scientist\n"
     ]
    }
   ],
   "source": [
    "with open(\"file.txt\", \"r\") as data:\n",
    "    print(data.read())"
   ]
  },
  {
   "cell_type": "code",
   "execution_count": 14,
   "id": "65bc20f6-36e9-482f-8212-91cc38682b2a",
   "metadata": {},
   "outputs": [
    {
     "name": "stdout",
     "output_type": "stream",
     "text": [
      "I want to become a data scientist\n"
     ]
    }
   ],
   "source": [
    "#Q.4. - read() - opening a file and Reading from that file all the data at once\n",
    "with open(\"file.txt\", \"r\") as data:\n",
    "    print(data.read())"
   ]
  },
  {
   "cell_type": "code",
   "execution_count": 15,
   "id": "1ba9b6d7-5dd9-4916-aa2f-5936e2e357a1",
   "metadata": {},
   "outputs": [],
   "source": [
    "with open(\"file1.txt\", \"w\") as f1:\n",
    "    f1.write(\"Data Science Masters course is highly curated and uniquely designed according to the latest industry standards. This program instills students the skills essential to knowledge discovery efforts to identify standard, novel, and truly differentiated solutions and decision-making, including skills in managing, querying, analyzing, visualizing, and extracting meaning from extremely large data sets. This trending program provides students with the statistical, mathematical and computational skills needed to meet the large-scale data science challenges of today's professional world. You will learn all the stack required to work in data science industry including cloud infrastructure and real-time industry projects. This course will be taught in Hindi language.\")"
   ]
  },
  {
   "cell_type": "code",
   "execution_count": 16,
   "id": "e54b2e7e-a004-4e43-8432-b3e4569a012c",
   "metadata": {},
   "outputs": [
    {
     "data": {
      "text/plain": [
       "\"Data Science Masters course is highly curated and uniquely designed according to the latest industry standards. This program instills students the skills essential to knowledge discovery efforts to identify standard, novel, and truly differentiated solutions and decision-making, including skills in managing, querying, analyzing, visualizing, and extracting meaning from extremely large data sets. This trending program provides students with the statistical, mathematical and computational skills needed to meet the large-scale data science challenges of today's professional world. You will learn all the stack required to work in data science industry including cloud infrastructure and real-time industry projects. This course will be taught in Hindi language.\""
      ]
     },
     "execution_count": 16,
     "metadata": {},
     "output_type": "execute_result"
    }
   ],
   "source": [
    "data1 = open(\"file1.txt\", \"r\")\n",
    "data1.read()"
   ]
  },
  {
   "cell_type": "code",
   "execution_count": 17,
   "id": "b868302b-a087-44ae-9d39-38da4a2a261b",
   "metadata": {},
   "outputs": [
    {
     "data": {
      "text/plain": [
       "''"
      ]
     },
     "execution_count": 17,
     "metadata": {},
     "output_type": "execute_result"
    }
   ],
   "source": [
    "# readline() - read data line by line from a file . It return a line from the file when called It takes the help of a seek function(which takes line number as input) to read data line by line.\n",
    "data1.readline()"
   ]
  },
  {
   "cell_type": "code",
   "execution_count": 18,
   "id": "be1d9831-cbb8-4be9-b207-e8323602e6bf",
   "metadata": {},
   "outputs": [
    {
     "data": {
      "text/plain": [
       "14"
      ]
     },
     "execution_count": 18,
     "metadata": {},
     "output_type": "execute_result"
    }
   ],
   "source": [
    "data1.seek(14)"
   ]
  },
  {
   "cell_type": "code",
   "execution_count": 19,
   "id": "02c7fe57-8180-4dde-b828-b6b25c0078ed",
   "metadata": {},
   "outputs": [
    {
     "data": {
      "text/plain": [
       "[\"asters course is highly curated and uniquely designed according to the latest industry standards. This program instills students the skills essential to knowledge discovery efforts to identify standard, novel, and truly differentiated solutions and decision-making, including skills in managing, querying, analyzing, visualizing, and extracting meaning from extremely large data sets. This trending program provides students with the statistical, mathematical and computational skills needed to meet the large-scale data science challenges of today's professional world. You will learn all the stack required to work in data science industry including cloud infrastructure and real-time industry projects. This course will be taught in Hindi language.\"]"
      ]
     },
     "execution_count": 19,
     "metadata": {},
     "output_type": "execute_result"
    }
   ],
   "source": [
    "# Return all the lines from a file in the format of a list where each element corresponds to a line from the list. \n",
    "data1.readlines()"
   ]
  },
  {
   "cell_type": "code",
   "execution_count": 20,
   "id": "131588c9-b841-4755-95e5-2771272b5231",
   "metadata": {},
   "outputs": [
    {
     "data": {
      "text/plain": [
       "15"
      ]
     },
     "execution_count": 20,
     "metadata": {},
     "output_type": "execute_result"
    }
   ],
   "source": [
    "data1.seek(15)"
   ]
  },
  {
   "cell_type": "code",
   "execution_count": 21,
   "id": "6e7db4e6-280f-4292-994b-ec8820c939a5",
   "metadata": {},
   "outputs": [],
   "source": [
    "#Q.5\n",
    "\"\"\"To open a file we use open() function, we declare a variable for open() funnction to use the open function. \n",
    "To close the file we use close() methood.\n",
    "With statement along with open() closes the file after operation is done without we telling it to. It calls 2 dunder method __enter__ and __exit__. __exit__ method closes the file wthen operation is done.\"\"\"\n",
    "\"\"\"Advantage of using with statement and open() together is:\n",
    "1. It makes the code cleaner and readable.\n",
    "2. There is no need to call file.close() when using with statement. It closes the file after operation.\n",
    "3. An exception during first file.write() call can prevent it from closing which may introduce several bugs.\n",
    "\"\"\""
   ]
  },
  {
   "cell_type": "code",
   "execution_count": null,
   "id": "598fc5fd-7678-48c4-b83f-29bc160a5b30",
   "metadata": {},
   "outputs": [],
   "source": [
    "#Q.6. \n",
    "\"\"\"\n",
    "write() - writes data to a file\"\"\"\n",
    "with open(\"file2.txt\", \"w\") as f:\n",
    "    f.write(\"This is a special occasion\")"
   ]
  },
  {
   "cell_type": "code",
   "execution_count": 24,
   "id": "3d9c1e73-7d9b-4547-9c70-26879acceb9f",
   "metadata": {},
   "outputs": [],
   "source": [
    "\"\"\"\n",
    "writelines() - it writes the elements of a list to a file\n",
    "\"\"\"\n",
    "with open(\"file3.txt\", \"w\") as f1:\n",
    "    f1.writelines([\"Very soon!\"])"
   ]
  },
  {
   "cell_type": "code",
   "execution_count": 25,
   "id": "f4707daf-b6e7-415b-9ead-7e4aad209d85",
   "metadata": {},
   "outputs": [
    {
     "name": "stdout",
     "output_type": "stream",
     "text": [
      "Very soon!\n"
     ]
    }
   ],
   "source": []
  },
  {
   "cell_type": "code",
   "execution_count": null,
   "id": "464e2a71-6155-42be-bbca-01510114bda8",
   "metadata": {},
   "outputs": [],
   "source": []
  }
 ],
 "metadata": {
  "kernelspec": {
   "display_name": "Python 3 (ipykernel)",
   "language": "python",
   "name": "python3"
  },
  "language_info": {
   "codemirror_mode": {
    "name": "ipython",
    "version": 3
   },
   "file_extension": ".py",
   "mimetype": "text/x-python",
   "name": "python",
   "nbconvert_exporter": "python",
   "pygments_lexer": "ipython3",
   "version": "3.10.8"
  }
 },
 "nbformat": 4,
 "nbformat_minor": 5
}
