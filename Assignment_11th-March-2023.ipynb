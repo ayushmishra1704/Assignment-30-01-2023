{
 "cells": [
  {
   "cell_type": "code",
   "execution_count": null,
   "id": "001360e2-e102-4c9b-b314-a96bd83cb801",
   "metadata": {},
   "outputs": [],
   "source": [
    "\"\"\"Q.1. Both t-test and z-test are statistical analysis tool for hypothesis testing.\n",
    "T-test is used when population standard deviation is not known, where as Z-test is used when population standard deviation is known.\n",
    "T-test is used when number of samples is less than 30, where as Z-test is used when number of samples are greater than 30 .\n",
    "Formula for z-test is given by ((x_mean-mu)/(population_standard_deviation/square_root(n))) whereas,\n",
    "Formula for t-test is given by ((x_mean-mu)/(sample_standard_deviation/square_root(n)))\n",
    "where x_mean = mean of sample\n",
    "mu = mean of population\n",
    "n = number of samples\n",
    "e.g. scenario for t-test: \n",
    "T-test is used when number of samples is less than 30, where as Z-test is used when number of samples are greater than 30 .\n",
    "T-test is used when population standard deviation is not known, where as Z-test is used when population standard deviation is known.\n",
    "\"\"\"\n"
   ]
  },
  {
   "cell_type": "code",
   "execution_count": null,
   "id": "79e527f2-3726-454e-b22b-a3161d0511ff",
   "metadata": {},
   "outputs": [],
   "source": [
    "\"\"\"Q.2. One-tailed test has only one critical value on the positive side(after zero) of normal distribution curve and calculated value\n",
    "from statistical analysis is compared with that critical value and then a decision is made whether to accept or reject the null hypothesis.\n",
    "e.g.  Z-test, t-test.\n",
    "Two-tailed test has two critical value on the positive and negative side of normal distribution curve(before and after zero), and calculated \n",
    "value from statistical analysis is compared with those  critical values. If calculated value is greater than positive critical value or\n",
    "calculated value is less than negative critical value, null hypothesis is rejected.\n",
    "e.g. F-test, chi-square test.\n",
    "\"\"\""
   ]
  },
  {
   "cell_type": "code",
   "execution_count": null,
   "id": "1f97a6ed-1d06-4312-a1df-79272df21e46",
   "metadata": {},
   "outputs": [],
   "source": [
    "\"\"\"Q.3. Type-1 Error -> We reject the null hypothesis , when in reality it is true,\n",
    "it is Type-1 Error.\n",
    "example scenario for Type-1 error: Null hypothesis is that average price of cars \n",
    "purchased by customers from a showroom is 8 lac. After analysing statisticaly , it was \n",
    "found that null hypothesis is rejected as average price is 10 lac.  But in reality \n",
    "average car price is 8 lakh only, as luxary cars sold price were counted twice.\n",
    "Type-2 Error -> We retain the null hypothesis, when in reality it is false,\n",
    "it is Type-2 Error. example scenario for Type-2 error: Null hypothesis is that the \n",
    "average height of students in a class in 165 cm. Statistical calculation\n",
    "tells null hypothesis is correct. While doing verification of statistical calculation\n",
    "it was found ,height of male students were not taken  into account and null hypothesis were \n",
    "wrong."
   ]
  },
  {
   "cell_type": "code",
   "execution_count": null,
   "id": "11c42183-5542-495b-9953-f3f890772fbb",
   "metadata": {},
   "outputs": [],
   "source": [
    "\"\"\"Q.4. Bayes Theorem is the statistical method to find probability of happening of event Ai\n",
    "when another event B has already happened, where Ai are set of mutually exclusive and exhaustive independent \n",
    "events and B is another event associated with Ai.\n",
    "Mathematicaly , it is defined as P(Ai/B) = (P(Ai) x P(B/Ai))/(summation(P(Ai)  x P(B/Ai))) \n",
    "where i is in the range of 1 to n.\n",
    "e.g. Price of a car is dependent on parameters model number, milege, brand, comfort.\n",
    "\"\"\""
   ]
  },
  {
   "cell_type": "code",
   "execution_count": 1,
   "id": "526c7ab5-88ca-488f-b520-3e3bb96217ee",
   "metadata": {},
   "outputs": [
    {
     "data": {
      "text/plain": [
       "'Q.5. Range of values to estimate unknown population parameter is known as Interval estimate. Interval estimate \\nof unknown population parameter is called confidence interval.\\nWe construct confidence interval as it helps to estimate the actual value of unknown population parameter.\\nConfidence interval is given by point estimate + margin of error.\\nIts formula is x_mean z_score(significance_value/2) + \\n'"
      ]
     },
     "execution_count": 1,
     "metadata": {},
     "output_type": "execute_result"
    }
   ],
   "source": [
    "\"\"\"Q.5. Range of values to estimate unknown population parameter is known as Interval estimate. Interval estimate \n",
    "of unknown population parameter is called confidence interval.\n",
    "We construct confidence interval as it helps to estimate the actual value of unknown population parameter.\n",
    "Confidence interval is given by point estimate + margin of error.\n",
    "Its formula is \n",
    "Upper_CI = x_mean + (z_score(significance_value/2) * (standard_deviation/(square_root(n)))\n",
    "Lower_CI = x_mean - (z_score(significance_value/2) * (standard_deviation/(square_root(n)))\n",
    "\"\"\""
   ]
  },
  {
   "cell_type": "code",
   "execution_count": null,
   "id": "ba607a53-186a-47fc-b429-b7693b9b6c7b",
   "metadata": {},
   "outputs": [],
   "source": [
    "\"\"\"Q.6. A bag I contains 4 white and 6 black balls while another Bag II contains 4 white and 3 black balls. \n",
    "One ball is drawn at random from one of the bags, and it is found to be black. Find the probability that it was drawn from Bag I.\n",
    "Sol - \n",
    "P(ball drawn from bag1)= P(ball drawn from bag2) = 1/2\n",
    "P(black ball from bag 1) = 3/5\n",
    "P(black ball from bag 2) = 3/7\n",
    "P(ball drawn from bag 1/ black ball drawn)  = (1/2 x 3/5)/((1/2 x 3/5) + (1/2 x 3/7)) = 7/12\n",
    "\"\"\"\n"
   ]
  },
  {
   "cell_type": "code",
   "execution_count": 5,
   "id": "ec81c247-203a-4f84-a78e-1431f32eb660",
   "metadata": {},
   "outputs": [
    {
     "name": "stdout",
     "output_type": "stream",
     "text": [
      "The range of CI value is between 48.36669667954995 and 51.63330332045005\n"
     ]
    }
   ],
   "source": [
    "\"\"\"Q.7. \n",
    "x_mean = mean of sample  = 50\n",
    "significance_value = 0.05\n",
    "standard deviation = 5\n",
    "let n = 36\n",
    "Lower CI = x_mean - ((z_score(significance_value/2) * (standard deviation/(square_root(n))))\n",
    "Upper CI = x_mean + ((z_score(significance_value/2) * (standard deviation/(square_root(n))))\n",
    "Lower_CI = 48.36669667954995\n",
    "Upper_CI = 51.63330332045005\n",
    "The range of CI value is between 48.36669667954995 and 51.63330332045005\n",
    "\"\"\"\n",
    "import numpy as np\n",
    "import scipy.stats as stat\n",
    "x_mean = 50\n",
    "significance_value = 0.05\n",
    "significance_value_2 = significance_value/2\n",
    "standard_deviation = 5\n",
    "n = 36\n",
    "z_score = stat.norm.ppf(1-significance_value_2)\n",
    "square_root = np.sqrt(n)\n",
    "Lower_CI = x_mean - ((z_score * (standard_deviation/(square_root))))\n",
    "Upper_CI = x_mean + ((z_score * (standard_deviation/(square_root))))\n",
    "print(f\"The range of CI value is between {Lower_CI} and {Upper_CI}\")"
   ]
  },
  {
   "cell_type": "code",
   "execution_count": null,
   "id": "03895a64-cc02-4c81-90f7-65c164bba6d9",
   "metadata": {},
   "outputs": [],
   "source": [
    "\"\"\"Q.8. Margin of error is a measure of uncertainity or precision associated \n",
    "with the estimation of population parameter based on a sample from that population.\n",
    "Margin of error in a Confidence Interval is given by \n",
    "+-((z_score * (standard_deviation/(square_root(n))))).\n",
    "As we can see margin of error is inversely proportional to sample size n, hence it decreases\n",
    "as n increases.\n",
    "e.g. Calculate 95% confidence interval for a sample of data(n =64) with a mean of 50 and a standard deviation \n",
    "of 5. Interpret the results\n",
    "Margin of error is  given by +-((z_score(significance_value/2) * (standard deviation/(square_root(n))))\n",
    "Value for margin of error is 1.63. As we keep on increasing n , margin of error decreases.\n",
    "\"\"\""
   ]
  },
  {
   "cell_type": "code",
   "execution_count": null,
   "id": "f3432cff-e052-4ec1-8f02-9fcb0a19f5b0",
   "metadata": {},
   "outputs": [],
   "source": [
    "\"\"\"Q.9.\n",
    "z-score is given by (x - population_mean)/population_standard_deviation\n",
    "where x = data point = 75\n",
    "population mean = 70\n",
    "population_standard_deviation = 5\n",
    "z-value = (x - population_mean)/population_standard_deviation\n",
    "z-value = (75-70)/5\n",
    "z_score for z-value = 1 is 0.8414\n",
    "\"\"\""
   ]
  },
  {
   "cell_type": "code",
   "execution_count": 12,
   "id": "3daf76ae-b1cd-4f29-a1f0-14ce365a54d4",
   "metadata": {},
   "outputs": [
    {
     "name": "stdout",
     "output_type": "stream",
     "text": [
      "Reject the Null hypothesis and conclude that drug is significantly effective\n"
     ]
    }
   ],
   "source": [
    "\"\"\"Q.10.\n",
    "Null Hypothesis H0 = Drug is not significantly effective\n",
    "Alternate Hypothesis H1 = Drug is significantly effective\n",
    "n = 50\n",
    "sample_mean = 6 pounds\n",
    "standard_deviation = 2.5 pounds\n",
    "let population_mean is 7 pounds\n",
    "significance_value = 0.05\n",
    "t_test = (sample_mean - population_mean)/(standard_deviation/square_root(n))\n",
    "t_score for significance_value 0.05 and dof = 49 is \n",
    "t_test = -2.83\n",
    "t_score = -1.67\n",
    "Since t_test < t_score, we reject the null hypothesisand conclude that  drug is significantly effective\n",
    "\"\"\"\n",
    "import scipy.stats as stat\n",
    "import numpy as np\n",
    "significance_value = 0.05\n",
    "n = 50\n",
    "dof = n-1\n",
    "sample_mean = 6\n",
    "standard_deviation = 2.5 \n",
    "population_mean = 7\n",
    "square_root = np.sqrt(n)\n",
    "t_test = (sample_mean - population_mean)/(standard_deviation/square_root)\n",
    "t_score = stat.t.ppf(1- significance_value, dof)\n",
    "if t_test > (t_score):\n",
    "    print(\"Reject the Null hypothesis and conclude that drug is significantly effective \")\n",
    "elif t_test < -1*(t_score):\n",
    "    print(\"Reject the Null hypothesis and conclude that drug is significantly effective\")\n",
    "else:\n",
    "    print(\"Accept the Null hypothesis and conclude that drug is not significantly effective\")\n",
    "    "
   ]
  },
  {
   "cell_type": "code",
   "execution_count": 2,
   "id": "4813fac3-c9cb-44d6-ba0d-5c1cb8492e35",
   "metadata": {},
   "outputs": [
    {
     "name": "stdout",
     "output_type": "stream",
     "text": [
      "The range is between0.6149140730261632 and 0.6850859269738369\n"
     ]
    }
   ],
   "source": [
    "\"\"\"Q.11. n = 500\n",
    "sample proportion(p) = 0.65\n",
    "significance_value = 0.05\n",
    "Upper bound confidence interval for 65% satisfaction rate = p + (z_score(significance_value) * square_root((p*(1-p))/n))\n",
    "Lower bound confidence interval for 65% satisfaction rate = p - (z_score(significance_value) * square_root((p*(1-p))/n))\n",
    "\"\"\"\n",
    "import scipy.stats as stat\n",
    "import numpy as np\n",
    "p = 0.65\n",
    "significance_value = 0.05\n",
    "n = 500\n",
    "z_score = stat.norm.ppf(1-significance_value)\n",
    "square_root = np.sqrt((p*(1-p))/n)\n",
    "Upper_CI = p + (z_score * square_root)\n",
    "Lower_CI = p - (z_score * square_root)\n",
    "print(f\"The range of confidence interval for the true proportion of people who are satisfied with their job is between{Lower_CI} and {Upper_CI}\")"
   ]
  },
  {
   "cell_type": "code",
   "execution_count": 3,
   "id": "ca461ebb-0a7b-4a53-8116-1027b1490d37",
   "metadata": {},
   "outputs": [
    {
     "name": "stdout",
     "output_type": "stream",
     "text": [
      "Reject the null hypothesis and conclude that the two teaching methods does not have a significant difference in student performance\n"
     ]
    }
   ],
   "source": [
    "\"\"\"Q.12.\n",
    "n1 and n2 are not given, let n1 = 25, n2 = 36\n",
    "mean_1 = 85\n",
    "standard_deviation_1 = 6\n",
    "n1 = 25\n",
    "mean_2 = 82\n",
    "standard_deviation_2 = 5\n",
    "n2 = 36\n",
    "significance_level = 0.01\n",
    "dof = (n1+n2-2)\n",
    "t_value = (mean_1 - mean_2)/(((standard_deviation_1)**2)/n) + (((standard_deviation_2)**2)/n)\n",
    "t_value = 24.59\n",
    "t_score = 1.67\n",
    "Since, t_value> t_score, we reject the null hypothesis and conclude that the two teaching methods does not have a significant difference in student performance\n",
    "\"\"\"\n",
    "import scipy.stats as stat\n",
    "import numpy as np\n",
    "mean_1 = 85\n",
    "standard_deviation_1 = 6\n",
    "n1 = 25\n",
    "mean_2 = 82\n",
    "standard_deviation_2 = 5\n",
    "n2 = 36\n",
    "significance_level = 0.01\n",
    "dof = (n1+n2-2)\n",
    "num = (mean_1 - mean_2)\n",
    "den = (((standard_deviation_1)**2)/n) + (((standard_deviation_2)**2)/n)\n",
    "t_value = num/den\n",
    "t_score = stat.t.ppf(1-significance_value, dof)\n",
    "if t_value > t_score:\n",
    "    print(\"Reject the null hypothesis and conclude that the two teaching methods does not have a significant difference in student performance\")\n",
    "elif t_value < (-1 * t_score):\n",
    "    print(\"Reject the null hypothesis and conclude that the two teaching methods does not have a significant difference in student performance\")\n",
    "else:\n",
    "    print(\"Accept the null hypothesis and conclude that the two teaching methods does have a significant difference in student performance\")"
   ]
  },
  {
   "cell_type": "code",
   "execution_count": 8,
   "id": "776a0c70-ef61-4bea-bfed-71e13f77b07a",
   "metadata": {},
   "outputs": [
    {
     "name": "stdout",
     "output_type": "stream",
     "text": [
      "The range of true proportion mean values is between 63.13906055411732 and 66.86093944588268\n"
     ]
    }
   ],
   "source": [
    "\"\"\"Q.13.\n",
    "population_mean = 60\n",
    "population_standard_deviation = 8\n",
    "n = 50\n",
    "sample_mean = 65\n",
    "significance_value = 0.10\n",
    "significance_value_2 = significance_value/2\n",
    "Upper_CI = sample_mean + (z_Score(significance_value_2) * population_standard_deviation/square_root(n))\n",
    "Lower_CI = sample_mean - (z_Score(significance_value_2) * population_standard_deviation/square_root(n))\n",
    "Lower_CI = 63.13\n",
    "Upper_CI = 66.86\n",
    "The range of true proportion mean values is between 63.13906055411732 and 66.86093944588268\n",
    "\"\"\"\n",
    "import scipy.stats as stat\n",
    "import numpy as np\n",
    "population_mean = 60\n",
    "population_standard_deviation = 8\n",
    "n = 50\n",
    "dof = n-1\n",
    "sample_mean = 65\n",
    "significance_value = 0.10\n",
    "significance_value_2 = significance_value/2\n",
    "square_root = np.sqrt(n)\n",
    "z_score = stat.norm.ppf(1-significance_value_2 )\n",
    "Upper_CI = sample_mean + (z_score * (population_standard_deviation/square_root))\n",
    "Lower_CI = sample_mean - (z_score * (population_standard_deviation/square_root))\n",
    "print(f\"The range of true proportion mean values is between {Lower_CI} and {Upper_CI}\")"
   ]
  },
  {
   "cell_type": "code",
   "execution_count": 9,
   "id": "2e29dabc-c794-4ba5-b2d9-491359c59e3f",
   "metadata": {},
   "outputs": [
    {
     "name": "stdout",
     "output_type": "stream",
     "text": [
      "Reject the null hypothesis and conclude that caffeine has a significant effect on reaction time\n"
     ]
    }
   ],
   "source": [
    "\"\"\"Q.14.\n",
    "Null Hypothesis H0 : Caffeine has no significant effect on reaction time. population_mean = 0.25\n",
    "ALternate Hypothesis H1 : Caffeine has a significant effect on recation time. popultion_mean != 0.25\n",
    "n = 30\n",
    "sample_average_reaction_time = 0.25\n",
    "sample_standard_deviation = 0.05\n",
    "significance_value = 0.10\n",
    "let population_mean = 0\n",
    "significance_value_2 = significance_value/2\n",
    "dof = n - 1\n",
    "t_value = (sample_average_reaction_time - population_mean)/(sample_standard_deviation/square_root(n))\n",
    "t_value = -12.05\n",
    "t_critical = -1.70\n",
    "since t_value < t_critical, hence we reject the null hypothesis and conclude that caffeine has a significant effect on reaction time\n",
    "\"\"\"\n",
    "import  scipy.stats as stat\n",
    "import numpy as np\n",
    "n = 30\n",
    "sample_average_reaction_time = 0.25\n",
    "sample_standard_deviation = 0.05\n",
    "significance_value = 0.10\n",
    "population_mean = 0\n",
    "significance_value_2 = significance_value/2\n",
    "dof = n - 1\n",
    "t_critical = stat.t.ppf(1-significance_value_2, dof)\n",
    "square_root = np.sqrt(n)\n",
    "num = sample_average_reaction_time - population_mean\n",
    "den = sample_standard_deviation/square_root\n",
    "t_value = num/den\n",
    "if t_value  > t_critical:\n",
    "    print(\"Reject the null hypothesis and conclude that caffeine has a significant effect on reaction time\")\n",
    "elif t_value < (-1*t_critical):\n",
    "    print(\"Reject the null hypothesis and conclude that caffeine has a significant effect on reaction time\")\n",
    "else:\n",
    "    print(\"Acceptt the null hypothesis and conclude that caffeine has no significant effect on reaction time\")"
   ]
  },
  {
   "cell_type": "code",
   "execution_count": null,
   "id": "fe0b8dc0-33f7-474a-820d-c0331e0b1f65",
   "metadata": {},
   "outputs": [],
   "source": []
  },
  {
   "cell_type": "code",
   "execution_count": null,
   "id": "827b6c14-691f-4c98-a4d1-407d0f76149d",
   "metadata": {},
   "outputs": [],
   "source": []
  },
  {
   "cell_type": "code",
   "execution_count": null,
   "id": "609b6012-9a5d-47f7-8171-b7f8781c1b4e",
   "metadata": {},
   "outputs": [],
   "source": []
  }
 ],
 "metadata": {
  "kernelspec": {
   "display_name": "Python 3 (ipykernel)",
   "language": "python",
   "name": "python3"
  },
  "language_info": {
   "codemirror_mode": {
    "name": "ipython",
    "version": 3
   },
   "file_extension": ".py",
   "mimetype": "text/x-python",
   "name": "python",
   "nbconvert_exporter": "python",
   "pygments_lexer": "ipython3",
   "version": "3.10.8"
  }
 },
 "nbformat": 4,
 "nbformat_minor": 5
}
