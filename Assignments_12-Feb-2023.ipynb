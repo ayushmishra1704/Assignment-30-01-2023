{
 "cells": [
  {
   "cell_type": "code",
   "execution_count": 1,
   "id": "93883c4c-af62-41d5-a858-235aca2df1bc",
   "metadata": {},
   "outputs": [
    {
     "data": {
      "text/plain": [
       "'Whenever python scripts encounters a situation that it cannot copeup with it raises an exception. Exception doesnt interrupt further execution of the code after the particular line where there is an error.\\nwhereas Syntax Errors stops further execution of the program wherever there is an error in a particular line of code.'"
      ]
     },
     "execution_count": 1,
     "metadata": {},
     "output_type": "execute_result"
    }
   ],
   "source": [
    "#Note - please restart kernel each time for every question \n",
    "#Q.1.\n",
    "# Exception - We can define exception as an event that occurs when there is disruption during normal execution of a program. Exception is a python object that represents an error. \n",
    "\"\"\"Whenever python scripts encounters a situation that it cannot copeup with it raises an exception. Exception doesnt interrupt further execution of the code after the particular line where there is an error.\n",
    "whereas occurs when the interpreter shows invalid syntax on executing the Python code. Syntax Errors stops further execution of the program wherever there is an error in a particular line of code.\"\"\""
   ]
  },
  {
   "cell_type": "code",
   "execution_count": 2,
   "id": "9cfb3912-132f-4959-adab-5293168acc4e",
   "metadata": {},
   "outputs": [],
   "source": [
    "import logging\n",
    "logging.basicConfig(filename = \"exception.log\", level = logging.DEBUG, format = '%(asctime)s %(name)s %(levelname)s %(message)s')"
   ]
  },
  {
   "cell_type": "code",
   "execution_count": 6,
   "id": "1b00228a-5665-4fc7-9b81-a9a4186b7351",
   "metadata": {},
   "outputs": [
    {
     "ename": "ZeroDivisionError",
     "evalue": "division by zero",
     "output_type": "error",
     "traceback": [
      "\u001b[0;31m---------------------------------------------------------------------------\u001b[0m",
      "\u001b[0;31mZeroDivisionError\u001b[0m                         Traceback (most recent call last)",
      "Cell \u001b[0;32mIn[6], line 5\u001b[0m\n\u001b[1;32m      1\u001b[0m \u001b[38;5;66;03m#Q.2.\u001b[39;00m\n\u001b[1;32m      2\u001b[0m \u001b[38;5;66;03m# e.g. We have 1000 lines of code , and there is an error in th 70th line, Code from 71st line will not be executed, execution will stop, whenever an exception is not handled.\u001b[39;00m\n\u001b[1;32m      3\u001b[0m \u001b[38;5;66;03m# Case1. - When exception is not used, next line of code \"b = a + 15\" is not executed. \u001b[39;00m\n\u001b[1;32m      4\u001b[0m a \u001b[38;5;241m=\u001b[39m \u001b[38;5;241m15\u001b[39m\n\u001b[0;32m----> 5\u001b[0m logging\u001b[38;5;241m.\u001b[39minfo(\u001b[43ma\u001b[49m\u001b[38;5;241;43m/\u001b[39;49m\u001b[38;5;241;43m0\u001b[39;49m)\n\u001b[1;32m      6\u001b[0m b \u001b[38;5;241m=\u001b[39m a \u001b[38;5;241m+\u001b[39m \u001b[38;5;241m15\u001b[39m\n\u001b[1;32m      7\u001b[0m logging\u001b[38;5;241m.\u001b[39minfo(b)\n",
      "\u001b[0;31mZeroDivisionError\u001b[0m: division by zero"
     ]
    }
   ],
   "source": [
    "#Q.2.\n",
    "# e.g. We have 1000 lines of code , and there is an error in th 70th line, Code from 71st line will not be executed, execution will stop, whenever an exception is not handled.\n",
    "# Case1. - When exception is not used, next line of code \"b = a + 15\" is not executed. \n",
    "a = 15\n",
    "logging.info(a/0)\n",
    "b = a + 15\n",
    "logging.info(b)"
   ]
  },
  {
   "cell_type": "code",
   "execution_count": 4,
   "id": "87341dcb-5913-4f72-b908-03e1cc5b2aa4",
   "metadata": {},
   "outputs": [],
   "source": [
    "# Case2 - Here we have used exception it doesnt stop next line of code \"b = a + 15\" from execution.\n",
    "try :\n",
    "    a= 15\n",
    "    a/0\n",
    "except Exception as e:\n",
    "    logging.exception(\"This is an Exception\")\n",
    "b = a + 15\n",
    "logging.info(b)"
   ]
  },
  {
   "cell_type": "code",
   "execution_count": 8,
   "id": "d4891ad5-abb4-4c8a-9c87-5e6acb92757f",
   "metadata": {},
   "outputs": [],
   "source": [
    "logging.shutdown()"
   ]
  },
  {
   "cell_type": "code",
   "execution_count": 3,
   "id": "325b9268-3ee9-446a-8900-f532ecce565d",
   "metadata": {},
   "outputs": [],
   "source": [
    "#Q.3. try and except statements are used to catch and handle expressions.\n",
    "import logging\n",
    "logging.basicConfig(filename = \"exception1.log\", level = logging.DEBUG, format = '%(asctime)s %(name)s %(levelname)s %(message)s')"
   ]
  },
  {
   "cell_type": "code",
   "execution_count": 4,
   "id": "2e0b0510-d109-4b14-adc3-2bf753b03350",
   "metadata": {},
   "outputs": [],
   "source": [
    "try :\n",
    "    a = 15\n",
    "    a/0\n",
    "except Exception as e:\n",
    "    logging.exception(\"This is a python statement\")"
   ]
  },
  {
   "cell_type": "code",
   "execution_count": 9,
   "id": "508cca42-6646-4725-a9f0-054f9ce17089",
   "metadata": {},
   "outputs": [],
   "source": [
    "logging.shutdown()"
   ]
  },
  {
   "cell_type": "code",
   "execution_count": 3,
   "id": "7bbf0d6d-f2f2-46bc-8742-a8b1e663ff02",
   "metadata": {},
   "outputs": [
    {
     "data": {
      "text/plain": [
       "'a. try: When we think there is an error in block of code we keep it in try block. If there is no error in block of code, then it gets executed normally.\\nIf there is error in block of code in try block, it goes to except block. Then except block calls for exception and error gets printed along with message. It doesnt interrupt further lines of code from execution.\\n'"
      ]
     },
     "execution_count": 3,
     "metadata": {},
     "output_type": "execute_result"
    }
   ],
   "source": [
    "#Q.4. \n",
    "\"\"\"a. try: When we think there is an error in block of code we keep it in try block. If there is no error in block of code, then it gets executed normally.\n",
    "If there is error in block of code in try block, it goes to except block. Then except block calls for exception and error gets printed along with message. It doesnt interrupt further lines of code from execution.\n",
    "\"\"\""
   ]
  },
  {
   "cell_type": "code",
   "execution_count": 10,
   "id": "40f8969c-5d58-4a74-8492-bc510d1a1390",
   "metadata": {},
   "outputs": [],
   "source": [
    "import logging\n",
    "logging.basicConfig(filename =\"exception2.log\", level = logging.DEBUG, format = '%(asctime)s %(name)s %(levelname)s %(message)s' )\n",
    "try:\n",
    "    with open(\"test123456.txt\", \"r\") as f:\n",
    "        logging.info(f.read())\n",
    "except Exception as e:\n",
    "    logging.exception(\"this is an exception\")    "
   ]
  },
  {
   "cell_type": "code",
   "execution_count": 11,
   "id": "3fb5327d-2449-4904-a40a-a011f2d66fd4",
   "metadata": {},
   "outputs": [],
   "source": [
    "logging.shutdown()"
   ]
  },
  {
   "cell_type": "code",
   "execution_count": 6,
   "id": "5c2bc409-7f50-4a27-9ab7-928fbaa50d5b",
   "metadata": {},
   "outputs": [],
   "source": [
    "\"else: else block will execute a block of code only when code in try block has executed successfully. \"\n",
    "import logging\n",
    "logging.basicConfig(filename = \"exception3.log\", level = logging.DEBUG, format = '%(asctime)s %(name)s %(levelname)s %(message)s')\n",
    "try:\n",
    "    f1 = open(\"test32345.log\", \"w\")\n",
    "    f1.write(\"This is an exception\")\n",
    "except Exception as e:\n",
    "     logging.exception(\"this is an exception\")\n",
    "else:\n",
    "    f1.close()"
   ]
  },
  {
   "cell_type": "code",
   "execution_count": 12,
   "id": "ae5ad6ac-1b24-4cad-b046-1cfce2c33ebc",
   "metadata": {},
   "outputs": [],
   "source": [
    "logging.shutdown()"
   ]
  },
  {
   "cell_type": "code",
   "execution_count": 12,
   "id": "99a4e753-4f7f-4986-b751-237e17cf776d",
   "metadata": {},
   "outputs": [],
   "source": [
    "\"\"\"b. finally: block of code  in finally block will execute regardless of whether block of code in try block has executed or not.\n",
    "\"\"\"\n",
    "import logging\n",
    "logging.basicConfig(filename = \"exception4.log\", level = logging.DEBUG, format = '%(asctime)s %(name)s %(levelname)s %(message)s')\n",
    "try:\n",
    "    with open(\"test435\", \"w\") as f2:\n",
    "        f2.write(\" Write something into my file \")\n",
    "except Exception as e:\n",
    "    logging.exception(\"this is an exception\")\n",
    "finally:\n",
    "    logging.exception(\"finally will execute irrespective of block of code in try-except block\")"
   ]
  },
  {
   "cell_type": "code",
   "execution_count": 13,
   "id": "c1dd11fd-e6d3-4c20-aa2c-c77d38006ae8",
   "metadata": {},
   "outputs": [],
   "source": [
    "logging.shutdown()"
   ]
  },
  {
   "cell_type": "code",
   "execution_count": 3,
   "id": "b1fda542-af09-48b5-beeb-e13ab75b9f7c",
   "metadata": {},
   "outputs": [
    {
     "ename": "Exception",
     "evalue": "Stop the prrogram if number is less than zero",
     "output_type": "error",
     "traceback": [
      "\u001b[0;31m---------------------------------------------------------------------------\u001b[0m",
      "\u001b[0;31mException\u001b[0m                                 Traceback (most recent call last)",
      "Cell \u001b[0;32mIn[3], line 5\u001b[0m\n\u001b[1;32m      3\u001b[0m x \u001b[38;5;241m=\u001b[39m \u001b[38;5;241m-\u001b[39m\u001b[38;5;241m15\u001b[39m \n\u001b[1;32m      4\u001b[0m \u001b[38;5;28;01mif\u001b[39;00m x \u001b[38;5;241m<\u001b[39m \u001b[38;5;241m0\u001b[39m:\n\u001b[0;32m----> 5\u001b[0m     \u001b[38;5;28;01mraise\u001b[39;00m \u001b[38;5;167;01mException\u001b[39;00m(\u001b[38;5;124m\"\u001b[39m\u001b[38;5;124mStop the prrogram if number is less than zero\u001b[39m\u001b[38;5;124m\"\u001b[39m)  \n",
      "\u001b[0;31mException\u001b[0m: Stop the prrogram if number is less than zero"
     ]
    }
   ],
   "source": [
    "\"\"\"c. raise: raise is used to raise an exception\n",
    "\"\"\"\n",
    "x = -15 \n",
    "if x < 0:\n",
    "    raise Exception(\"Stop the prrogram if number is less than zero\")  "
   ]
  },
  {
   "cell_type": "code",
   "execution_count": 4,
   "id": "99b13f54-36bb-4e67-858d-92a49ad03e86",
   "metadata": {},
   "outputs": [],
   "source": [
    "#Q.5.\n",
    "#Custom Exceptions- When user creates own exception, by expanding exception class , it is called custom exception.\n",
    "\"\"\"When there is no python library for some type of error, but it becomes a custom situation, and we have to raise an exception for such type of situation , then we use custom exception handling.\"\"\""
   ]
  },
  {
   "cell_type": "code",
   "execution_count": 5,
   "id": "d0ec269b-cb01-4bad-b7d1-fab891dee8e2",
   "metadata": {},
   "outputs": [
    {
     "name": "stdin",
     "output_type": "stream",
     "text": [
      "Enter the input -23\n"
     ]
    }
   ],
   "source": [
    "#e.g. Age can never be negative, but since this is a user input , program accepts it. \n",
    "age = int(input(\"Enter the input age\"))"
   ]
  },
  {
   "cell_type": "code",
   "execution_count": 10,
   "id": "1297ec7f-8bfd-48d4-9bb3-67c4304ab2bf",
   "metadata": {},
   "outputs": [],
   "source": [
    "import logging\n",
    "logging.basicConfig(filename = 'exception4.log', level = logging.DEBUG)"
   ]
  },
  {
   "cell_type": "code",
   "execution_count": 11,
   "id": "15bba1b6-14c0-44a3-a37c-5563fcabd4ff",
   "metadata": {},
   "outputs": [],
   "source": [
    "class validateage(Exception):\n",
    "    def __init__(self, msg):\n",
    "        self.msg = msg"
   ]
  },
  {
   "cell_type": "code",
   "execution_count": 12,
   "id": "a1450044-a6b8-4706-8afd-ba45c9a162dc",
   "metadata": {},
   "outputs": [],
   "source": [
    "def validateage1(age):\n",
    "    if age<0:\n",
    "        raise validateage(\"Age can never be negative\")\n",
    "    elif age>200:\n",
    "        raise validateage(\"Age is very very high\") \n",
    "    else:\n",
    "        logging.info(\"Age is valid\")"
   ]
  },
  {
   "cell_type": "code",
   "execution_count": 13,
   "id": "c0e481d8-5114-4038-a851-1127924b2d4c",
   "metadata": {},
   "outputs": [
    {
     "name": "stdin",
     "output_type": "stream",
     "text": [
      "Enter the input age -98\n"
     ]
    }
   ],
   "source": [
    "try:\n",
    "    age = int(input(\"Enter the input age\"))\n",
    "    validateage1(age)\n",
    "except validateage as e:\n",
    "    logging.info(e)"
   ]
  },
  {
   "cell_type": "code",
   "execution_count": 5,
   "id": "ee7ac7d3-ef54-4ca8-a3d2-c89d7283f0c4",
   "metadata": {},
   "outputs": [],
   "source": [
    "logging.shutdown()"
   ]
  },
  {
   "cell_type": "code",
   "execution_count": 1,
   "id": "1f7378a0-39b6-45e9-a13e-21516d3e35cb",
   "metadata": {},
   "outputs": [],
   "source": [
    "#Q.5.\n",
    "import logging\n",
    "logging.basicConfig(filename = \"exception6.log\", level = logging.DEBUG, format = '%(asctime)s %(name)s %(levelname)s %(message)s')"
   ]
  },
  {
   "cell_type": "code",
   "execution_count": 2,
   "id": "7648a16f-7c7a-4dcb-bad0-f74595a8c50d",
   "metadata": {},
   "outputs": [],
   "source": [
    "class validateUsername(Exception):\n",
    "    def __init(self, msg):\n",
    "        self.msg = msg"
   ]
  },
  {
   "cell_type": "code",
   "execution_count": 3,
   "id": "f94f38cc-7eaf-4926-a27e-d5e6e773a343",
   "metadata": {},
   "outputs": [],
   "source": [
    "def validateUsername1(Username):\n",
    "    if len(Username)<6:\n",
    "        raise validateUsername(\"Length shouldn't be less than 6 digits\")\n",
    "    elif len(Username)>6:\n",
    "        raise validateUsername(\"Length shouldn't be greater than 6 digits\")\n",
    "    else:\n",
    "        logging.info(\"Valid Username\")"
   ]
  },
  {
   "cell_type": "code",
   "execution_count": 4,
   "id": "2737cb7a-737e-409c-a1c7-8cdad4e275ce",
   "metadata": {},
   "outputs": [
    {
     "name": "stdin",
     "output_type": "stream",
     "text": [
      "Enter the username test123\n"
     ]
    }
   ],
   "source": [
    "try:\n",
    "    Username = input(\"Enter the username\")\n",
    "    validateUsername1\n",
    "except validateUsername as e:\n",
    "    logging.info(e)"
   ]
  },
  {
   "cell_type": "code",
   "execution_count": 14,
   "id": "c128fdc0-4bf4-4e74-94fc-2740c0cf54a2",
   "metadata": {},
   "outputs": [],
   "source": [
    "logging.shutdown()"
   ]
  },
  {
   "cell_type": "code",
   "execution_count": null,
   "id": "4ca517ab-320b-484f-8909-35079f4e228f",
   "metadata": {},
   "outputs": [],
   "source": []
  }
 ],
 "metadata": {
  "kernelspec": {
   "display_name": "Python 3 (ipykernel)",
   "language": "python",
   "name": "python3"
  },
  "language_info": {
   "codemirror_mode": {
    "name": "ipython",
    "version": 3
   },
   "file_extension": ".py",
   "mimetype": "text/x-python",
   "name": "python",
   "nbconvert_exporter": "python",
   "pygments_lexer": "ipython3",
   "version": "3.10.8"
  }
 },
 "nbformat": 4,
 "nbformat_minor": 5
}
