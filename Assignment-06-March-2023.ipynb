{
 "cells": [
  {
   "cell_type": "code",
   "execution_count": 1,
   "id": "a691dc6a-68f7-4f28-9240-07ef0260e2b7",
   "metadata": {},
   "outputs": [
    {
     "data": {
      "text/plain": [
       "'Q.1. Statistics is the branch of mathematics of collecting, organising and analysing data. \\nData are organised, summarised  to study the conclusion from data or to make a prediction on the data.\\nIt involves method of gathering information, and summarizing data.\\nIt is mainly used in :\\n1. ML in model prediction.\\n2. Data cleaning and imputation in ML.\\n3. Feature Engineering.\\n'"
      ]
     },
     "execution_count": 1,
     "metadata": {},
     "output_type": "execute_result"
    }
   ],
   "source": [
    "\"\"\"Q.1. Statistics is the branch of mathematics of collecting, organising and analysing data. \n",
    "Data are organised, summarised  to study the conclusion from data or to make a prediction on the data.\n",
    "It involves method of gathering information, and summarizing data.\n",
    "It is mainly used in :\n",
    "1. ML in model prediction.\n",
    "2. Data cleaning and imputation in ML.\n",
    "3. Feature Engineering.\n",
    "\"\"\""
   ]
  },
  {
   "cell_type": "code",
   "execution_count": 2,
   "id": "8627b644-684a-4b8d-bb69-38db91cf1b96",
   "metadata": {},
   "outputs": [
    {
     "data": {
      "text/plain": [
       "'Q.2. Different types of statistics are-:\\n1. Descriptive Statistics:- Science of summarizing , describing and organising data.\\ne.g. Average height of all the students in a class.\\n2. Inferential Statistics:- Science of inferenting conclusion from sample data to study about a population. \\ne.g. Are the heights of students in a class(sample) is same as what is expected in the entire college(Population) ?\\n'"
      ]
     },
     "execution_count": 2,
     "metadata": {},
     "output_type": "execute_result"
    }
   ],
   "source": [
    "\"\"\"Q.2. Different types of statistics are-:\n",
    "1. Descriptive Statistics:- Science of summarizing , describing and organising data.\n",
    "e.g. Average height of all the students in a class.\n",
    "2. Inferential Statistics:- Science of inferenting conclusion from sample data to study about a population. \n",
    "e.g. Are the heights of students in a class(sample) is same as what is expected in the entire college(Population) ?\n",
    "\"\"\""
   ]
  },
  {
   "cell_type": "code",
   "execution_count": 3,
   "id": "a9332800-7e5f-4c81-8c5e-4704863a34ff",
   "metadata": {},
   "outputs": [
    {
     "data": {
      "text/plain": [
       "'Q.3.Different types of data are:-\\n1. Quantitative Data- Quantitative data is also called Numerical data. \\nThe range of values are continous or discrete. e.g.\\n2. Qualitative Data- Qualitative data is also called Categorical data. \\nThe data are categorised and are either ordered or unordered.\\n'"
      ]
     },
     "execution_count": 3,
     "metadata": {},
     "output_type": "execute_result"
    }
   ],
   "source": [
    "\"\"\"Q.3.Different types of data are:-\n",
    "1. Quantitative Data- Quantitative data is also called Numerical data. \n",
    "The range of values are either continous or discrete. \n",
    "e.g. Weight, Height, No of children in a family.\n",
    "Quatitative Data can be futher categorised into :\n",
    "i. Continous Data - These data can take any value in a certain range.  \n",
    "It includes fractional or decimal values.\n",
    "It is infinitely divisible and can take infinite values in a certain range.\n",
    "e.g. Weight of students in a class.\n",
    "ii.Discrete Data - The data takes specific, seperate values \n",
    "and these values are distinct, countable without any range in between them.\n",
    "e.g.Number of children in a family.\n",
    "2. Qualitative Data- Qualitative data is also called Categorical data. \n",
    "The data are categorised and are either ordered or unordered.\n",
    "e.g. Blood Group, Marks.\n",
    "Qualitative Data can be futher categorised into :\n",
    "i. Ordinal Data -  Data are ordered and is categorised on the basis of rank.\n",
    "e.g. Marks of students in class\n",
    "ii. Nominal Data - Order of data doesnt matter. Data are not categorised on the basis of rank.\n",
    "e.g. Blood Group, Gender\n",
    "\"\"\""
   ]
  },
  {
   "cell_type": "code",
   "execution_count": 4,
   "id": "39bbc5c7-8f57-4d85-b0a1-3f6fe5f920c2",
   "metadata": {},
   "outputs": [
    {
     "data": {
      "text/plain": [
       "'Q.4. i)\\tGrading in exam: A+, A, B+, B, C+, C, D, E - Qualitative Data.\\nii)\\tColour of mangoes: yellow, green, orange, red - Qualitative Data.\\niii) Height data of a class: [178.9, 179, 179.5, 176, 177.2, 178.3, 175.8,... - Quantitative Data.\\niv) Number of mangoes exported by a farm: [500, 600, 478, 672, …] - Quantitative Data.\\n'"
      ]
     },
     "execution_count": 4,
     "metadata": {},
     "output_type": "execute_result"
    }
   ],
   "source": [
    "\"\"\"Q.4. i)\tGrading in exam: A+, A, B+, B, C+, C, D, E - Qualitative Data.\n",
    "ii)\tColour of mangoes: yellow, green, orange, red - Qualitative Data.\n",
    "iii) Height data of a class: [178.9, 179, 179.5, 176, 177.2, 178.3, 175.8,... - Quantitative Data.\n",
    "iv) Number of mangoes exported by a farm: [500, 600, 478, 672, …] - Quantitative Data.\n",
    "\"\"\""
   ]
  },
  {
   "cell_type": "code",
   "execution_count": 5,
   "id": "904f9def-b58d-4be6-993a-6a76307eca32",
   "metadata": {},
   "outputs": [
    {
     "data": {
      "text/plain": [
       "'Q.5. Level/scale of measurement- On the basis of level of measurement , data can be categorised into:-\\n1.Nominal Data:- Data are not ordered. Data are not categorised on the basis of rank.\\nDifference in the data can be measured. e.g. Gender\\n2.Ordinal Data:- Data are ordered. Data are categorised on the basis of rank.\\nDifferences between the categories may not be uniform or quantifiable.\\n3.Interval Scaled Data:- No true zero starting point. Data are measured along a scale.\\nDifferences between data can be measured. Data are ordered e.g. Temperature,Voltage..\\n4.Ratio Scaled Data:- It has a zero starting point. Differences between data can be measured.\\nData has absolute zero below which any value doesnt make any sense.\\nData are ordered. e.g. spped, age.\\n'"
      ]
     },
     "execution_count": 5,
     "metadata": {},
     "output_type": "execute_result"
    }
   ],
   "source": [
    "\"\"\"Q.5. Level/scale of measurement- On the basis of level of measurement , data can be categorised into:-\n",
    "1.Nominal Data:- Data are not ordered. Data are not categorised on the basis of rank.\n",
    "Difference in the data can be measured. e.g. Gender\n",
    "2.Ordinal Data:- Data are ordered. Data are categorised on the basis of rank.\n",
    "Differences between the categories may not be uniform or quantifiable.\n",
    "e.g. Grade Marks of Students, Socio economic status.\n",
    "3.Interval Scaled Data:- No true zero starting point. Data are measured along a scale.\n",
    "Differences between data can be measured. Data are ordered e.g. Temperature,Voltage..\n",
    "4.Ratio Scaled Data:- It has a zero starting point. Differences between data can be measured.\n",
    "Data has absolute zero below which any value doesnt make any sense.\n",
    "Data are ordered. e.g. spped, age.\n",
    "\"\"\""
   ]
  },
  {
   "cell_type": "code",
   "execution_count": 1,
   "id": "298e1c04-94fa-439d-bb82-c85e5adb6557",
   "metadata": {},
   "outputs": [
    {
     "data": {
      "text/plain": [
       "'Q.6. It is very important to  understand the level of measurement when analyzing data because :\\ni. It determines the mathematical techniques that can be applied on the data.\\nii. It determines the statistical technique that can be applued.\\niii. It help to determine order of data which is helpful in descriptive statistics(calculation of median).\\niv. It helps to distinguish data as categorical or numerical which is used in predictive analysis.\\ne.g. \\nNominal Data - Gender, Blood Group.\\nOrdinal Data - Grade marks of students in class, Education Level, Satisfaction Rating.\\nInterval Scale Data - Temperature of a city, IQ measurement.\\nRatio Scale Data - Height, Weight\\n'"
      ]
     },
     "execution_count": 1,
     "metadata": {},
     "output_type": "execute_result"
    }
   ],
   "source": [
    "\"\"\"Q.6. It is very important to  understand the level of measurement when analyzing data because :\n",
    "i. It determines the mathematical techniques that can be applied on the data.\n",
    "ii. It determines the statistical technique that can be applued.\n",
    "iii. It help to determine order of data which is helpful in descriptive statistics(calculation of median).\n",
    "iv. It helps to distinguish data as categorical or numerical which is used in predictive analysis.\n",
    "e.g. \n",
    "Nominal Data - Gender, Blood Group.\n",
    "Ordinal Data - Grade marks of students in class, Education Level, Satisfaction Rating.\n",
    "Interval Scale Data - Temperature of a city, IQ measurement.\n",
    "Ratio Scale Data - Height, Weight\n",
    "\"\"\""
   ]
  },
  {
   "cell_type": "code",
   "execution_count": 2,
   "id": "a0e77a89-59d8-44a9-a9dd-40562ca640c7",
   "metadata": {},
   "outputs": [
    {
     "data": {
      "text/plain": [
       "'Q.7. Nominal Data is different from Ordinal Data in following ways:-\\n1. In ordinal data type, dataset is ordered, while in nominal data type, dataset is unordered.\\n2. In ordinal data type dataset is categorised on the basis of rank.\\n3. In ordinal data, differences can be measured.\\n4. Ordinal Data example are - Socio-economic status, Educatiional level.\\nNominal Data example are - Gender, Habits, Blood Group.\\n'"
      ]
     },
     "execution_count": 2,
     "metadata": {},
     "output_type": "execute_result"
    }
   ],
   "source": [
    "\"\"\"Q.7. Nominal Data is different from Ordinal Data in following ways:-\n",
    "1. In ordinal data type, dataset is ordered, while in nominal data type, dataset is unordered.\n",
    "2. In ordinal data type dataset is categorised on the basis of rank.\n",
    "3. In ordinal data, differences can be measured.\n",
    "4. Ordinal Data example are - Socio-economic status, Educatiional level.\n",
    "Nominal Data example are - Gender, Habits, Blood Group.\n",
    "\"\"\""
   ]
  },
  {
   "cell_type": "code",
   "execution_count": 3,
   "id": "31f45ad0-7b29-4173-82dc-a064ffba33cd",
   "metadata": {},
   "outputs": [
    {
     "data": {
      "text/plain": [
       "'Q.8.\\nHistogram, Bar chart are .\\nBox plot is used to display data in terms of range. \\nIt effectively summarizes the distribution of a continous variable, highlights minimum, first quartile, second qurtile, third quartile, maximum.\\nIt is helpful in determining outliers.\\n'"
      ]
     },
     "execution_count": 3,
     "metadata": {},
     "output_type": "execute_result"
    }
   ],
   "source": [
    "\"\"\"Q.8.\n",
    "Histogram, Bar chart are .\n",
    "Box plot is used to display data in terms of range. \n",
    "It effectively summarizes the distribution of a continous variable, highlights minimum, first quartile, second qurtile, third quartile, maximum.\n",
    "It is helpful in determining outliers.\n",
    "\"\"\""
   ]
  },
  {
   "cell_type": "code",
   "execution_count": 1,
   "id": "90345d50-99bd-4f93-89b5-7afe745abce8",
   "metadata": {},
   "outputs": [
    {
     "data": {
      "text/plain": [
       "'Q.9. In descriptive statitics , data are organised , summarized and represented.\\nwhere as in inferential statistics, inferencing conclusion from sample data to study about population.\\ne.g. of descriptive statistics - 1. Measure of central tendency - Mean, Median, mode\\n2. Measure of variability/dispersion - Variance, Std deviation\\n3. Data distribution - PDF, PMF, Histogram\\ne.g. of inferential statistics - z-test, t-test\\nUse of descriptive statistics - Average height of students in a class.\\nUse of inferential statistics - Is the average height of students in a class is same as expected of the entire college? \\n'"
      ]
     },
     "execution_count": 1,
     "metadata": {},
     "output_type": "execute_result"
    }
   ],
   "source": [
    "\"\"\"Q.9. In descriptive statitics , data are organised , summarized and represented.\n",
    "where as in inferential statistics, inferencing conclusion from sample data to study about population.\n",
    "e.g. of descriptive statistics - 1. Measure of central tendency - Mean, Median, mode\n",
    "2. Measure of variability/dispersion - Variance, Std deviation\n",
    "3. Data distribution - PDF, PMF, Histogram\n",
    "e.g. of inferential statistics - z-test, t-test\n",
    "Use of descriptive statistics - Average height of students in a class.\n",
    "Use of inferential statistics - Is the average height of students in a class is same as expected of the entire college? \n",
    "\"\"\""
   ]
  },
  {
   "cell_type": "code",
   "execution_count": null,
   "id": "ba0c8451-a3f2-4793-bf37-a5d19aed7aae",
   "metadata": {},
   "outputs": [],
   "source": [
    "\"\"\"Q.10. Some common measure of central tendency are:-\n",
    "1. Mean - Sum of all data/number of data\n",
    "e.g. 1,2,3,4,5. Mean = 15/5 = 3\n",
    "2. Median - sort the data,\n",
    "if nummber of data are odd, middle value is median.\n",
    "if number of data(n) are even, (n+(n+1))/2 is the median\n",
    "3. Mode. - Frequency of mostly occuring element.\n",
    "Some common measure of variability are-:\n",
    "1. Variance - Variance is a statistical measure that quantifies the spread or \n",
    "dispersion of a set of data points around their mean (average). \n",
    "2. Standard deviation - Square root of variance.\n",
    "\"\"\""
   ]
  }
 ],
 "metadata": {
  "kernelspec": {
   "display_name": "Python 3 (ipykernel)",
   "language": "python",
   "name": "python3"
  },
  "language_info": {
   "codemirror_mode": {
    "name": "ipython",
    "version": 3
   },
   "file_extension": ".py",
   "mimetype": "text/x-python",
   "name": "python",
   "nbconvert_exporter": "python",
   "pygments_lexer": "ipython3",
   "version": "3.10.8"
  }
 },
 "nbformat": 4,
 "nbformat_minor": 5
}
