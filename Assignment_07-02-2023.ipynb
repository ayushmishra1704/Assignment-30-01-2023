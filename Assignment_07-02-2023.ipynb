{
 "cells": [
  {
   "cell_type": "code",
   "execution_count": 1,
   "id": "f18a3190-e317-4bd4-aacb-f5f6b8cc6dc5",
   "metadata": {},
   "outputs": [
    {
     "name": "stdin",
     "output_type": "stream",
     "text": [
      "Enter your password JuLy@#$234\n"
     ]
    },
    {
     "data": {
      "text/plain": [
       "'Valid Password'"
      ]
     },
     "execution_count": 1,
     "metadata": {},
     "output_type": "execute_result"
    }
   ],
   "source": [
    "# Q.1 - Ans\n",
    "import re\n",
    "def create_password(): \n",
    "    password = input(\"Enter your password\")\n",
    "    if (len(password) == 10) and re.search(\"[A-Z].*[A-Z]\" , password) and re.search(\"[a-z].*[a-z]\" , password) and re.search(\"[0-9]\" , password) and re.search(\"[!@#$%^&*()_+={}[\\]|\\\\:;'\\\"<>,./?]{3}\" , password) :\n",
    "        return \"Valid Password\"\n",
    "    else:\n",
    "        return \"Invalid Password\"    \n",
    "create_password() \n",
    "        "
   ]
  },
  {
   "cell_type": "code",
   "execution_count": 40,
   "id": "78aee9a1-ea03-4c60-ba50-1c7e9c4dafa9",
   "metadata": {},
   "outputs": [],
   "source": [
    "# Q.2 - Ans - Check if the string is numeric\n",
    "import re\n",
    "validate_string_numeric = lambda a : print(\"String is numeric\") if re.findall( \"[0-9]\" , a) else print(\"String is not numeric\")\n"
   ]
  },
  {
   "cell_type": "code",
   "execution_count": 41,
   "id": "903780da-addf-4f67-b6ea-3f5a8e2e85b1",
   "metadata": {},
   "outputs": [
    {
     "name": "stdout",
     "output_type": "stream",
     "text": [
      "String is not numeric\n"
     ]
    }
   ],
   "source": [
    "validate_string_numeric(\"a\")"
   ]
  },
  {
   "cell_type": "code",
   "execution_count": 42,
   "id": "17954afe-3735-451a-9dc2-62954865cbe0",
   "metadata": {},
   "outputs": [],
   "source": [
    "# Q.3 - Ans - Check if the string starts with a particular letter\n",
    "import re\n",
    "validate_string_letter = lambda a : print(\"Successfull\") if re.findall( \"^[A]\" , a) else print(\"Not Successful\")\n"
   ]
  },
  {
   "cell_type": "code",
   "execution_count": 44,
   "id": "2743f7ae-d494-481d-bcb2-f6d97d909922",
   "metadata": {},
   "outputs": [
    {
     "name": "stdout",
     "output_type": "stream",
     "text": [
      "Not Successful\n"
     ]
    }
   ],
   "source": [
    "validate_string_letter(\"Bsfgt\")"
   ]
  },
  {
   "cell_type": "code",
   "execution_count": 2,
   "id": "5dd925fb-b065-4ce4-becb-9853d2fdd089",
   "metadata": {},
   "outputs": [
    {
     "data": {
      "text/plain": [
       "[1, 4, 9, 16, 25, 36, 49, 64, 81, 100]"
      ]
     },
     "execution_count": 2,
     "metadata": {},
     "output_type": "execute_result"
    }
   ],
   "source": [
    "# Q.3 - Ans -  Find the squares of numbers from 1 to 10\n",
    "l = [1,2,3,4,5,6,7,8,9,10]\n",
    "s_l = list(map(lambda x: x**2 , l))\n",
    "s_l"
   ]
  },
  {
   "cell_type": "code",
   "execution_count": 3,
   "id": "d97d72ae-1fbb-4239-8b2e-679b42691add",
   "metadata": {},
   "outputs": [
    {
     "data": {
      "text/plain": [
       "[1.0,\n",
       " 1.2599210498948732,\n",
       " 1.4422495703074083,\n",
       " 1.5874010519681994,\n",
       " 1.7099759466766968,\n",
       " 1.8171205928321397,\n",
       " 1.912931182772389,\n",
       " 2.0,\n",
       " 2.080083823051904,\n",
       " 2.154434690031884]"
      ]
     },
     "execution_count": 3,
     "metadata": {},
     "output_type": "execute_result"
    }
   ],
   "source": [
    "# Q.3 - Ans -  Find the cube root of numbers from 1 to 10\n",
    "l = [1,2,3,4,5,6,7,8,9,10]\n",
    "s_l = list(map(lambda x: x**(1/3) , l))\n",
    "s_l"
   ]
  },
  {
   "cell_type": "code",
   "execution_count": 14,
   "id": "09e28a7d-50b7-4f93-b12a-458fffbefeb0",
   "metadata": {},
   "outputs": [
    {
     "name": "stdout",
     "output_type": "stream",
     "text": [
      "given number is odd\n"
     ]
    }
   ],
   "source": [
    "# Q.3 - Ans - Check if a given number is even\n",
    "\n",
    "a = lambda n : print(\"given number is even\") if (n % 2 == 0) else print(\"not an even number\")\n",
    "a(3)"
   ]
  },
  {
   "cell_type": "code",
   "execution_count": 15,
   "id": "02525e0c-735e-4aed-a970-56b6585be80d",
   "metadata": {},
   "outputs": [
    {
     "data": {
      "text/plain": [
       "[1, 3, 5, 7, 9]"
      ]
     },
     "execution_count": 15,
     "metadata": {},
     "output_type": "execute_result"
    }
   ],
   "source": [
    "# Q.3  - Filter odd numbers from the given list.\n",
    "l = [1,2,3,4,5,6,7,8,9,10]\n",
    "s_l = list(filter(lambda x: x % 2 != 0 , l))\n",
    "s_l"
   ]
  },
  {
   "cell_type": "code",
   "execution_count": 38,
   "id": "5c78e8c7-f4ec-4d74-9a68-bff9ab8181d9",
   "metadata": {},
   "outputs": [
    {
     "name": "stdout",
     "output_type": "stream",
     "text": [
      "[1, 2, 3, 4, 5, 6]\n",
      "[-1, -2, -3, -4, -5]\n"
     ]
    }
   ],
   "source": [
    "#Q.3 - Sort a list of integers into positive and negative integers:\n",
    "l = [1, 2, 3, 4, 5, 6, -1, -2, -3, -4, -5, 0]\n",
    "s_l_positive = list(filter(lambda x : x > 0 , l ))\n",
    "s_l_negative = list(filter(lambda x : x < 0 , l ))\n",
    "print(s_l_positive)\n",
    "print(s_l_negative)"
   ]
  },
  {
   "cell_type": "code",
   "execution_count": 48,
   "id": "5acdc610-d588-44d7-8847-281cd0447ab1",
   "metadata": {},
   "outputs": [
    {
     "data": {
      "text/plain": [
       "[('grapes', 1000), ('mango', 99), ('orange', 80)]"
      ]
     },
     "execution_count": 48,
     "metadata": {},
     "output_type": "execute_result"
    }
   ],
   "source": [
    "#Q.3 -  Sort a list of tuples having fruit names and their quantity.\n",
    "l =  [(\"mango\",99),(\"orange\",80), (\"grapes\", 1000)]\n",
    "l.sort()\n",
    "l"
   ]
  },
  {
   "cell_type": "code",
   "execution_count": null,
   "id": "fd8dcf3b-db28-4028-93fc-0386dc38fb47",
   "metadata": {},
   "outputs": [],
   "source": []
  }
 ],
 "metadata": {
  "kernelspec": {
   "display_name": "Python 3 (ipykernel)",
   "language": "python",
   "name": "python3"
  },
  "language_info": {
   "codemirror_mode": {
    "name": "ipython",
    "version": 3
   },
   "file_extension": ".py",
   "mimetype": "text/x-python",
   "name": "python",
   "nbconvert_exporter": "python",
   "pygments_lexer": "ipython3",
   "version": "3.10.8"
  }
 },
 "nbformat": 4,
 "nbformat_minor": 5
}
