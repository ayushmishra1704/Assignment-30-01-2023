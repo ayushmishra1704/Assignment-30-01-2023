{
 "cells": [
  {
   "cell_type": "code",
   "execution_count": 30,
   "id": "1e44281b-163b-4c39-a111-349fffe99764",
   "metadata": {},
   "outputs": [],
   "source": [
    "#Q.1 Ans\n",
    "class vehicle:\n",
    "    \n",
    "    def __init__(self, name_of_vehicle, max_speed,  average_of_vehicle):\n",
    "        self.name_of_vehicle = name_of_vehicle\n",
    "        self.max_speed = max_speed\n",
    "        self.average_of_vehicle = average_of_vehicle\n",
    "        \n",
    "    def return_vehicle_details(self):\n",
    "        return self.name_of_vehicle, self.max_speed, self.average_of_vehicle\n",
    "           "
   ]
  },
  {
   "cell_type": "code",
   "execution_count": 31,
   "id": "03165f24-88ac-4744-b71b-eb041da0a748",
   "metadata": {},
   "outputs": [
    {
     "data": {
      "text/plain": [
       "140"
      ]
     },
     "execution_count": 31,
     "metadata": {},
     "output_type": "execute_result"
    }
   ],
   "source": [
    "v = vehicle(\"Innova\" , 140 , 60)\n",
    "v.max_speed"
   ]
  },
  {
   "cell_type": "code",
   "execution_count": 32,
   "id": "9c567cbb-2e5c-4125-8736-68f63a8eacb5",
   "metadata": {},
   "outputs": [
    {
     "data": {
      "text/plain": [
       "60"
      ]
     },
     "execution_count": 32,
     "metadata": {},
     "output_type": "execute_result"
    }
   ],
   "source": [
    "v.average_of_vehicle"
   ]
  },
  {
   "cell_type": "code",
   "execution_count": 33,
   "id": "776d6ef2-d6cc-4266-88c6-5951f1c71204",
   "metadata": {},
   "outputs": [
    {
     "data": {
      "text/plain": [
       "'Innova'"
      ]
     },
     "execution_count": 33,
     "metadata": {},
     "output_type": "execute_result"
    }
   ],
   "source": [
    "v.name_of_vehicle"
   ]
  },
  {
   "cell_type": "code",
   "execution_count": 109,
   "id": "960e0c4f-2bd3-4ead-8ded-39a647c337be",
   "metadata": {},
   "outputs": [],
   "source": [
    "#Q.2 Ans\n",
    "class vehicle:\n",
    "    \n",
    "    def __init__(self, name_of_vehicle, max_speed,  average_of_vehicle):\n",
    "        self.name_of_vehicle = name_of_vehicle\n",
    "        self.max_speed = max_speed\n",
    "        self.average_of_vehicle = average_of_vehicle\n",
    "        \n",
    "    def return_vehicle_details(self):\n",
    "        return self.name_of_vehicle, self.max_speed, self.average_of_vehicle\n",
    "        \n",
    "class child_car(vehicle): \n",
    "    def __init__(self, name_of_vehicle, max_speed,  average_of_vehicle, capacity):\n",
    "        vehicle.__init__(self, name_of_vehicle,  max_speed,  average_of_vehicle)\n",
    "        self.seating_capacity = capacity\n",
    "    \n",
    "    def seating_capacity(self):\n",
    "        return self.name_of_vehicle, self.max_speed, self.average_of_vehicle, self.seating_capacity"
   ]
  },
  {
   "cell_type": "code",
   "execution_count": 112,
   "id": "e14c986b-c963-4ad2-98b7-0d4869e3058a",
   "metadata": {},
   "outputs": [
    {
     "data": {
      "text/plain": [
       "'Nexa'"
      ]
     },
     "execution_count": 112,
     "metadata": {},
     "output_type": "execute_result"
    }
   ],
   "source": [
    "c =  child_car(\"Nexa\" , 150, 60, 6)\n",
    "c.name_of_vehicle\n"
   ]
  },
  {
   "cell_type": "code",
   "execution_count": 113,
   "id": "b47328e0-968a-4ae7-a913-5aee08f9c750",
   "metadata": {},
   "outputs": [
    {
     "data": {
      "text/plain": [
       "6"
      ]
     },
     "execution_count": 113,
     "metadata": {},
     "output_type": "execute_result"
    }
   ],
   "source": [
    "c.seating_capacity"
   ]
  },
  {
   "cell_type": "code",
   "execution_count": 130,
   "id": "8cc7fc3a-71d5-4f74-88ee-aa7b185648bc",
   "metadata": {},
   "outputs": [],
   "source": [
    "#Q.3 - Multiple Inheritance - Able to inherit function from multiple class in a single class.\n",
    "class car1:\n",
    "    def car_of_tatacompany(self):\n",
    "        return \"this is my first car i have bought home of tata company\""
   ]
  },
  {
   "cell_type": "code",
   "execution_count": 131,
   "id": "b2937498-53b3-4cf1-b8da-c28d55fc46b4",
   "metadata": {},
   "outputs": [],
   "source": [
    "class car2:\n",
    "    def car_of_mahindracompany(self):\n",
    "        return \"this is my 2nd car i have bought home of mahindra company\"\n",
    "    "
   ]
  },
  {
   "cell_type": "code",
   "execution_count": 132,
   "id": "db4825ac-a130-44e4-afce-e7514258a22f",
   "metadata": {},
   "outputs": [],
   "source": [
    "class car3(car1, car2):\n",
    "    def car_of_Maruti_Suzuki(self):\n",
    "        return \"this is my third i have bought home\""
   ]
  },
  {
   "cell_type": "code",
   "execution_count": 133,
   "id": "d556d57a-95a4-4e1d-888a-e3b12cc8c7c6",
   "metadata": {},
   "outputs": [
    {
     "data": {
      "text/plain": [
       "'this is my 2nd car i have bought home of mahindra company'"
      ]
     },
     "execution_count": 133,
     "metadata": {},
     "output_type": "execute_result"
    }
   ],
   "source": [
    "class_obj = car3()\n",
    "class_obj.car_of_mahindracompany()"
   ]
  },
  {
   "cell_type": "code",
   "execution_count": 14,
   "id": "f70c494f-88e9-4edf-ae80-ab16c5cd0670",
   "metadata": {},
   "outputs": [],
   "source": [
    "\"\"\"Q.4 Ans - Getter: A method that allows to access an attribute in a given class.\n",
    "Setter: A method that allows to set or mutate the value of an attribute in a class.\"\"\"\n",
    "class bank_account:\n",
    "    def __init__(self, balance):\n",
    "        self.balance = balance\n",
    "        \n",
    "    def deposit_account(self, amount):\n",
    "        self.amount = amount\n",
    "        self.balance = self.balance + amount\n",
    "        \n",
    "    def withdraw_account(self, amount):\n",
    "        self.amount = amount\n",
    "        self.balance = self.balance - amount\n",
    "    \n",
    "    def set_balance(self, balance):\n",
    "        self.balance = 0 if balance < 0 else balance\n",
    "    \n",
    "    def get_balance(self):\n",
    "        return self.balance      "
   ]
  },
  {
   "cell_type": "code",
   "execution_count": 15,
   "id": "bb05a41a-704b-457f-9fea-7b690fc40507",
   "metadata": {},
   "outputs": [],
   "source": [
    "ayush = bank_account(35000)"
   ]
  },
  {
   "cell_type": "code",
   "execution_count": 16,
   "id": "87137f7a-d2dc-4570-b9ef-fe303745d952",
   "metadata": {},
   "outputs": [],
   "source": [
    "ayush.set_balance(-800)"
   ]
  },
  {
   "cell_type": "code",
   "execution_count": 17,
   "id": "ace09049-3537-4c96-b3ae-7bf1c896cb08",
   "metadata": {},
   "outputs": [
    {
     "data": {
      "text/plain": [
       "0"
      ]
     },
     "execution_count": 17,
     "metadata": {},
     "output_type": "execute_result"
    }
   ],
   "source": [
    "ayush.get_balance()"
   ]
  },
  {
   "cell_type": "code",
   "execution_count": 18,
   "id": "bccf6b51-3899-4c20-9295-9c87a85aff76",
   "metadata": {},
   "outputs": [],
   "source": [
    "ayush.deposit_account(5000)"
   ]
  },
  {
   "cell_type": "code",
   "execution_count": 19,
   "id": "c8c5e8f7-e563-46ca-9b83-37e106099f96",
   "metadata": {},
   "outputs": [
    {
     "data": {
      "text/plain": [
       "5000"
      ]
     },
     "execution_count": 19,
     "metadata": {},
     "output_type": "execute_result"
    }
   ],
   "source": [
    "ayush.get_balance()"
   ]
  },
  {
   "cell_type": "code",
   "execution_count": 21,
   "id": "b14fbb1c-2f23-47b1-8149-a633b51d0d5e",
   "metadata": {},
   "outputs": [
    {
     "data": {
      "text/plain": [
       "'This is my first class'"
      ]
     },
     "execution_count": 21,
     "metadata": {},
     "output_type": "execute_result"
    }
   ],
   "source": [
    "\"\"\"Q.5 Ans - Method Overriding in Python is an OOPs concept closely related to inheritance. \n",
    "When a child class method overrides(or, provides it's own implementation) the parent class\n",
    "method of the same name, parameters and return type, it is known as method overriding.\n",
    "Inheritance is used to reuse the class , function or code in a different class\n",
    "Different types of Inheritances are Multiple, Multiabel Inheritance\"\"\"\n",
    "class pwskills1:\n",
    "    def dev_ops(self):\n",
    "        return \"This is my first class\"\n",
    "    \n",
    "class pwskills2(pwskills1):    \n",
    "    def data_science(self):\n",
    "        return \"This is my second class\"\n",
    "    \n",
    "class_obj3 = pwskills2()\n",
    "class_obj3.dev_ops()\n",
    "    "
   ]
  },
  {
   "cell_type": "code",
   "execution_count": null,
   "id": "8364433c-43b9-4a11-a476-20ba9f467231",
   "metadata": {},
   "outputs": [],
   "source": []
  }
 ],
 "metadata": {
  "kernelspec": {
   "display_name": "Python 3 (ipykernel)",
   "language": "python",
   "name": "python3"
  },
  "language_info": {
   "codemirror_mode": {
    "name": "ipython",
    "version": 3
   },
   "file_extension": ".py",
   "mimetype": "text/x-python",
   "name": "python",
   "nbconvert_exporter": "python",
   "pygments_lexer": "ipython3",
   "version": "3.10.8"
  }
 },
 "nbformat": 4,
 "nbformat_minor": 5
}
