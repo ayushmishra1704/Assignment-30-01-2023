{
 "cells": [
  {
   "cell_type": "code",
   "execution_count": 51,
   "id": "fc63a95d-8522-4345-a36c-04baee2875fd",
   "metadata": {},
   "outputs": [],
   "source": [
    "\"Q.1:\"\n",
    "\"Abstraction is like template. It is used to prepare blueprint . It reduces complexity and shows only relevant data to the user by hiding unnecessary information from the user. \"\n",
    "import abc\n",
    "\n",
    "class Car:\n",
    "\n",
    "    @abc.abstractmethod\n",
    "    def Car_Speed(self, Speed ):\n",
    "        pass\n",
    "    \n",
    "    @abc.abstractmethod\n",
    "    def Car_Milege(self, Milege):\n",
    "        pass\n",
    "    \n",
    "    @abc.abstractmethod\n",
    "    def Car_Name(self, Name):\n",
    "        pass"
   ]
  },
  {
   "cell_type": "code",
   "execution_count": 52,
   "id": "bfdf1ef1-4b94-41d0-974f-030cfa2a317a",
   "metadata": {},
   "outputs": [],
   "source": [
    "class Car_Details(Car):\n",
    "    \n",
    "    def Car_Speed(self, Speed ):\n",
    "        self.Speed = Speed\n",
    "    \n",
    "    def Car_Milege(self, Milege):\n",
    "        self.Milege = Milege\n",
    "    \n",
    "    def Car_Details(self):\n",
    "        return self.speed, self.Milege"
   ]
  },
  {
   "cell_type": "code",
   "execution_count": 53,
   "id": "f68ed33d-0454-4365-a951-36a0f00986ff",
   "metadata": {},
   "outputs": [],
   "source": [
    "class Caar(Car):\n",
    "    \n",
    "    def Car_Name(self, Name):\n",
    "        self.Car_Name = Name\n",
    "        \n",
    "        \n",
    "    def Car_Name_Return(self):\n",
    "        return self.Car_Namme"
   ]
  },
  {
   "cell_type": "code",
   "execution_count": 54,
   "id": "ba006d47-58ab-4331-8d02-b52a7d0118aa",
   "metadata": {},
   "outputs": [],
   "source": [
    "Car = Car_Details()"
   ]
  },
  {
   "cell_type": "code",
   "execution_count": 55,
   "id": "a00bd1d0-8d72-49ce-9cdc-62e317a578aa",
   "metadata": {},
   "outputs": [],
   "source": [
    "Car.Car_Speed(150)"
   ]
  },
  {
   "cell_type": "code",
   "execution_count": 56,
   "id": "dbccd235-05a2-4907-a542-c8b759f879b8",
   "metadata": {},
   "outputs": [
    {
     "data": {
      "text/plain": [
       "150"
      ]
     },
     "execution_count": 56,
     "metadata": {},
     "output_type": "execute_result"
    }
   ],
   "source": [
    "Car.Speed"
   ]
  },
  {
   "cell_type": "code",
   "execution_count": 57,
   "id": "5eb45dc2-2824-423d-b39a-9c17a63725a7",
   "metadata": {},
   "outputs": [],
   "source": [
    "Car1 = Caar()"
   ]
  },
  {
   "cell_type": "code",
   "execution_count": 58,
   "id": "a10880f3-7e3f-4c75-aa64-fabcbd249904",
   "metadata": {},
   "outputs": [],
   "source": [
    "Car1.Car_Name(\"Tesla\")"
   ]
  },
  {
   "cell_type": "code",
   "execution_count": 61,
   "id": "5e90cfb9-06c9-4489-95fa-3ad09e224730",
   "metadata": {},
   "outputs": [
    {
     "data": {
      "text/plain": [
       "'Tesla'"
      ]
     },
     "execution_count": 61,
     "metadata": {},
     "output_type": "execute_result"
    }
   ],
   "source": [
    "Car1.Car_Name"
   ]
  },
  {
   "cell_type": "code",
   "execution_count": null,
   "id": "ffeb0a9b-eff1-4fb1-879e-9abb4ed20f73",
   "metadata": {},
   "outputs": [],
   "source": [
    "\"Q.2.\"\n",
    "\"Abstraction is used to prepare blueprint. Abstraction reduces complexity and hides unnecessary information from the user.\"\n",
    "\"Encapsulation hides certain variable from user access and makes them variables private. User can access those variables through certain methods.\""
   ]
  },
  {
   "cell_type": "code",
   "execution_count": 31,
   "id": "9a36084a-1ebd-4758-b0da-c2ea33940ea6",
   "metadata": {},
   "outputs": [],
   "source": [
    "# Abstraction\n",
    "import abc\n",
    "class Car:\n",
    "        \n",
    "    @abc.abstractmethod\n",
    "    def Car_Company(self):\n",
    "        pass\n",
    "        \n",
    "    @abc.abstractmethod\n",
    "    def Car_Colour(self):\n",
    "        pass\n",
    "        \n",
    "    @abc.abstractmethod\n",
    "    def Car_model(self):\n",
    "        pass               "
   ]
  },
  {
   "cell_type": "code",
   "execution_count": 32,
   "id": "ff7d6d73-1644-4391-bf14-54504549d296",
   "metadata": {},
   "outputs": [],
   "source": [
    "class Car_details(Car):\n",
    "   \n",
    "    def Car_Company(self, Car_Company):\n",
    "        self.Car_Company = Car_Company\n",
    "        \n",
    "    def Car_Company_return(self):\n",
    "        return self.Car_Company        "
   ]
  },
  {
   "cell_type": "code",
   "execution_count": 33,
   "id": "9aab96a4-fbec-4c73-99f6-48d8217c8ee9",
   "metadata": {},
   "outputs": [],
   "source": [
    "class Car_Colour(Car) :\n",
    "    \n",
    "    def Car_Colour(self, Car_Colour):\n",
    "        self.Car_Colour = Car_Colour\n",
    "        \n",
    "    def Car_Colour_return(self):\n",
    "        return self.Car_Colour_return"
   ]
  },
  {
   "cell_type": "code",
   "execution_count": 34,
   "id": "82570c21-e7ef-435f-9841-7093458ce56a",
   "metadata": {},
   "outputs": [],
   "source": [
    "Car = Car_Colour()"
   ]
  },
  {
   "cell_type": "code",
   "execution_count": 35,
   "id": "522a1285-d96f-4b72-9937-60e4eb47c49e",
   "metadata": {},
   "outputs": [],
   "source": [
    "Car.Car_Colour(\"Silver\")"
   ]
  },
  {
   "cell_type": "code",
   "execution_count": 36,
   "id": "8d38ecb8-21f4-4ff4-9798-65409f489ec0",
   "metadata": {},
   "outputs": [
    {
     "data": {
      "text/plain": [
       "'Silver'"
      ]
     },
     "execution_count": 36,
     "metadata": {},
     "output_type": "execute_result"
    }
   ],
   "source": [
    "Car.Car_Colour"
   ]
  },
  {
   "cell_type": "code",
   "execution_count": 37,
   "id": "b25563a4-7f57-44d2-b1c3-6a5a9a5eeea1",
   "metadata": {},
   "outputs": [],
   "source": [
    "Car1 = Car_details()"
   ]
  },
  {
   "cell_type": "code",
   "execution_count": 38,
   "id": "93e7c73e-41fa-4485-8921-d677e8120c6b",
   "metadata": {},
   "outputs": [],
   "source": [
    "Car1.Car_Colour()"
   ]
  },
  {
   "cell_type": "code",
   "execution_count": 39,
   "id": "1b5a7808-3488-4793-8618-eb63658cda3f",
   "metadata": {},
   "outputs": [],
   "source": [
    "Car1.Car_Colour = \"Red\""
   ]
  },
  {
   "cell_type": "code",
   "execution_count": 40,
   "id": "c50f5642-d38c-4138-b474-5af73971a94d",
   "metadata": {},
   "outputs": [
    {
     "data": {
      "text/plain": [
       "'Red'"
      ]
     },
     "execution_count": 40,
     "metadata": {},
     "output_type": "execute_result"
    }
   ],
   "source": [
    "Car1.Car_Colour"
   ]
  },
  {
   "cell_type": "code",
   "execution_count": 95,
   "id": "57bb02c0-65f2-4fca-a2e1-aac481db37ff",
   "metadata": {},
   "outputs": [],
   "source": [
    "#Encapsulation\n",
    "class Bank_Account:\n",
    "    \n",
    "    def __init__(self, Bank_Account_Holder_Name, Bank_Account_Number, Account_Balance):\n",
    "        self.__Bank_Account_Holder_Name =  Bank_Account_Holder_Name\n",
    "        self.__Bank_Account_Number = Bank_Account_Number\n",
    "        self.__Account_Balance = Account_Balance\n",
    "    \n",
    "    def withdraw(self, Amount):\n",
    "        if Amount < self.__Account_Balance  :\n",
    "            self.__Account_Balance = self.__Account_Balance - Amount\n",
    "            return True\n",
    "        else:\n",
    "            return \"Amount can't be withdrawn\"\n",
    "                     \n",
    "    def get_Bank_Account_details(self):\n",
    "        return self.__Bank_Account_Holder_Name, self.__Bank_Account_Number,  self.__Account_Balance"
   ]
  },
  {
   "cell_type": "code",
   "execution_count": 96,
   "id": "409e19f7-77a0-4385-8b80-5876fe2a6dd8",
   "metadata": {},
   "outputs": [],
   "source": [
    "BA = Bank_Account(\"Anand bakshi\", 1107374498837484, 5500)"
   ]
  },
  {
   "cell_type": "code",
   "execution_count": 97,
   "id": "112589e1-596e-44d7-8a5a-2469effcb535",
   "metadata": {},
   "outputs": [
    {
     "data": {
      "text/plain": [
       "\"Amount can't be withdrawn\""
      ]
     },
     "execution_count": 97,
     "metadata": {},
     "output_type": "execute_result"
    }
   ],
   "source": [
    "BA.withdraw(6500)"
   ]
  },
  {
   "cell_type": "code",
   "execution_count": 98,
   "id": "6c8f1e60-24f5-46a4-b83a-a1b6b335b436",
   "metadata": {},
   "outputs": [
    {
     "data": {
      "text/plain": [
       "('Anand bakshi', 1107374498837484, 5500)"
      ]
     },
     "execution_count": 98,
     "metadata": {},
     "output_type": "execute_result"
    }
   ],
   "source": [
    "BA.get_Bank_Account_details()"
   ]
  },
  {
   "cell_type": "code",
   "execution_count": 2,
   "id": "0f8387b5-d415-4b31-8c37-f5fc98022c1a",
   "metadata": {},
   "outputs": [
    {
     "data": {
      "text/plain": [
       "'It is used because it provides interface for implementation of concrete classes. They dont give implementation.'"
      ]
     },
     "execution_count": 2,
     "metadata": {},
     "output_type": "execute_result"
    }
   ],
   "source": [
    "\"Q.3.\"\n",
    "\" abc(Abstract Base Class) module helps in creating an abstract base class by providing basic means. \"\n",
    "\"It is used because it provides interface for implementation of concrete classes. They dont give implementation.\"\n",
    "\"The 'abc' module in Python library provides the infrastructure for defining custom abstract base classes. \n",
    "\"'abc' works by marking methods of the base class as abstract. Abstract class cannot be instantiated in python. \"\n",
    "\"An Abstract  method can be call by its subclasses.\""
   ]
  },
  {
   "cell_type": "code",
   "execution_count": 3,
   "id": "27e56e5c-bae8-47fe-8762-2f58408b4750",
   "metadata": {},
   "outputs": [
    {
     "data": {
      "text/plain": [
       "'Q.4 Data abstraction is achieved by creating abstract classes and inheriting them later.'"
      ]
     },
     "execution_count": 3,
     "metadata": {},
     "output_type": "execute_result"
    }
   ],
   "source": [
    "\"Q.4 Data abstraction is achieved by creating abstract classes and inheriting them later.\""
   ]
  },
  {
   "cell_type": "code",
   "execution_count": null,
   "id": "addb7fea-a098-46f2-9070-3bbcdf2b7107",
   "metadata": {},
   "outputs": [],
   "source": [
    "\"Q.5 Instance cannot be created for an abstract class, because it hides real implementation. Abstract class is like a template.\" \n",
    "\"Abstract classes cannot be instantiated, but they can be subclassed.\"\n",
    "\" A class is called an Abstract class if it contains one or more abstract methods. \"\n",
    "\" An abstract method is a method that is declared, but contains no implementation\"\n",
    "\"e.g A team lead can create an abstract class and distribute it to its team to inherit that class for their own implementation of class. \""
   ]
  }
 ],
 "metadata": {
  "kernelspec": {
   "display_name": "Python 3 (ipykernel)",
   "language": "python",
   "name": "python3"
  },
  "language_info": {
   "codemirror_mode": {
    "name": "ipython",
    "version": 3
   },
   "file_extension": ".py",
   "mimetype": "text/x-python",
   "name": "python",
   "nbconvert_exporter": "python",
   "pygments_lexer": "ipython3",
   "version": "3.10.8"
  }
 },
 "nbformat": 4,
 "nbformat_minor": 5
}
