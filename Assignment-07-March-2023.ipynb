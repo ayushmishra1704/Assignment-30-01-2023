{
 "cells": [
  {
   "cell_type": "code",
   "execution_count": null,
   "id": "b023a4a5-c9df-4985-913a-ef8dbf3ccd09",
   "metadata": {},
   "outputs": [],
   "source": [
    "\"\"\"Q.1. Three measures of central tendenncy are:\n",
    "1. Mean - Mean is also called average of dataset. Sum of all values divided by total number of values.\n",
    "e.g. a = 1,2,3,4,5. \n",
    "Mean = Sum(a)/count(a) = 15/5 = 3\n",
    "Hence Mean  = 3\n",
    "Used in data preprocessing in ML.\n",
    "Mean is used in data imputation when there is missing data in the dataset.\n",
    "2. Median - It is the middle element of a sorted dataset. If is the total number of data points. \n",
    "If total number of data points are odd, then ((n+1)/2)th element is the median.\n",
    "If total number of data points are even,  then (((n/2) + (n/2+1))/2)th element is the median.\n",
    "e.g. a = 1,2,3,4,5. Since total number of elements are odd.\n",
    "Median  = ((5+1)th/2) = 3rd element is the median.\n",
    "Median is used in data imputation when there is an outlier in the dataset .\n",
    "Used in data preprocessing in ML.\n",
    "3 is the median.\n",
    "3. Mode - Mode is the value that occurs most in the dataset.\n",
    "e.g. 1,2,3,4,3,3,4,5,6,1,5\n",
    "Mode = 3 , since 3 is the mostly occuring element in the dataset.\n",
    "Mode is used in data imputation for categorical data .\n",
    "Used in Data pre-processing in ML.\n",
    "\"\"\""
   ]
  },
  {
   "cell_type": "code",
   "execution_count": null,
   "id": "6182b083-d257-4e85-a776-ab0c9164ba13",
   "metadata": {},
   "outputs": [],
   "source": [
    "\"\"\"Q.2.\n",
    "1. Mean - Mean is also called average of dataset. Sum of all values divided by total number of values.\n",
    "e.g. a = 1,2,3,4,5. \n",
    "Mean = Sum(a)/count(a) = 15/5 = 3\n",
    "Hence Mean  = 3\n",
    "Used in data preprocessing in ML.\n",
    "Mean is used in data imputation when there is missing data in the dataset.\n",
    "Mean is used in data-preprocessing in ML for imputation of data in a missing data row or column.\n",
    "e.g. a = 1,2,3,4,5. \n",
    "Mean = Sum(a)/count(a) = 15/5 = 3\n",
    "Hence Mean  = 3\n",
    "2. Median - It is the middle element of a sorted dataset. If is the total number of data points. \n",
    "If total number of data points are odd, then ((n+1)/2)th element is the median.\n",
    "If total number of data points are even,  then (((n/2) + (n/2+1))/2)th element is the median.\n",
    "Median is used for data imputation in ML when there is an outlier present in the dataset.\n",
    "e.g. a = 1,2,3,4,5. Since total number of elements are odd.\n",
    "Median  = ((5+1)th/2) = 3rd element is the median.\n",
    "3. Mode - Mode is the value that occurs most in the dataset.\n",
    "Mode is used in data imputation for categorical data .\n",
    "e.g. 1,2,3,4,3,3,4,5,6,1,5\n",
    "Mode = 3 , since 3 is the mostly occuring element in the dataset.\n",
    "\"\"\""
   ]
  },
  {
   "cell_type": "code",
   "execution_count": 10,
   "id": "45381a77-6291-4b63-a083-1838241d9501",
   "metadata": {},
   "outputs": [
    {
     "name": "stdout",
     "output_type": "stream",
     "text": [
      "Mean: 177.01875 Median: 177.0 Mode: 178\n"
     ]
    }
   ],
   "source": [
    " \"\"\"Q.3.\n",
    "1. Mean\n",
    "n = [178,177,176,177,178.2,178,175,179,180,175,178.9,176.2,177,172.5,178,176.5]\n",
    "mean = sum(n)/count(n)\n",
    "mean = 177.018\n",
    "2. sort the data = [172.5,175,175,176,176.2,176.5,177,177,177,178,178,178,178.2,178.9,179,180]\n",
    "median = ((8th+9th)element)/2 = 177\n",
    "median = (177+177)/2 = 177\n",
    "Hence median = 177\n",
    "3. Mode = 178, since 178 is the most occuring element(4 times).\n",
    "\"\"\"\n",
    "import numpy as np\n",
    "from statistics import mode\n",
    "n = [178,177,176,177,178.2,178,175,179,180,175,178.9,176.2,177,172.5,178,176.5]\n",
    "Mean = np.mean(n)\n",
    "Median = np.median(n)\n",
    "Mode = mode(n)\n",
    "print(\"Mean:\" ,Mean, \"Median:\", Median, \"Mode:\", Mode)"
   ]
  },
  {
   "cell_type": "code",
   "execution_count": 11,
   "id": "717ce7e6-ac0e-4920-9e8e-131bb8e7e1a9",
   "metadata": {},
   "outputs": [
    {
     "data": {
      "text/plain": [
       "1.7885814036548633"
      ]
     },
     "execution_count": 11,
     "metadata": {},
     "output_type": "execute_result"
    }
   ],
   "source": [
    "\"\"\"Q.4.\n",
    "n = [178,177,176,177,178.2,178,175,179,180,175,178.9,176.2,177,172.5,178,176.5]\n",
    "std dev = square_root(sum((x-mean(n))^2)/n-1)\n",
    "mean(n) =178.01875\n",
    "sum(x-mean(n))^2) = 47.95\n",
    "std_dev = square_root(47.95/15) = 1.788\n",
    "\"\"\"\"\n",
    "import numpy as np\n",
    "n = [178,177,176,177,178.2,178,175,179,180,175,178.9,176.2,177,172.5,178,176.5]\n",
    "std_dev = np.std(n)\n",
    "std_dev"
   ]
  },
  {
   "cell_type": "code",
   "execution_count": 12,
   "id": "b0f72334-cb84-45fd-9999-c47e7a9e8a34",
   "metadata": {},
   "outputs": [
    {
     "data": {
      "text/plain": [
       "'Q.5.Measure of dispersion are used to describe spread of dataset in the following ways:\\n1. Range - Range determines the difference between maximum and minimum value.\\ne.g.\\nx = [178,177,176,177,178.2,178,175,179,180,175,178.9,176.2,177,172.5,178,176.5]\\nmax value= 180, min value = 172.5.\\nRange = (180-172.5) = 7.5\\n2. Variance = Variance determines the average squared deviation of datapoints from mean.\\nDetermines spread of data around mean.\\ne.g. n = [178,177,176,177,178.2,178,175,179,180,175,178.9,176.2,177,172.5,178,176.5]\\nvariance = sum((x-mean(n))^2)/n-1\\nvariance = 3.196\\n3. Standard Deviation = Standard deviation is the square root of variance.\\ne.g.\\nn = [178,177,176,177,178.2,178,175,179,180,175,178.9,176.2,177,172.5,178,176.5]\\nstd dev = square_root(sum((x-mean(n))^2)/n-1)\\nmean(n) =178.01875\\nsum(x-mean(n))^2) = 47.95\\nstd_dev = square_root(47.95/15) = 1.788\\n'"
      ]
     },
     "execution_count": 12,
     "metadata": {},
     "output_type": "execute_result"
    }
   ],
   "source": [
    "\"\"\"Q.5.Measure of dispersion are used to describe spread of dataset in the following ways:\n",
    "1. Range - Range determines the difference between maximum and minimum value.\n",
    "e.g.\n",
    "x = [178,177,176,177,178.2,178,175,179,180,175,178.9,176.2,177,172.5,178,176.5]\n",
    "max value= 180, min value = 172.5.\n",
    "Range = (180-172.5) = 7.5\n",
    "2. Variance = Variance determines the average squared deviation of datapoints from mean.\n",
    "Determines spread of data around mean.\n",
    "e.g. n = [178,177,176,177,178.2,178,175,179,180,175,178.9,176.2,177,172.5,178,176.5]\n",
    "variance = sum((x-mean(n))^2)/n-1\n",
    "variance = 3.196\n",
    "3. Standard Deviation = Standard deviation is the square root of variance.\n",
    "e.g.\n",
    "n = [178,177,176,177,178.2,178,175,179,180,175,178.9,176.2,177,172.5,178,176.5]\n",
    "std dev = square_root(sum((x-mean(n))^2)/n-1)\n",
    "mean(n) =178.01875\n",
    "sum(x-mean(n))^2) = 47.95\n",
    "std_dev = square_root(47.95/15) = 1.788\n",
    "\"\"\""
   ]
  },
  {
   "cell_type": "code",
   "execution_count": 13,
   "id": "56c3adc0-64a9-4954-a8ed-a03e3a00e86f",
   "metadata": {},
   "outputs": [
    {
     "data": {
      "text/plain": [
       "'Q.6. A venn diagram is a graphical representation to show the relationship and similarities \\nbetween different sets of data. It consists of overlapping circles or other shapes, each representing\\na set or category. The areas where the circles overlap represent the elements that are common to those set.\\nKey components of venn diagram are-:\\n1. Sets\\n2. Overlap\\n3. Non overlapping areas\\n'"
      ]
     },
     "execution_count": 13,
     "metadata": {},
     "output_type": "execute_result"
    }
   ],
   "source": [
    "\"\"\"Q.6. A venn diagram is a graphical representation to show the relationship and similarities \n",
    "between different sets of data. It consists of overlapping circles or other shapes, each representing\n",
    "a set or category. The areas where the circles overlap represent the elements that are common to those set.\n",
    "Key components of venn diagram are-:\n",
    "1. Sets - If there are 2 datasets A and B, then there are 2 circles, each representing a set.\n",
    "2. Overlap - The common area where 2 sets overlap which represents elemnts which are in common  is called overlap.\n",
    "3. Non overlapping areas - The seperate areas of A and B where they dont overlap.\n",
    "\"\"\""
   ]
  },
  {
   "cell_type": "code",
   "execution_count": null,
   "id": "1da1f9a9-8924-4fa1-bd72-62204156a538",
   "metadata": {},
   "outputs": [],
   "source": [
    "\"\"\"Q.7.\n",
    "A = (2,3,4,5,6,7), B =  (0,2,6,8,10)\n",
    "i. A intersection B - 2,6\n",
    "ii. A U B - 0,2,3,4,5,6,7,8,10\n",
    "\"\"\""
   ]
  },
  {
   "cell_type": "code",
   "execution_count": 2,
   "id": "c999b1b1-1230-4e62-8742-97412dd49267",
   "metadata": {},
   "outputs": [
    {
     "data": {
      "text/plain": [
       "'Q.8.\\nSkewness- Statistical measure used to describe assymetry and shape of adistribution of data. \\nIt indicates the degree to which dataset distribution deviates from a normal distribution.\\nBending of curve either on right side or on left side of data .\\nThere are 2 types of skewness-:\\ni. Rightward skewness- Positive skewness. Tail on right side is fatter than left side. Mean> Median > Mode.\\nii. Leftward skewness- Negative skewness. Tail on left side is fatter than right side. Mean< Median < Mode.\\n'"
      ]
     },
     "execution_count": 2,
     "metadata": {},
     "output_type": "execute_result"
    }
   ],
   "source": [
    "\"\"\"Q.8.\n",
    "Skewness- Statistical measure used to describe assymetry and shape of adistribution of data. \n",
    "It indicates the degree to which dataset distribution deviates from a normal distribution.\n",
    "Bending of curve either on right side or on left side of data .\n",
    "There are 2 types of skewness-:\n",
    "i. Rightward skewness- Positive skewness. Tail on right side is fatter than left side. Mean> Median > Mode.\n",
    "ii. Leftward skewness- Negative skewness. Tail on left side is fatter than right side. Mean< Median < Mode.\n",
    "\"\"\""
   ]
  },
  {
   "cell_type": "code",
   "execution_count": 1,
   "id": "b732fd4c-c73c-4885-a2ef-bc85a7f02f70",
   "metadata": {},
   "outputs": [
    {
     "data": {
      "text/plain": [
       "'Q.9.  If a data is right skewed then, median< mean.\\n'"
      ]
     },
     "execution_count": 1,
     "metadata": {},
     "output_type": "execute_result"
    }
   ],
   "source": [
    "\"\"\"Q.9.  If a data is right skewed then, median< mean.\n",
    "\"\"\""
   ]
  },
  {
   "cell_type": "code",
   "execution_count": 3,
   "id": "05d11add-1ebf-49fa-9766-7bad795a18e0",
   "metadata": {},
   "outputs": [
    {
     "data": {
      "text/plain": [
       "\"Q.10. Difference between covariance and correlation are-:\\nCovariance - It depicts how 2 variables(X,Y) ,vary from each other. It is a measure of variance of 2 variables.\\nIt indicates the direction of the linear relationship between 2 variables.\\nIt can take any value - positive, negative or zero.\\nCovariance(X,Y) formula is defined as (Sum(X-X')/n-1).\\n\\nCorrelation - It depicts relationship between 2 variables.\\nIt standardize the measure of similarity between 2 variables.\\nIt is bounded between +1 and -1. +1 - Perfect positive linear relationship. -1 - perfect negative linear relationship. 0 - no relationship.\\nCorrelation formula is defined as Cov(X,Y)/(std_dev(X) x std_dev(Y)).\\n\""
      ]
     },
     "execution_count": 3,
     "metadata": {},
     "output_type": "execute_result"
    }
   ],
   "source": [
    "\"\"\"Q.10. Difference between covariance and correlation are-:\n",
    "Covariance - It depicts how 2 variables(X,Y) ,vary from each other. It is a measure of variance of 2 variables.\n",
    "It indicates the direction of the linear relationship between 2 variables.\n",
    "It can take any value - positive, negative or zero.\n",
    "Covariance(X,Y) formula is defined as (Sum(X-X')/n-1).\n",
    "\n",
    "Correlation - It depicts relationship between 2 variables.\n",
    "It standardize the measure of similarity between 2 variables.\n",
    "It is bounded between +1 and -1. +1 - Perfect positive linear relationship. -1 - perfect negative linear relationship. 0 - no relationship.\n",
    "Correlation formula is defined as Cov(X,Y)/(std_dev(X) x std_dev(Y)).\n",
    "\n",
    "In statistical analysis:\n",
    "\n",
    "Covariance provides insight into the directional relationship \n",
    "between variables but doesn't offer a standardized measure, making it hard to \n",
    "compare across different datasets with different scales.\n",
    "\n",
    "Correlation is preferred as it standardizes the measure,\n",
    "allowing for easy comparison between different pairs of variables. \n",
    "It's especially useful for identifying and analyzing the strength and \n",
    "direction of relationships between variables in diverse datasets.\n",
    "\"\"\""
   ]
  },
  {
   "cell_type": "code",
   "execution_count": 4,
   "id": "90dadeef-e176-42be-bf52-216136d3e3ff",
   "metadata": {},
   "outputs": [
    {
     "data": {
      "text/plain": [
       "'Q.11. Formula for calculating sample mean:-\\nSample mean = Sum of all values in an observation of samples/ Total number of observation in that sample\\ne.g. n = 5, 7, 9, 12, and 15.\\nSum(n) = 48\\nCount(n) = 5\\nSample mean = 9.6\\n'"
      ]
     },
     "execution_count": 4,
     "metadata": {},
     "output_type": "execute_result"
    }
   ],
   "source": [
    "\"\"\"Q.11. Formula for calculating sample mean:-\n",
    "Sample mean = Sum of all values in an observation of samples/ Total number of observation in that sample\n",
    "e.g. n = 5, 7, 9, 12, and 15.\n",
    "Sum(n) = 48\n",
    "Count(n) = 5\n",
    "Sample mean = 9.6\n",
    "\"\"\"\n"
   ]
  },
  {
   "cell_type": "code",
   "execution_count": null,
   "id": "de59dfdf-7fdf-4a14-a324-cfdd7735cd7b",
   "metadata": {},
   "outputs": [],
   "source": [
    "\"\"\"Q.12. For a normal distribution data , relationship between mean, median and mode are:-\n",
    "Mean = Median = Mode.\n",
    "\"\"\""
   ]
  },
  {
   "cell_type": "code",
   "execution_count": 5,
   "id": "987cc8fc-d7e5-4dd7-9bd9-6576bcda74ab",
   "metadata": {},
   "outputs": [
    {
     "data": {
      "text/plain": [
       "\"Q.13. Difference between covariance and correlation are-:\\nCovariance - It depicts how 2 variables(X,Y) ,vary from each other. It is a measure of variance of 2 variables.\\nIt indicates the direction of the linear relationship between 2 variables.\\nIt can take any value - positive, negative or zero.\\nCovariance(X,Y) formula is defined as (Sum(X-X')/n-1).\\n\\nCorrelation - It depicts relationship between 2 variables.\\nIt standardize the measure of similarity between 2 variables.\\nIt is bounded between +1 and -1. +1 - Perfect positive linear relationship. -1 - perfect negative linear relationship. 0 - no relationship.\\nCorrelation formula is defined as Cov(X,Y)/(std_dev(X) x std_dev(Y)).\\n\""
      ]
     },
     "execution_count": 5,
     "metadata": {},
     "output_type": "execute_result"
    }
   ],
   "source": [
    "\"\"\"Q.13. Difference between covariance and correlation are-:\n",
    "Covariance - It depicts directional relationship between 2 variables.\n",
    "It depicts how 2 variables(X,Y) ,vary from each other. \n",
    "It is a measure of variance of 2 variables.\n",
    "It indicates the direction of the linear relationship between 2 variables.\n",
    "It can take any value - positive, negative or zero.\n",
    "Covariance(X,Y) formula is defined as (Sum(X-X')/n-1).\n",
    "\n",
    "Correlation - It depicts standardize relationship between 2 variables.\n",
    "It standardize the measure of similarity between 2 variables.\n",
    "It is bounded between +1 and -1. +1 - Perfect positive linear relationship. -1 - perfect negative linear relationship. 0 - no relationship.\n",
    "Correlation formula is defined as Cov(X,Y)/(std_dev(X) x std_dev(Y)).\n",
    "\n",
    "\"\"\""
   ]
  },
  {
   "cell_type": "code",
   "execution_count": null,
   "id": "5819e9d9-9892-44a3-b63e-ea867a4f5ff9",
   "metadata": {},
   "outputs": [],
   "source": [
    "\"\"\"Q.14.\n",
    "Effect of outliers on measures of Central Tendency-:\n",
    "\n",
    "Mean - While data imputation in dataset with outliers , mean cannot be used because presence of \n",
    "outliers shift the calculated mean towards different value from its dataset.\n",
    "Median - Median is used, in the dataset for data imputation in case of outlier .\n",
    "Mode- Mode cannot be used because if outlier occurs max number of times, then mode cannot be used.\n",
    "\n",
    "Effect of outliers on measures of Dispersion-:\n",
    "Range : Outliers present shift the range to an extreme value.\n",
    "Variance and standard deviation: Extreme values increases the varability in the dataset leading to higher variance and standard deviation.\n",
    "\n",
    "e.g. 1,2,3,4,6,6,200\n",
    "mean = 222/6 = 37\n",
    "median = 3\n",
    "mode = 6\n",
    "variation = 4279.3592\n",
    "standard deviation = 65.42\n",
    "\"\"\""
   ]
  }
 ],
 "metadata": {
  "kernelspec": {
   "display_name": "Python 3 (ipykernel)",
   "language": "python",
   "name": "python3"
  },
  "language_info": {
   "codemirror_mode": {
    "name": "ipython",
    "version": 3
   },
   "file_extension": ".py",
   "mimetype": "text/x-python",
   "name": "python",
   "nbconvert_exporter": "python",
   "pygments_lexer": "ipython3",
   "version": "3.10.8"
  }
 },
 "nbformat": 4,
 "nbformat_minor": 5
}
