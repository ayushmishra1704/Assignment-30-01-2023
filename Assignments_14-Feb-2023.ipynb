{
 "cells": [
  {
   "cell_type": "code",
   "execution_count": 9,
   "id": "e52cecac-77ba-4347-9281-4c7de41952e3",
   "metadata": {},
   "outputs": [
    {
     "name": "stdout",
     "output_type": "stream",
     "text": [
      "test1 id is 0 and printing 0 Fri Sep 22 09:43:24 2023\n",
      "test1 id is 1 and printing 0 Fri Sep 22 09:43:24 2023\n",
      "test1 id is 2 and printing 0 Fri Sep 22 09:43:24 2023\n",
      "test1 id is 3 and printing 0 Fri Sep 22 09:43:24 2023\n",
      "test1 id is 4 and printing 0 Fri Sep 22 09:43:24 2023\n",
      "test1 id is 5 and printing 0 Fri Sep 22 09:43:24 2023\n",
      "test1 id is 6 and printing 0 Fri Sep 22 09:43:24 2023\n",
      "test1 id is 7 and printing 0 Fri Sep 22 09:43:24 2023\n",
      "test1 id is 8 and printing 0 Fri Sep 22 09:43:24 2023\n",
      "test1 id is 9 and printing 0 Fri Sep 22 09:43:24 2023\n",
      "test1 id is 0 and printing 1 Fri Sep 22 09:43:25 2023\n",
      "test1 id is 2 and printing 1 Fri Sep 22 09:43:25 2023\n",
      "test1 id is 1 and printing 1 Fri Sep 22 09:43:25 2023\n",
      "test1 id is 3 and printing 1 Fri Sep 22 09:43:25 2023\n",
      "test1 id is 4 and printing 1 Fri Sep 22 09:43:25 2023\n",
      "test1 id is 6 and printing 1 Fri Sep 22 09:43:25 2023\n",
      "test1 id is 7 and printing 1 Fri Sep 22 09:43:25 2023\n",
      "test1 id is 9 and printing 1 Fri Sep 22 09:43:25 2023\n",
      "test1 id is 8 and printing 1 Fri Sep 22 09:43:25 2023\n",
      "test1 id is 5 and printing 1 Fri Sep 22 09:43:25 2023\n",
      "test1 id is 0 and printing 2 Fri Sep 22 09:43:26 2023\n",
      "test1 id is 2 and printing 2 Fri Sep 22 09:43:26 2023\n",
      "test1 id is 1 and printing 2 Fri Sep 22 09:43:26 2023\n",
      "test1 id is 3 and printing 2 Fri Sep 22 09:43:26 2023\n",
      "test1 id is 4 and printing 2 Fri Sep 22 09:43:26 2023\n",
      "test1 id is 6 and printing 2 Fri Sep 22 09:43:26 2023\n",
      "test1 id is 7 and printing 2 Fri Sep 22 09:43:26 2023\n",
      "test1 id is 9 and printing 2 Fri Sep 22 09:43:26 2023\n",
      "test1 id is 8 and printing 2 Fri Sep 22 09:43:26 2023\n",
      "test1 id is 5 and printing 2 Fri Sep 22 09:43:26 2023\n",
      "test1 id is 0 and printing 3 Fri Sep 22 09:43:27 2023\n",
      "test1 id is 2 and printing 3 Fri Sep 22 09:43:27 2023\n",
      "test1 id is 1 and printing 3 Fri Sep 22 09:43:27 2023\n",
      "test1 id is 3 and printing 3 Fri Sep 22 09:43:27 2023\n",
      "test1 id is 4 and printing 3 Fri Sep 22 09:43:27 2023\n",
      "test1 id is 6 and printing 3 Fri Sep 22 09:43:27 2023\n",
      "test1 id is 7 and printing 3 Fri Sep 22 09:43:27 2023\n",
      "test1 id is 9 and printing 3 Fri Sep 22 09:43:27 2023\n",
      "test1 id is 8 and printing 3 Fri Sep 22 09:43:27 2023\n",
      "test1 id is 5 and printing 3 Fri Sep 22 09:43:27 2023\n",
      "test1 id is 0 and printing 4 Fri Sep 22 09:43:28 2023\n",
      "test1 id is 2 and printing 4 Fri Sep 22 09:43:28 2023\n",
      "test1 id is 4 and printing 4 Fri Sep 22 09:43:28 2023\n",
      "test1 id is 3 and printing 4 Fri Sep 22 09:43:28 2023\n",
      "test1 id is 1 and printing 4 Fri Sep 22 09:43:28 2023\n",
      "test1 id is 5 and printing 4 Fri Sep 22 09:43:28 2023\n",
      "test1 id is 6 and printing 4 Fri Sep 22 09:43:28 2023\n",
      "test1 id is 8 and printing 4 Fri Sep 22 09:43:28 2023\n",
      "test1 id is 9 and printing 4 Fri Sep 22 09:43:28 2023\n",
      "test1 id is 7 and printing 4 Fri Sep 22 09:43:28 2023\n",
      "test1 id is 1 and printing 5 Fri Sep 22 09:43:29 2023\n",
      "test1 id is 0 and printing 5 Fri Sep 22 09:43:29 2023\n",
      "test1 id is 4 and printing 5 Fri Sep 22 09:43:29 2023\n",
      "test1 id is 6 and printing 5 Fri Sep 22 09:43:29 2023\n",
      "test1 id is 7 and printing 5 Fri Sep 22 09:43:29 2023\n",
      "test1 id is 3 and printing 5 Fri Sep 22 09:43:29 2023\n",
      "test1 id is 2 and printing 5 Fri Sep 22 09:43:29 2023\n",
      "test1 id is 5 and printing 5 Fri Sep 22 09:43:29 2023\n",
      "test1 id is 9 and printing 5 Fri Sep 22 09:43:29 2023\n",
      "test1 id is 8 and printing 5 Fri Sep 22 09:43:29 2023\n",
      "test1 id is 6 and printing 6 Fri Sep 22 09:43:30 2023test1 id is 3 and printing 6 Fri Sep 22 09:43:30 2023\n",
      "test1 id is 1 and printing 6 Fri Sep 22 09:43:30 2023\n",
      "test1 id is 5 and printing 6 Fri Sep 22 09:43:30 2023\n",
      "test1 id is 0 and printing 6 Fri Sep 22 09:43:30 2023\n",
      "test1 id is 2 and printing 6 Fri Sep 22 09:43:30 2023\n",
      "test1 id is 4 and printing 6 Fri Sep 22 09:43:30 2023\n",
      "test1 id is 8 and printing 6 Fri Sep 22 09:43:30 2023\n",
      "\n",
      "test1 id is 9 and printing 6 Fri Sep 22 09:43:30 2023\n",
      "test1 id is 7 and printing 6 Fri Sep 22 09:43:30 2023\n",
      "test1 id is 3 and printing 7 Fri Sep 22 09:43:31 2023test1 id is 1 and printing 7 Fri Sep 22 09:43:31 2023\n",
      "test1 id is 7 and printing 7 Fri Sep 22 09:43:31 2023\n",
      "test1 id is 8 and printing 7 Fri Sep 22 09:43:31 2023\n",
      "test1 id is 4 and printing 7 Fri Sep 22 09:43:31 2023\n",
      "test1 id is 2 and printing 7 Fri Sep 22 09:43:31 2023\n",
      "test1 id is 5 and printing 7 Fri Sep 22 09:43:31 2023\n",
      "test1 id is 0 and printing 7 Fri Sep 22 09:43:31 2023\n",
      "test1 id is 6 and printing 7 Fri Sep 22 09:43:31 2023\n",
      "test1 id is 9 and printing 7 Fri Sep 22 09:43:31 2023\n",
      "\n",
      "test1 id is 5 and printing 8 Fri Sep 22 09:43:32 2023test1 id is 1 and printing 8 Fri Sep 22 09:43:32 2023\n",
      "test1 id is 3 and printing 8 Fri Sep 22 09:43:32 2023\n",
      "test1 id is 0 and printing 8 Fri Sep 22 09:43:32 2023\n",
      "test1 id is 7 and printing 8 Fri Sep 22 09:43:32 2023\n",
      "test1 id is 6 and printing 8 Fri Sep 22 09:43:32 2023\n",
      "test1 id is 4 and printing 8 Fri Sep 22 09:43:32 2023\n",
      "test1 id is 9 and printing 8 Fri Sep 22 09:43:32 2023\n",
      "test1 id is 8 and printing 8 Fri Sep 22 09:43:32 2023\n",
      "\n",
      "test1 id is 2 and printing 8 Fri Sep 22 09:43:32 2023\n",
      "test1 id is 1 and printing 9 Fri Sep 22 09:43:33 2023test1 id is 3 and printing 9 Fri Sep 22 09:43:33 2023\n",
      "test1 id is 7 and printing 9 Fri Sep 22 09:43:33 2023\n",
      "test1 id is 2 and printing 9 Fri Sep 22 09:43:33 2023\n",
      "test1 id is 8 and printing 9 Fri Sep 22 09:43:33 2023\n",
      "test1 id is 5 and printing 9 Fri Sep 22 09:43:33 2023\n",
      "\n",
      "test1 id is 6 and printing 9 Fri Sep 22 09:43:33 2023\n",
      "test1 id is 9 and printing 9 Fri Sep 22 09:43:33 2023\n",
      "test1 id is 0 and printing 9 Fri Sep 22 09:43:33 2023\n",
      "test1 id is 4 and printing 9 Fri Sep 22 09:43:33 2023\n"
     ]
    }
   ],
   "source": [
    "# Q.1.\n",
    "\"\"\" Multithreading - Multithreading is executing multiple programs in a single core so as to save memory space.\n",
    "\n",
    "Threading is the module which is used to handle threads in python.\n",
    "\n",
    "Uses of multithreading are:\n",
    "1. When we have to execute multiple instances of a program in a single core, then we use multithreading.\n",
    "2. To save memory space.\"\"\"\n",
    "import threading\n",
    "import time\n",
    "def test(id):\n",
    "    for i in range(10):\n",
    "        print(\"test1 id is %d and printing %d %s\" %(id, i, time.ctime()))\n",
    "        time.sleep(1)\n",
    "ther = [threading.Thread(target = test, args = (i,)) for i in range(10)]\n",
    "for t in ther:\n",
    "    t.start()"
   ]
  },
  {
   "cell_type": "code",
   "execution_count": 31,
   "id": "44e0d5c7-e1ac-4121-bbcb-7c4fe41cc64c",
   "metadata": {},
   "outputs": [],
   "source": [
    "\"\"\"3. To execute  multiple files in multiple threads .\"\"\"\n",
    "import threading\n",
    "import urllib.request\n",
    "def file_download(url, file_name):\n",
    "    urllib.request.urlretrieve(url, file_name)"
   ]
  },
  {
   "cell_type": "code",
   "execution_count": 32,
   "id": "1e087663-aabf-4977-beba-74d521598d5a",
   "metadata": {},
   "outputs": [],
   "source": [
    "url_list = ['https://drive.google.com/file/d/14CbCMmyNtl4yOio6AilK4MFVT2KG34xT/view', \"https://www.linkedin.com/pulse/real-meaning-word-hustle-anthony-iannarino#:~:text=Work%20Hard%2C%20Smart%20and%20with,purpose%20because%20you%20love%20it.\", \"https://github.com/ayushmishra1704/dcp-oct15-1/blob/main/Class-Notes/Day1.txt\"]"
   ]
  },
  {
   "cell_type": "code",
   "execution_count": 33,
   "id": "1230f113-f7c2-44b9-be43-7870af8c8bc3",
   "metadata": {},
   "outputs": [],
   "source": [
    "file_name_list = ['data65.txt' , 'data66.txt', 'data67.txt']"
   ]
  },
  {
   "cell_type": "code",
   "execution_count": 34,
   "id": "b5c17e24-d7a7-443a-a8ea-f1e82a379734",
   "metadata": {},
   "outputs": [],
   "source": [
    "ther4 = [threading.Thread(target = file_download, args= (url_list[i], file_name_list[i], )) for i in range(len(url_list))]\n"
   ]
  },
  {
   "cell_type": "code",
   "execution_count": 35,
   "id": "94564e86-ecac-4bb7-bd4e-4f7d2547fe2d",
   "metadata": {},
   "outputs": [],
   "source": [
    "for t in ther4:\n",
    "    t.start()"
   ]
  },
  {
   "cell_type": "code",
   "execution_count": 37,
   "id": "c048b5cc-1949-473a-923b-60a5f3dd43ae",
   "metadata": {},
   "outputs": [
    {
     "data": {
      "text/plain": [
       "[<Thread(Thread-100 (file_download), stopped 139851398616640)>,\n",
       " <Thread(Thread-101 (file_download), stopped 139850829256256)>,\n",
       " <Thread(Thread-102 (file_download), stopped 139851407009344)>]"
      ]
     },
     "execution_count": 37,
     "metadata": {},
     "output_type": "execute_result"
    }
   ],
   "source": [
    "ther4"
   ]
  },
  {
   "cell_type": "code",
   "execution_count": 72,
   "id": "bda885a4-8301-4816-b987-013a813a76a9",
   "metadata": {},
   "outputs": [],
   "source": [
    "\"\"\"4. A program is running multiple times but resource is shared e.g a number which multiple programs are trying to update.\"\"\"\n",
    "import threading\n",
    "import time\n",
    "shared_var = 0\n",
    "lock_var = threading.Lock()"
   ]
  },
  {
   "cell_type": "code",
   "execution_count": 76,
   "id": "7e6f866b-b2ce-4406-b077-be84d21e3cfb",
   "metadata": {},
   "outputs": [],
   "source": [
    "def testid(id):\n",
    "    global shared_var\n",
    "    with lock_var:\n",
    "        shared_var  = shared_var + 1\n",
    "        print(\"test1 id is %d and shared var is increased by %d %s\" %(id, shared_var , time.ctime()))\n",
    "        time.sleep(1)"
   ]
  },
  {
   "cell_type": "code",
   "execution_count": 77,
   "id": "e2638e8d-10d9-4cdf-b64b-84932ee2b90b",
   "metadata": {},
   "outputs": [],
   "source": [
    "ther5 = [threading.Thread(target = testid, args = (i, )) for i in range(10)]"
   ]
  },
  {
   "cell_type": "code",
   "execution_count": 78,
   "id": "0e905de2-cc22-418c-9b59-0d9ce9b1cf5b",
   "metadata": {},
   "outputs": [
    {
     "name": "stdout",
     "output_type": "stream",
     "text": [
      "test1 id is 0 and shared var is increased by 11 Fri Sep 22 10:21:36 2023\n",
      "test1 id is 1 and shared var is increased by 12 Fri Sep 22 10:21:37 2023\n",
      "test1 id is 2 and shared var is increased by 13 Fri Sep 22 10:21:38 2023\n",
      "test1 id is 3 and shared var is increased by 14 Fri Sep 22 10:21:39 2023\n",
      "test1 id is 4 and shared var is increased by 15 Fri Sep 22 10:21:40 2023\n",
      "test1 id is 5 and shared var is increased by 16 Fri Sep 22 10:21:41 2023\n",
      "test1 id is 6 and shared var is increased by 17 Fri Sep 22 10:21:42 2023\n",
      "test1 id is 7 and shared var is increased by 18 Fri Sep 22 10:21:43 2023\n",
      "test1 id is 8 and shared var is increased by 19 Fri Sep 22 10:21:44 2023\n",
      "test1 id is 9 and shared var is increased by 20 Fri Sep 22 10:21:45 2023\n"
     ]
    }
   ],
   "source": [
    "for t in ther5:\n",
    "    t.start()"
   ]
  },
  {
   "cell_type": "code",
   "execution_count": null,
   "id": "bfc8f249-f146-4946-b34d-45094343fd06",
   "metadata": {},
   "outputs": [],
   "source": [
    "\"\"\"5. Scalability: It is used in applications that needs to be scaled. It allows tasks to be parallelized which leads to significant performance improvement.\n",
    "6. Concurrency: It allows multiple excecution of tasks at the same time."
   ]
  },
  {
   "cell_type": "code",
   "execution_count": 80,
   "id": "f04d8f41-e6a5-4175-a14b-3f79e38a48af",
   "metadata": {},
   "outputs": [
    {
     "name": "stdout",
     "output_type": "stream",
     "text": [
      "0\n",
      "1\n",
      "2\n",
      "3\n",
      "4\n",
      "5\n",
      "6\n",
      "7\n",
      "8\n",
      "9\n",
      "0\n",
      "1\n",
      "2\n",
      "3\n",
      "4\n",
      "5\n",
      "6\n",
      "7\n",
      "8\n",
      "9\n"
     ]
    }
   ],
   "source": [
    "#Q.2.Threading module is used to implement multithreading. Threading module provides a consistent interface for creating and managing threads.\n",
    "import threading\n",
    "def print_numbers():\n",
    "    for j in range(10):\n",
    "        print(j)\n",
    "ther = [threading.Thread(target = print_numbers) for i in range(2)]\n",
    "for t in ther:\n",
    "    t.start()"
   ]
  },
  {
   "cell_type": "code",
   "execution_count": 8,
   "id": "5670ac96-2002-4192-b29c-2d0f1d776455",
   "metadata": {},
   "outputs": [
    {
     "name": "stdout",
     "output_type": "stream",
     "text": [
      "Lettera\n",
      "Letterb\n",
      "Letterc\n",
      "Letterd\n",
      "Lettere\n",
      "Number of threads active 9\n"
     ]
    }
   ],
   "source": [
    "\"\"\"\n",
    "Here are the use of following functions:-\"\"\"\n",
    "\"\"\"activeCount() - This function is deprecated, use active_count(). It is used to determine number of threads that are still active or threads that are not yet terminated.\"\"\"\n",
    "import threading\n",
    "def print_letters():\n",
    "    for letter in \"abcde\" :\n",
    "        print(\"Letter{}\".format(letter))    \n",
    "        threads_active = threading.active_count()\n",
    "    print(\"Number of threads active {}\".format(threads_active))\n",
    "ther4 = [threading.Thread(target = print_letters)]   \n",
    "for t in ther4:\n",
    "    t.start()"
   ]
  },
  {
   "cell_type": "code",
   "execution_count": 24,
   "id": "d60b47ac-25e0-49b6-9b8d-d37c41b082bd",
   "metadata": {},
   "outputs": [
    {
     "name": "stdout",
     "output_type": "stream",
     "text": [
      "0\n",
      "Cuurent thread  is <Thread(Thread-216 (print_numbers), started 139946249672256)>\n",
      "1\n",
      "Cuurent thread  is <Thread(Thread-216 (print_numbers), started 139946249672256)>\n",
      "2\n",
      "Cuurent thread  is <Thread(Thread-216 (print_numbers), started 139946249672256)>\n",
      "3\n",
      "Cuurent thread  is <Thread(Thread-216 (print_numbers), started 139946249672256)>\n",
      "4\n",
      "Cuurent thread  is <Thread(Thread-216 (print_numbers), started 139946249672256)>\n",
      "5\n",
      "Cuurent thread  is <Thread(Thread-216 (print_numbers), started 139946249672256)>\n",
      "6\n",
      "Cuurent thread  is <Thread(Thread-216 (print_numbers), started 139946249672256)>\n",
      "7\n",
      "Cuurent thread  is <Thread(Thread-216 (print_numbers), started 139946249672256)>\n",
      "8\n",
      "Cuurent thread  is <Thread(Thread-216 (print_numbers), started 139946249672256)>\n",
      "9\n",
      "Cuurent thread  is <Thread(Thread-216 (print_numbers), started 139946249672256)>\n",
      "Thread is not alive\n"
     ]
    }
   ],
   "source": [
    "\"\"\"currentThread() - This function is deprecated, use current_thread() . It returns the current thread object representing currently excecuting thread \"\"\"\n",
    "import threading\n",
    "def print_numbers():\n",
    "    for i in range(10):\n",
    "        print(i)\n",
    "        ther5  = threading.current_thread()\n",
    "        print(\"Cuurent thread  is {}\".format(ther5))\n",
    "        \n",
    "ther = [threading.Thread(target = print_numbers)]\n",
    "\n",
    "for t in ther:\n",
    "    t.start()\n",
    "if t.is_alive():\n",
    "    print(\"Thread is alive\")\n",
    "else:\n",
    "    print(\"Thread is not alive\")"
   ]
  },
  {
   "cell_type": "code",
   "execution_count": 1,
   "id": "6995def0-a640-4fa0-90e4-f4a5613ab744",
   "metadata": {},
   "outputs": [
    {
     "name": "stdout",
     "output_type": "stream",
     "text": [
      "0\n",
      "1\n",
      "2\n",
      "3\n",
      "4\n",
      "5\n",
      "6\n",
      "7\n",
      "8\n",
      "9\n",
      "Number of threads that are currently active[<_MainThread(MainThread, started 139946894968640)>, <Thread(IOPub, started daemon 139946824439360)>, <Heartbeat(Heartbeat, started daemon 139946744608320)>, <Thread(Thread-3 (_watch_pipe_fd), started daemon 139946719430208)>, <Thread(Thread-4 (_watch_pipe_fd), started daemon 139946711037504)>, <ControlThread(Control, started daemon 139946702644800)>, <HistorySavingThread(IPythonHistorySavingThread, started 139946694252096)>, <ParentPollerUnix(Thread-2, started daemon 139946274846272)>, <Thread(Thread-5 (print_numbers), started 139946260162112)>]\n"
     ]
    }
   ],
   "source": [
    "\" enumerate() - Return a list of all Thread objects currently alive. It doesnt include threads that are terminated or not yet started. \"\n",
    "import threading\n",
    "def print_numbers():\n",
    "    for i in range(10):\n",
    "        print(i)\n",
    "        ther6 = threading.enumerate()\n",
    "    print(\"Number of threads that are currently active{}\".format(ther6))\n",
    "    \n",
    "ther = [threading.Thread(target = print_numbers)]\n",
    "for t in ther:\n",
    "    t.start()    "
   ]
  },
  {
   "cell_type": "code",
   "execution_count": 27,
   "id": "ed252295-854c-48fd-a5a8-c006cab7ecff",
   "metadata": {},
   "outputs": [
    {
     "name": "stdout",
     "output_type": "stream",
     "text": [
      "Thread Thread-26 is running\n",
      "Thread Thread-26 is running\n",
      "Thread Thread-26 is running\n",
      "Thread Thread-26 is running\n",
      "Thread Thread-26 is running\n"
     ]
    },
    {
     "name": "stderr",
     "output_type": "stream",
     "text": [
      "/tmp/ipykernel_4731/669446856.py:7: DeprecationWarning: getName() is deprecated, get the name attribute instead\n",
      "  print(\"Thread {} is running\".format(self.getName()))\n"
     ]
    }
   ],
   "source": [
    "# Q.3.\n",
    "\"run() - Fundamental method used in the creating custom thread classes by subclassing threading.Thread(). It defines the behaviour that a thread will execute when started. \"\n",
    "import threading\n",
    "class my_Thread(threading.Thread):    \n",
    "    def run(self):\n",
    "        for i in range(5):\n",
    "            print(\"Thread {} is running\".format(self.getName()))\n",
    "my_Thread().start()    "
   ]
  },
  {
   "cell_type": "code",
   "execution_count": 23,
   "id": "fc23c405-04b6-4aaa-b728-203cf3f41892",
   "metadata": {},
   "outputs": [
    {
     "name": "stdout",
     "output_type": "stream",
     "text": [
      "testid is 0\n",
      "Thread is not alive\n",
      "testid is 1\n",
      "Thread is not alive\n",
      "testid is 2\n",
      "Thread is not alive\n",
      "testid is 3\n",
      "Thread is not alive\n",
      "testid is 4\n",
      "Thread is not alive\n",
      "testid is 5\n",
      "Thread is not alive\n",
      "testid is 6\n",
      "Thread is not alive\n",
      "testid is 7\n",
      "Thread is not alive\n",
      "testid is 8\n",
      "Thread is not alive\n",
      "testid is 9\n",
      "Thread is not alive\n"
     ]
    },
    {
     "data": {
      "text/plain": [
       "[<Thread(Thread-206 (test), stopped 139946249672256)>,\n",
       " <Thread(Thread-207 (test), stopped 139946249672256)>,\n",
       " <Thread(Thread-208 (test), stopped 139946249672256)>,\n",
       " <Thread(Thread-209 (test), stopped 139946249672256)>,\n",
       " <Thread(Thread-210 (test), stopped 139946249672256)>,\n",
       " <Thread(Thread-211 (test), stopped 139946249672256)>,\n",
       " <Thread(Thread-212 (test), stopped 139946249672256)>,\n",
       " <Thread(Thread-213 (test), stopped 139946249672256)>,\n",
       " <Thread(Thread-214 (test), stopped 139946249672256)>,\n",
       " <Thread(Thread-215 (test), stopped 139946249672256)>]"
      ]
     },
     "execution_count": 23,
     "metadata": {},
     "output_type": "execute_result"
    }
   ],
   "source": [
    "\"\"\"start() - Start the execution of the thread.  It must be called at most once per thread object. It arranges for the\n",
    "object run() method to be invoked in a separate thread of control.This method will raise a RuntimeError if called more than once on the\n",
    "same thread object.\"\"\"\n",
    "\n",
    "\"\"\"join() - wait until the thread terminates, means when process terminates, it releases the resources .The join() method is useful when one\n",
    "need to ensure that certain threads have completed their tasks before proceeding with other parts of  program.\"\"\"\n",
    "\n",
    "\"\"\"isAlive() - It checks whether the thread is currently running or has terminated. This method returns True just before the run() method starts \n",
    "until just after the run() method terminates.\"\"\"\n",
    "\n",
    "import threading\n",
    "def test(id):\n",
    "    print(\"testid is %d\" %(id))\n",
    "\n",
    "ther = [threading.Thread(target = test, args = (i, )) for i in range(10)]\n",
    "\n",
    "for t in ther: \n",
    "    t.start()\n",
    "    if t.is_alive():\n",
    "        print(\"Thread is alive\")\n",
    "    else:\n",
    "        print(\"Thread is not alive\")\n",
    "    t.join()   \n",
    "\n",
    "ther"
   ]
  },
  {
   "cell_type": "code",
   "execution_count": 10,
   "id": "34c599b8-7724-4d03-9ecb-de22d41d8021",
   "metadata": {},
   "outputs": [
    {
     "name": "stdout",
     "output_type": "stream",
     "text": [
      "List of square [4, 9, 16, 25, 36, 49, 64, 81]\n",
      "List of cube [8, 27, 64, 125, 216, 343, 512, 729]\n"
     ]
    },
    {
     "data": {
      "text/plain": [
       "([<Thread(Thread-23 (square), started 140115736237632)>],\n",
       " [<Thread(Thread-24 (cube), started 140115753023040)>])"
      ]
     },
     "execution_count": 10,
     "metadata": {},
     "output_type": "execute_result"
    }
   ],
   "source": [
    "#Q.4.\n",
    "import threading\n",
    "import time\n",
    "list1 = [2,3,4,5,6,7,8,9]\n",
    "\n",
    "def square(l):\n",
    "    l1_square = []\n",
    "    for i in l:\n",
    "        i = i ** 2\n",
    "        l1_square.append(i)\n",
    "    print(\"List of square\", l1_square)\n",
    "    time.sleep(1)\n",
    "\n",
    "\n",
    "def cube(l2): \n",
    "    l2_cube = []\n",
    "    for i in l2:\n",
    "        i = i ** 3\n",
    "        l2_cube.append(i)\n",
    "    print(\"List of cube\", l2_cube)\n",
    "    time.sleep(1)\n",
    "\n",
    "\n",
    "ther1 = [threading.Thread(target = (square), args = (list1, ))] \n",
    "\n",
    "ther2 = [threading.Thread(target = (cube), args = (list1, ))]\n",
    "\n",
    "for t in ther1:\n",
    "    t.start()\n",
    "for t1 in ther2:\n",
    "    t1.start()\n",
    "\n",
    "ther1 ,ther2"
   ]
  },
  {
   "cell_type": "code",
   "execution_count": 11,
   "id": "2def9258-9c06-40a3-b089-06acb29e7d43",
   "metadata": {},
   "outputs": [
    {
     "data": {
      "text/plain": [
       "'Advantages of multithreading are:\\n1. 1. When we have to execute multiple instances of a program in a single core, then we use multithreading.\\n2. To save memory space.\\n3. To execute  multiple files in multiple threads .\\n4. Efficient use of Resources: A program is running multiple times but resource is shared e.g a number which multiple programs are trying to update.\\n5. Scalability: It is used in applications that needs to be scaled. It allows tasks to be parallelized which leads to significant performance improvement.\\n6. Concurrency: It allows multiple excecution of tasks at the same time.\\n7. Improved Perfomance\\nDisadvantages of multithreading are:\\n1. Deadlock\\n2. RuntimeError\\n'"
      ]
     },
     "execution_count": 11,
     "metadata": {},
     "output_type": "execute_result"
    }
   ],
   "source": [
    "#Q.5.\n",
    "\"\"\"Advantages of multithreading are:\n",
    "1. 1. When we have to execute multiple instances of a program in a single core, then we use multithreading.\n",
    "2. To save memory space.\n",
    "3. To execute  multiple files in multiple threads .\n",
    "4. Efficient use of Resources: A program is running multiple times but resource is shared e.g a number which multiple programs are trying to update.\n",
    "5. Scalability: It is used in applications that needs to be scaled. It allows tasks to be parallelized which leads to significant performance improvement.\n",
    "6. Concurrency: It allows multiple excecution of tasks at the same time.\n",
    "7. Improved Perfomance and responsiveness\n",
    "Disadvantages of multithreading are:\n",
    "1. Deadlock: It happens when two or more threads are unable to proceed because each is waiting for the other(s) to release a resource or complete a task, resulting in a standstill. In a deadlock condition, the threads are effectively stuck and cannot make progress.\n",
    "2. Racecondition :  Occurs when multiple threads access shared data concurrently \n",
    "3. Complexity : Multithreaded programming can be complex and ErrorProne.\n",
    "4. Debugging and Testing : Identifying and fixing issues in multithreaded code can be challenging.\n",
    "\"\"\""
   ]
  },
  {
   "cell_type": "code",
   "execution_count": null,
   "id": "33abc5e7-0931-42fd-b411-91751e3f971d",
   "metadata": {},
   "outputs": [],
   "source": [
    "#Q.6. \n",
    "\"\"\"Deadlock: It happens when two or more threads are unable to proceed because each is waiting for the other(s) to release a\n",
    "resource or complete a task, resulting in a standstill. In a deadlock condition, the threads are effectively stuck and cannot make progress. \n",
    "Deadlocks occur due to improper synchronization and resource management in multithreaded programs.\n",
    "\n",
    "\"\"\"\n"
   ]
  },
  {
   "cell_type": "code",
   "execution_count": 19,
   "id": "cc7f2508-a3fb-4d47-9430-affb641becd6",
   "metadata": {},
   "outputs": [
    {
     "name": "stdout",
     "output_type": "stream",
     "text": [
      "test1id is 0 and sharedvar is increased by 1 \n",
      "test1id is 1 and sharedvar is increased by 2 \n",
      "test1id is 2 and sharedvar is increased by 3 \n",
      "test1id is 3 and sharedvar is increased by 4 \n",
      "test1id is 0 and sharedvar is increased by 5 \n",
      "test1id is 1 and sharedvar is increased by 6 \n",
      "test1id is 2 and sharedvar is increased by 7 \n",
      "test1id is 3 and sharedvar is increased by 8 \n"
     ]
    }
   ],
   "source": [
    "\"\"\"RaceCondition: Occurs when multiple threads access shared data concurrently and result depends on order of execution of threads. Behaviour of program becomes \n",
    "unpredictable and result is errorprone.\n",
    "\n",
    "Proper synchronous mechanisms like lock is used to avoid sunch conditions .\"\"\"\n",
    "import threading\n",
    "counter = 0\n",
    "\n",
    "def increament_counter(id):\n",
    "    global counter\n",
    "    counter += 1\n",
    "    print(\"test1id is %d and sharedvar is increased by %d \" %(id, counter) )\n",
    "        \n",
    "ther1 = [threading.Thread(target = increament_counter, args = (t, )) for t in range(4)]\n",
    "ther2 = [threading.Thread(target = increament_counter, args = (t, )) for t in range(4)]\n",
    "\n",
    "for t in ther1:\n",
    "    t.start()\n",
    "    \n",
    "for t1 in ther2:\n",
    "    t1.start()"
   ]
  },
  {
   "cell_type": "code",
   "execution_count": null,
   "id": "3bb0d883-7c53-4148-87f5-9042216f41cb",
   "metadata": {},
   "outputs": [],
   "source": []
  }
 ],
 "metadata": {
  "kernelspec": {
   "display_name": "Python 3 (ipykernel)",
   "language": "python",
   "name": "python3"
  },
  "language_info": {
   "codemirror_mode": {
    "name": "ipython",
    "version": 3
   },
   "file_extension": ".py",
   "mimetype": "text/x-python",
   "name": "python",
   "nbconvert_exporter": "python",
   "pygments_lexer": "ipython3",
   "version": "3.10.8"
  }
 },
 "nbformat": 4,
 "nbformat_minor": 5
}
