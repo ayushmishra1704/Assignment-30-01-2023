{
 "cells": [
  {
   "cell_type": "code",
   "execution_count": 126,
   "id": "7e8805be-8f9d-46e3-a6a4-22ecc8fcd2f2",
   "metadata": {},
   "outputs": [],
   "source": [
    "\"Q.1.\"\n",
    "class Vehicle:\n",
    "    def __init__(self, name_of_vehicle, max_speed, average_of_vehicle):\n",
    "        self.name_of_vehicle = name_of_vehicle\n",
    "        self.max_speed = max_speed\n",
    "        self.average_of_vehicle = average_of_vehicle\n",
    "        \n",
    "    def Vehicle_details(name_of_vehicle, max_speed, average_of_vehicle):\n",
    "        return self.name_of_vehicle, self.max_speed, self.average_of_vehicle"
   ]
  },
  {
   "cell_type": "code",
   "execution_count": 127,
   "id": "8358d125-276e-4432-9268-9f4a8a077184",
   "metadata": {},
   "outputs": [],
   "source": [
    "Vehicle = Vehicle(\"Tata Nexon\", 140, 70)"
   ]
  },
  {
   "cell_type": "code",
   "execution_count": 128,
   "id": "c06e2039-41d3-49ba-9fab-9d7edc4ba5b9",
   "metadata": {},
   "outputs": [
    {
     "data": {
      "text/plain": [
       "140"
      ]
     },
     "execution_count": 128,
     "metadata": {},
     "output_type": "execute_result"
    }
   ],
   "source": [
    "Vehicle.max_speed"
   ]
  },
  {
   "cell_type": "code",
   "execution_count": 172,
   "id": "9f291b99-146c-4b40-9872-e7e4d037c4db",
   "metadata": {},
   "outputs": [],
   "source": [
    "\"Q.2.\"\n",
    "class Vehicle:\n",
    "    def __init__(self, name_of_vehicle, max_speed, average_of_vehicle):\n",
    "        self.name_of_vehicle = name_of_vehicle\n",
    "        self.max_speed = max_speed\n",
    "        self.average_of_vehicle = average_of_vehicle\n",
    "    \n",
    "    def Vehicle_details(name_of_vehicle, max_speed, average_of_vehicle):\n",
    "        return self.name_of_vehicle, self.max_speed, self.average_of_vehicle\n",
    "    \n",
    "class Car(Vehicle):\n",
    "    \n",
    "    def seating_capacity(self, capacity):\n",
    "        self.capacity = capacity\n",
    "        return self.capacity"
   ]
  },
  {
   "cell_type": "code",
   "execution_count": 173,
   "id": "35992b33-e3e9-4d7e-97b8-675097e175ad",
   "metadata": {},
   "outputs": [],
   "source": [
    "Car = Car(\"Tata Nexon\", 140, 60)"
   ]
  },
  {
   "cell_type": "code",
   "execution_count": 174,
   "id": "55fe2cf6-3a52-4507-9914-d3d11c46b33e",
   "metadata": {},
   "outputs": [
    {
     "data": {
      "text/plain": [
       "6"
      ]
     },
     "execution_count": 174,
     "metadata": {},
     "output_type": "execute_result"
    }
   ],
   "source": [
    "Car.seating_capacity(6)"
   ]
  },
  {
   "cell_type": "code",
   "execution_count": 175,
   "id": "a8be53e8-dee4-4037-8869-cd3813fbda94",
   "metadata": {},
   "outputs": [
    {
     "data": {
      "text/plain": [
       "'Tata Nexon'"
      ]
     },
     "execution_count": 175,
     "metadata": {},
     "output_type": "execute_result"
    }
   ],
   "source": [
    "Car.name_of_vehicle"
   ]
  },
  {
   "cell_type": "code",
   "execution_count": null,
   "id": "4bde0cb8-c00a-4c5d-85a6-a8c67f8c88dc",
   "metadata": {},
   "outputs": [],
   "source": [
    "\"Q.3.\"\n",
    "\"When a single child class inherits both its parent classes(more than one class),it is called Multiple inheritance.\""
   ]
  },
  {
   "cell_type": "code",
   "execution_count": 191,
   "id": "125bb7f7-6933-4f90-b3b2-bb7d7554fe32",
   "metadata": {},
   "outputs": [],
   "source": [
    "\"e.g.\"\n",
    "class class1:\n",
    "    def Car_1(self):\n",
    "        return \"This is my first car \""
   ]
  },
  {
   "cell_type": "code",
   "execution_count": 192,
   "id": "235a76ff-a96e-4724-8533-c0978afcb72f",
   "metadata": {},
   "outputs": [],
   "source": [
    "class class2:\n",
    "    def Car_2(self):\n",
    "        return \"This is my second car\""
   ]
  },
  {
   "cell_type": "code",
   "execution_count": 193,
   "id": "d6f0cac7-81f8-4f3b-af99-ad22f50ddfb7",
   "metadata": {},
   "outputs": [],
   "source": [
    "class class3(class1, class2):\n",
    "    pass"
   ]
  },
  {
   "cell_type": "code",
   "execution_count": 194,
   "id": "b32aa7cc-45a2-4e49-a35a-5b130133997b",
   "metadata": {},
   "outputs": [],
   "source": [
    "obj_class3 = class3()"
   ]
  },
  {
   "cell_type": "code",
   "execution_count": 195,
   "id": "7c066a4a-4e63-45d5-a14c-b2969715f016",
   "metadata": {},
   "outputs": [
    {
     "data": {
      "text/plain": [
       "'This is my second car'"
      ]
     },
     "execution_count": 195,
     "metadata": {},
     "output_type": "execute_result"
    }
   ],
   "source": [
    "obj_class3.Car_2()"
   ]
  },
  {
   "cell_type": "code",
   "execution_count": 9,
   "id": "dc978342-0ee0-4ef6-a3fd-52f3e58d08b3",
   "metadata": {},
   "outputs": [],
   "source": [
    "\"Q.4.\"\n",
    "\"Setter and getter are mainly used in Data Encapsulation in order to make variables private and protect the data and hide internal structure of function.\"\n",
    "class NIT_Silchar:\n",
    "    def __init__(self, Student_Name, Scholar_Id, First_Sem_Fee):\n",
    "        self.__Student_Name = Student_Name\n",
    "        self.__Scholar_Id = Scholar_Id\n",
    "        self.__First_Sem_Fee = First_Sem_Fee\n",
    "        \n",
    "    def set_Student_Details(self, Refundable_fee ):\n",
    "        if Refundable_fee < 1000:\n",
    "            self.__First_Sem_Fee = self.__First_Sem_Fee - Fee\n",
    "            return True\n",
    "        else :\n",
    "            return \"Fee Cannot be shown\"\n",
    "        \n",
    "    def get_Student_Details(self):\n",
    "        return self.__Student_Name, self.__Scholar_Id, self.__First_Sem_Fee \n",
    "        \n",
    "        "
   ]
  },
  {
   "cell_type": "code",
   "execution_count": 10,
   "id": "41cc7e63-3ee7-490e-8e67-3f151ec82284",
   "metadata": {},
   "outputs": [],
   "source": [
    "Student1 = NIT_Silchar(\"Ayush\", 112203, 57000)"
   ]
  },
  {
   "cell_type": "code",
   "execution_count": 11,
   "id": "5160fa73-87b6-4371-a45d-21655e82cfb5",
   "metadata": {},
   "outputs": [
    {
     "data": {
      "text/plain": [
       "('Ayush', 112203, 57000)"
      ]
     },
     "execution_count": 11,
     "metadata": {},
     "output_type": "execute_result"
    }
   ],
   "source": [
    "Student1.get_Student_Details()"
   ]
  },
  {
   "cell_type": "code",
   "execution_count": 20,
   "id": "3f948858-45dc-4861-8828-7a3a95cf719c",
   "metadata": {},
   "outputs": [],
   "source": [
    "\"Q.5.\"\n",
    "\"Method overriding is not possible in Python but we can achieve  it with the help of class method.\"\n",
    "class Bank_Account:\n",
    "    def __init__(self, Account_Name, Account_Balance):\n",
    "        self.Account_Name = Account_Name\n",
    "        self.Account_Balance =  Account_Balance\n",
    "     \n",
    "    @classmethod\n",
    "    def Account_Details(cls, Account_Name, Account_Balance):\n",
    "        return cls(Account_Name, Account_Balance)\n",
    "    \n",
    "    def Details(self):\n",
    "        return self.Account_Name, self.Account_Balance\n",
    "        "
   ]
  },
  {
   "cell_type": "code",
   "execution_count": 21,
   "id": "55d2675a-2864-47e3-ba44-1d389b15e71c",
   "metadata": {},
   "outputs": [],
   "source": [
    "BA = Bank_Account.Account_Details(\"Ayush\", 10000)"
   ]
  },
  {
   "cell_type": "code",
   "execution_count": 23,
   "id": "9f34e68c-d27f-4a22-bf5b-b7a1b9a99a7c",
   "metadata": {},
   "outputs": [
    {
     "data": {
      "text/plain": [
       "'Ayush'"
      ]
     },
     "execution_count": 23,
     "metadata": {},
     "output_type": "execute_result"
    }
   ],
   "source": [
    "BA.Account_Name"
   ]
  },
  {
   "cell_type": "code",
   "execution_count": null,
   "id": "42c79040-8464-4869-89f3-57dd67dd1111",
   "metadata": {},
   "outputs": [],
   "source": []
  }
 ],
 "metadata": {
  "kernelspec": {
   "display_name": "Python 3 (ipykernel)",
   "language": "python",
   "name": "python3"
  },
  "language_info": {
   "codemirror_mode": {
    "name": "ipython",
    "version": 3
   },
   "file_extension": ".py",
   "mimetype": "text/x-python",
   "name": "python",
   "nbconvert_exporter": "python",
   "pygments_lexer": "ipython3",
   "version": "3.10.8"
  }
 },
 "nbformat": 4,
 "nbformat_minor": 5
}
