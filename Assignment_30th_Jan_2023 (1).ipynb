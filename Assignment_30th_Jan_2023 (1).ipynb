{
 "cells": [
  {
   "cell_type": "code",
   "execution_count": 4,
   "id": "2200adb5-68d8-49e5-b865-fe65c2cd9545",
   "metadata": {},
   "outputs": [
    {
     "name": "stdin",
     "output_type": "stream",
     "text": [
      "enter the percentage of marks 45\n"
     ]
    },
    {
     "name": "stdout",
     "output_type": "stream",
     "text": [
      "grade is D\n"
     ]
    }
   ],
   "source": [
    "# Q.1-Ans\n",
    "percentage_number = int(input(\"enter the percentage of marks\"))\n",
    "if percentage_number > 90:\n",
    "    print(\"grade is A\")\n",
    "elif percentage_number > 80 and percentage_number <=90 :\n",
    "    print(\"grade is B\")\n",
    "elif percentage_number >= 60 and percentage_number <=80 :\n",
    "    print(\"grade is C\")\n",
    "else :\n",
    "    print(\"grade is D\")\n",
    "    \n",
    "    "
   ]
  },
  {
   "cell_type": "code",
   "execution_count": 5,
   "id": "5ab2f165-711a-4301-bf28-3973dd7b4fbe",
   "metadata": {},
   "outputs": [
    {
     "name": "stdin",
     "output_type": "stream",
     "text": [
      "enter the percentage of marks 30000\n"
     ]
    },
    {
     "name": "stdout",
     "output_type": "stream",
     "text": [
      "Road Tax is 5%\n"
     ]
    }
   ],
   "source": [
    "# Q.2- Ans\n",
    "cost_price_Rs = int(input(\"enter the percentage of marks\"))\n",
    "if cost_price_Rs > 100000:\n",
    "    print(\"Road Tax is 15%\")\n",
    "elif cost_price_Rs > 50000 and cost_price_Rs <= 100000:\n",
    "    print(\"Road Tax is 10%\")\n",
    "else :\n",
    "    print(\"Road Tax is 5%\")\n",
    "\n"
   ]
  },
  {
   "cell_type": "code",
   "execution_count": 1,
   "id": "b4ae8383-973f-45bc-9dab-bb32d299476f",
   "metadata": {},
   "outputs": [
    {
     "name": "stdin",
     "output_type": "stream",
     "text": [
      "enter any of the 3 cities Agra\n"
     ]
    },
    {
     "name": "stdout",
     "output_type": "stream",
     "text": [
      "Monument is Taj Mahal\n"
     ]
    }
   ],
   "source": [
    "# Q.3- Ans\n",
    "city = input(\"enter any of the 3 cities\")\n",
    "if city == \"Delhi\":\n",
    "    print(\"Monument is Red Fort\")\n",
    "elif city == \"Agra\":\n",
    "    print(\"Monument is Taj Mahal\")\n",
    "else:\n",
    "    print(\"Monument is Jal Mahal\")"
   ]
  },
  {
   "cell_type": "code",
   "execution_count": 15,
   "id": "3fa024c8-4b05-4553-ac65-ed2aafe70c43",
   "metadata": {},
   "outputs": [
    {
     "name": "stdin",
     "output_type": "stream",
     "text": [
      "Enter any number 45\n"
     ]
    },
    {
     "name": "stdout",
     "output_type": "stream",
     "text": [
      "2\n"
     ]
    }
   ],
   "source": [
    "# Q.4- Ans\n",
    "number = int(input(\"Enter any number\"))\n",
    "counter = 0\n",
    "while number > 10 :\n",
    "    number = number/3\n",
    "    counter+=1    \n",
    "print(counter)   \n",
    "\n",
    " "
   ]
  },
  {
   "cell_type": "code",
   "execution_count": 14,
   "id": "a8395228-59a1-4077-8758-6f8436fee947",
   "metadata": {},
   "outputs": [
    {
     "name": "stdin",
     "output_type": "stream",
     "text": [
      "Enter the number 32\n"
     ]
    },
    {
     "name": "stdout",
     "output_type": "stream",
     "text": [
      "5\n"
     ]
    }
   ],
   "source": [
    "# Q.5- Ans \n",
    "# When to use while loops :-\n",
    "\"\"\"Python while loop is used to execute statements(blocks of code) for an unknown number of times until certain criteria is met or until when given condition is true. \n",
    "And when the condition becomes false, the line immediately after the loop is executed. e.g If we want a ask a user to divide a number by 2 until it is less than 1 and ask how many times it has been divided by 2. \n",
    "If it is 32 we know we know 5 number of times. But for any number we dont know. So the process is\"\"\"\n",
    "number = int(input(\"Enter the number\"))\n",
    "counter = 0\n",
    "while number > 1 :\n",
    "    number = number/2\n",
    "    counter += 1\n",
    "print(counter)\n",
    "\n",
    "# Why to use while loops :-\n",
    "\n",
    "\"\"\" Advantage of while loop is it will execute as many times as necessary to accomplish its task \"\"\"\n"
   ]
  },
  {
   "cell_type": "code",
   "execution_count": 2,
   "id": "af8d9fe4-158f-4e75-b224-0de6b89279f9",
   "metadata": {},
   "outputs": [
    {
     "name": "stdin",
     "output_type": "stream",
     "text": [
      "Enter the number of rows 5\n"
     ]
    },
    {
     "name": "stdout",
     "output_type": "stream",
     "text": [
      "1\n",
      "1 2\n",
      "1 2 3\n",
      "1 2 3 4\n",
      "1 2 3 4 5\n"
     ]
    }
   ],
   "source": [
    "# Q.6- \n",
    "\n",
    "# Pattern1 - Use nested while loop to print a pattern of numbers\n",
    "r = int(input(\"Enter the number of rows\"))\n",
    "i = 1\n",
    "while i < r+1:\n",
    "    j = 1\n",
    "    while j < i:       \n",
    "        print(j, end = \" \")\n",
    "        j += 1\n",
    "    print(i)\n",
    "    i += 1"
   ]
  },
  {
   "cell_type": "code",
   "execution_count": 1,
   "id": "5e2d60b5-9a94-4cfd-984a-1e46c01d32f5",
   "metadata": {},
   "outputs": [
    {
     "name": "stdin",
     "output_type": "stream",
     "text": [
      "Enter the number of rows 5\n"
     ]
    },
    {
     "name": "stdout",
     "output_type": "stream",
     "text": [
      "1\n",
      "2 2\n",
      "3 3 3\n",
      "4 4 4 4\n",
      "5 5 5 5 5\n"
     ]
    }
   ],
   "source": [
    "# Q.6- Ans\n",
    "# Pattern2 - Use nested while loop to print a pattern of numbers\n",
    "r = int(input(\"Enter the number of rows\"))\n",
    "i = 1\n",
    "while i < r+1:\n",
    "    j = 1\n",
    "    while j < i:       \n",
    "        print(i, end = \" \")\n",
    "        j += 1\n",
    "    print(i)\n",
    "    i += 1"
   ]
  },
  {
   "cell_type": "code",
   "execution_count": null,
   "id": "759e413d-b41e-4dfb-9a97-00a42245723f",
   "metadata": {},
   "outputs": [],
   "source": [
    "# Q.6- Ans\n",
    "r = int(input(\"Enter the number of rows\"))\n",
    "i = r\n",
    "while i > 0 :\n",
    "    j = i\n",
    "    while j > 1:       \n",
    "        print(i, end = \" \")\n",
    "        j -= 1\n",
    "    print(i)\n",
    "    i -= 1"
   ]
  },
  {
   "cell_type": "code",
   "execution_count": null,
   "id": "4dc61171-8df1-4850-803a-9ec6a729cc5b",
   "metadata": {},
   "outputs": [],
   "source": [
    "# Q.7- Ans\n",
    "l = []\n",
    "i = 0\n",
    "while i < 10 :\n",
    "    i+=1\n",
    "    l.append(i)\n",
    "l.reverse()\n",
    "print(l)"
   ]
  },
  {
   "cell_type": "code",
   "execution_count": null,
   "id": "e84cbc55-a225-433f-967f-2a88d79621da",
   "metadata": {},
   "outputs": [],
   "source": [
    "\n",
    "# Q.8- Ans\n",
    "l = []\n",
    "i = 0\n",
    "while i < 10 :\n",
    "    i+=1\n",
    "    l.append(i)\n",
    "l.reverse()\n",
    "print(l)"
   ]
  },
  {
   "cell_type": "code",
   "execution_count": null,
   "id": "10c0a41a-651c-4214-93af-7c7b71d4f9e3",
   "metadata": {},
   "outputs": [],
   "source": []
  }
 ],
 "metadata": {
  "kernelspec": {
   "display_name": "Python 3 (ipykernel)",
   "language": "python",
   "name": "python3"
  },
  "language_info": {
   "codemirror_mode": {
    "name": "ipython",
    "version": 3
   },
   "file_extension": ".py",
   "mimetype": "text/x-python",
   "name": "python",
   "nbconvert_exporter": "python",
   "pygments_lexer": "ipython3",
   "version": "3.10.8"
  }
 },
 "nbformat": 4,
 "nbformat_minor": 5
}
