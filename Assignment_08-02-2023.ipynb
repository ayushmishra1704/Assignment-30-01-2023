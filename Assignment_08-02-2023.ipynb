{
 "cells": [
  {
   "cell_type": "code",
   "execution_count": null,
   "id": "08b864d6-c524-4d9a-ad3c-2be1bdc9d791",
   "metadata": {},
   "outputs": [],
   "source": [
    "#Q.1 Ans - Abstraction is used to prepare blueprint. \n",
    "# Benefits of Abstraction - \n",
    "#1. It reduces complexity  of viewing  things. \n",
    "#2. It hides important information from user which further helps improving security. \n",
    "#3. Increases reusabiity and avoids code duplication.\n",
    "#4. It can change internal implementation of class independently without affecting the user."
   ]
  },
  {
   "cell_type": "code",
   "execution_count": 31,
   "id": "9a567c49-25b1-4d2c-804d-c314f16c2263",
   "metadata": {},
   "outputs": [],
   "source": [
    "#e.g-\n",
    "import abc\n",
    "class pwskills:\n",
    "   \n",
    "    @abc.abstractmethod\n",
    "    def student_names(self):\n",
    "        pass\n",
    "    \n",
    "    @abc.abstractmethod\n",
    "    def roll_number(self):\n",
    "        pass\n",
    "    \n",
    "    @abc.abstractmethod\n",
    "    def student_marks(self):\n",
    "        pass   "
   ]
  },
  {
   "cell_type": "code",
   "execution_count": 33,
   "id": "9aad0ec6-1c33-429b-aab4-58c41acb865f",
   "metadata": {},
   "outputs": [
    {
     "data": {
      "text/plain": [
       "'Ayush'"
      ]
     },
     "execution_count": 33,
     "metadata": {},
     "output_type": "execute_result"
    }
   ],
   "source": [
    "class data_science_masters(pwskills):\n",
    "        \n",
    "    def student_names(self, name):\n",
    "        self.name = name\n",
    "        return self.name\n",
    "    \n",
    "    def roll_number(self ,roll_number):\n",
    "        self.roll_number = roll_number\n",
    "        return self.roll_number\n",
    "             \n",
    "    def student_marks(self, student_mark):\n",
    "        self.student_mark = student_mark\n",
    "        return self.student_marks \n",
    "\n",
    "names_dsm_class = data_science_masters()\n",
    "\n",
    "names_dsm_class.student_names(\"Ayush\")\n",
    "\n",
    "\n"
   ]
  },
  {
   "cell_type": "code",
   "execution_count": 9,
   "id": "02a09bba-827c-43c6-af80-6100d31c1de0",
   "metadata": {},
   "outputs": [],
   "source": [
    "#Q.2 Ans\n",
    "# Encapsulation prevent user to make changes to the internal structure of a class where as in Abstraction, user can change internal implementation of a class.\n",
    "# Abstraction is a Design level project where as Encapsulation is implementation level process.\n",
    "# It reduces complexity at design stage of project whereas Encapsulation hides implementation and user not able to access internal variables at implementation level.\n",
    "# -e.g - Encapsulation\n",
    "class car:\n",
    "    def __init__(self, speed, year, model):\n",
    "        self.__speed = speed\n",
    "        self.__year = year\n",
    "        self.__model = model\n",
    "        \n",
    "    def set_speed(self ,speed):\n",
    "        self.__speed = 0 if speed < 0 else speed\n",
    "        \n",
    "    def get_speed(self):\n",
    "        return self.__speed      "
   ]
  },
  {
   "cell_type": "code",
   "execution_count": 10,
   "id": "fe74b586-6e08-4444-85e2-e87c1977bc17",
   "metadata": {},
   "outputs": [],
   "source": [
    "c = car(80 , 2020 , \"Nexon\")"
   ]
  },
  {
   "cell_type": "code",
   "execution_count": 12,
   "id": "9bf25a77-7f9b-43d8-9576-a0c85f72459f",
   "metadata": {},
   "outputs": [
    {
     "data": {
      "text/plain": [
       "80"
      ]
     },
     "execution_count": 12,
     "metadata": {},
     "output_type": "execute_result"
    }
   ],
   "source": [
    "c.get_speed()"
   ]
  },
  {
   "cell_type": "code",
   "execution_count": 21,
   "id": "806b196e-8df5-4dfb-858c-12682e41fa2a",
   "metadata": {},
   "outputs": [],
   "source": [
    "# -e.g - Abstraction\n",
    "import abc\n",
    "class pwskills:\n",
    "    \n",
    "    @abc.abstractmethod\n",
    "    def studentdetails(self): \n",
    "        pass\n",
    "    \n",
    "    @abc.abstractmethod\n",
    "    def studentassignment(self):\n",
    "        pass"
   ]
  },
  {
   "cell_type": "code",
   "execution_count": 22,
   "id": "e47b6203-b0c3-4694-80b7-88337433f975",
   "metadata": {},
   "outputs": [],
   "source": [
    "class studentskills(pwskills):\n",
    "\n",
    "    def studentdetails(self): \n",
    "        return \"This is my first class\" \n",
    "    \n",
    "    def studentassignment(self):\n",
    "        return \"This is my first assignment\""
   ]
  },
  {
   "cell_type": "code",
   "execution_count": 23,
   "id": "0ec1c56f-478b-4c07-9287-8dbdd506f05c",
   "metadata": {},
   "outputs": [
    {
     "data": {
      "text/plain": [
       "'This is my first class'"
      ]
     },
     "execution_count": 23,
     "metadata": {},
     "output_type": "execute_result"
    }
   ],
   "source": [
    "dsm = studentskills()\n",
    "dsm.studentdetails()"
   ]
  },
  {
   "cell_type": "code",
   "execution_count": null,
   "id": "7432b0ad-d173-4472-9e03-89fc81918979",
   "metadata": {},
   "outputs": [],
   "source": [
    "\"\"\" Q.3 Ans - A class is called an Abstract class if it contains one or more abstract methods. \n",
    "An abstract method is a method that is declared, but contains no implementation.\n",
    "The 'abc' module in Python library provides the infrastructure for defining custom abstract base classes. \n",
    "'abc' works by marking methods of the base class as abstract. Abstract class cannot be instantiated in python. \n",
    "An Abstract  method can be call by its subclasses.\"\"\"\n"
   ]
  },
  {
   "cell_type": "code",
   "execution_count": null,
   "id": "1cd73441-c435-446a-b136-8a83791553dd",
   "metadata": {},
   "outputs": [],
   "source": [
    "\"\"\"Q.4 Ans - Data Abstraction in Python can be achieved through creating abstract classes and methods and inheriting them later.\"\"\" "
   ]
  },
  {
   "cell_type": "code",
   "execution_count": null,
   "id": "449abb67-e638-4d18-af02-303f4fcaf920",
   "metadata": {},
   "outputs": [],
   "source": [
    "\"\"\"Q.5 Ans - We cannot create an abstract class in Python directly. \n",
    "The module we can use to create an abstract class in Python is abc(abstract base class) module.\n",
    "Abstract classes cannot be instantiated, but they can be subclassed.\n",
    "A class is called an Abstract class if it contains one or more abstract methods. \n",
    "An abstract method is a method that is declared, but contains no implementation \"\"\""
   ]
  }
 ],
 "metadata": {
  "kernelspec": {
   "display_name": "Python 3 (ipykernel)",
   "language": "python",
   "name": "python3"
  },
  "language_info": {
   "codemirror_mode": {
    "name": "ipython",
    "version": 3
   },
   "file_extension": ".py",
   "mimetype": "text/x-python",
   "name": "python",
   "nbconvert_exporter": "python",
   "pygments_lexer": "ipython3",
   "version": "3.10.8"
  }
 },
 "nbformat": 4,
 "nbformat_minor": 5
}
