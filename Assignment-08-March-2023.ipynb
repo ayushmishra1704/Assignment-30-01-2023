{
 "cells": [
  {
   "cell_type": "code",
   "execution_count": 1,
   "id": "16e6ce63-5c9e-40e3-9c03-ce7b97625e73",
   "metadata": {},
   "outputs": [
    {
     "data": {
      "text/plain": [
       "'Q.1. Probability density function defines the relative likelihood of a\\ncontinous variable X which takes on a certain particular values or falls  within a range.\\nIf Pdf of a random variable X is represented as f(X).\\nProperties of Probability density function:-\\n\\n1. f(X) > 0, for X is in variable range\\n2. The total area of f(X) over its entire range is equal to 1.\\n3. P[a<X<b] = Area of f(X) in the range(a<X<b).\\n'"
      ]
     },
     "execution_count": 1,
     "metadata": {},
     "output_type": "execute_result"
    }
   ],
   "source": [
    "\"\"\"Q.1. Probability density function defines the relative likelihood of a\n",
    "continous variable X which takes on a certain particular values or falls  within a range.\n",
    "If Pdf of a random variable X is represented as f(X).\n",
    "Properties of Probability density function:-\n",
    "\n",
    "1. f(X) > 0, for X is in variable range\n",
    "2. The total area of f(X) over its entire range is equal to 1.\n",
    "3. P[a<X<b] = Integration of f(X) in the range(a<X<b).\n",
    "\"\"\""
   ]
  },
  {
   "cell_type": "code",
   "execution_count": 2,
   "id": "e57f8fb3-8346-4e0a-83b2-c14116b84871",
   "metadata": {},
   "outputs": [
    {
     "data": {
      "text/plain": [
       "'Q.2. Different types of Probability Distribution are:-\\n1. Normal Distribution\\n2. Binomial Distr\\n'"
      ]
     },
     "execution_count": 2,
     "metadata": {},
     "output_type": "execute_result"
    }
   ],
   "source": [
    "\"\"\"Q.2. Different types of Probability Distribution are:-\n",
    "1. Normal Distribution\n",
    "2. Binomial Distribution\n",
    "3. Bernoulli Distribution\n",
    "4. Poisson Distribution\n",
    "5. Uniform Distribution.\n",
    "\"\"\""
   ]
  },
  {
   "cell_type": "code",
   "execution_count": 6,
   "id": "1585f189-9383-47d7-81a2-ae93d476d1e7",
   "metadata": {},
   "outputs": [
    {
     "data": {
      "text/plain": [
       "0.6811222222222223"
      ]
     },
     "execution_count": 6,
     "metadata": {},
     "output_type": "execute_result"
    }
   ],
   "source": [
    "\"\"\"Q.3.\"\"\"\n",
    "import numpy as np\n",
    "import seaborn as sns\n",
    "iris = sns.load_dataset(\"iris\")\n",
    "slm = np.mean(iris['sepal_length'])\n",
    "sls= np.std(iris['sepal_length'])\n",
    "slv = sls**2\n",
    "slv"
   ]
  },
  {
   "cell_type": "code",
   "execution_count": 11,
   "id": "669ffa52-a14d-408d-9cef-c985c51a662e",
   "metadata": {},
   "outputs": [],
   "source": [
    "constant_1 = np.sqrt(2*3.141*(slv**2))"
   ]
  },
  {
   "cell_type": "code",
   "execution_count": 12,
   "id": "1bb1276b-8e08-496d-83fe-458631eadccb",
   "metadata": {},
   "outputs": [],
   "source": [
    "constant_2 = ((iris['sepal_length']-slm)/sls)**2"
   ]
  },
  {
   "cell_type": "code",
   "execution_count": 14,
   "id": "2e93cb22-795b-4fcd-a6f8-b3c3568e9325",
   "metadata": {},
   "outputs": [],
   "source": [
    "constant_3 = np.exp((-1)*constant_2)"
   ]
  },
  {
   "cell_type": "code",
   "execution_count": 16,
   "id": "f6fb7f2c-4fac-479c-aab6-ca5221e27641",
   "metadata": {},
   "outputs": [],
   "source": [
    "pdf = constant_1 * constant_3"
   ]
  },
  {
   "cell_type": "code",
   "execution_count": 23,
   "id": "4e87231d-7f29-460f-b31b-ea9eb81892c7",
   "metadata": {},
   "outputs": [
    {
     "data": {
      "text/plain": [
       "0      0.758513\n",
       "1      0.462247\n",
       "2      0.250481\n",
       "3      0.176440\n",
       "4      0.600889\n",
       "         ...   \n",
       "145    0.581222\n",
       "146    1.256906\n",
       "147    0.906415\n",
       "148    1.416323\n",
       "149    1.699130\n",
       "Name: sepal_length, Length: 150, dtype: float64"
      ]
     },
     "execution_count": 23,
     "metadata": {},
     "output_type": "execute_result"
    }
   ],
   "source": [
    "pdf"
   ]
  },
  {
   "cell_type": "code",
   "execution_count": 26,
   "id": "2be593fe-96c4-4eb7-9a66-6be6f91ebc71",
   "metadata": {},
   "outputs": [
    {
     "name": "stderr",
     "output_type": "stream",
     "text": [
      "/tmp/ipykernel_209/4271428426.py:1: UserWarning: \n",
      "\n",
      "`distplot` is a deprecated function and will be removed in seaborn v0.14.0.\n",
      "\n",
      "Please adapt your code to use either `displot` (a figure-level function with\n",
      "similar flexibility) or `histplot` (an axes-level function for histograms).\n",
      "\n",
      "For a guide to updating your code to use the new functions, please see\n",
      "https://gist.github.com/mwaskom/de44147ed2974457ad6372750bbe5751\n",
      "\n",
      "  sns.distplot(a = pdf)\n"
     ]
    },
    {
     "data": {
      "text/plain": [
       "<AxesSubplot: xlabel='sepal_length', ylabel='Density'>"
      ]
     },
     "execution_count": 26,
     "metadata": {},
     "output_type": "execute_result"
    },
    {
     "data": {
      "image/png": "[encoded data removed]",
      "text/plain": [
       "<Figure size 640x480 with 1 Axes>"
      ]
     },
     "metadata": {},
     "output_type": "display_data"
    }
   ],
   "source": [
    "sns.distplot(a = pdf)"
   ]
  },
  {
   "cell_type": "code",
   "execution_count": 1,
   "id": "5d5879fa-5e43-43da-950e-de226a7a9306",
   "metadata": {},
   "outputs": [
    {
     "data": {
      "text/plain": [
       "'Q.4. Properties of Binomial Distribution are:-\\n1. Binomial distribution is for Discrete Random variale\\n2. Every expected outcome is binary\\n3. Discrete probability distribution of number of success in n independent experiment, each asks a yes-no question with a boolean valued outcome.\\n4. Binomial distribution for single trial is Bernoulli distribution.\\n5. Mean of Binomial distribution is given by np(n = number of trials, p = probability of success) \\n6. Variance of Binomial distribution is given by npq\\n7. Standard deviation of Binomial distribution is given by square_root(npq).\\n'"
      ]
     },
     "execution_count": 1,
     "metadata": {},
     "output_type": "execute_result"
    }
   ],
   "source": [
    "\"\"\"Q.4. Properties of Binomial Distribution are:-\n",
    "1. Binomial distribution is for Discrete Random variale\n",
    "2. Every expected outcome is binary\n",
    "3. Discrete probability distribution of number of success in n independent experiment, each asks a yes-no question with a boolean valued outcome.\n",
    "4. Binomial distribution for single trial is Bernoulli distribution.\n",
    "5. Mean of Binomial distribution is given by np(n = number of trials, p = probability of success) \n",
    "6. Variance of Binomial distribution is given by npq\n",
    "7. Standard deviation of Binomial distribution is given by square_root(npq).\n",
    "\"\"\""
   ]
  },
  {
   "cell_type": "code",
   "execution_count": 11,
   "id": "ed777b80-7474-450d-b05b-e2ab16195b4e",
   "metadata": {},
   "outputs": [
    {
     "data": {
      "text/plain": [
       "Text(0.5, 1.0, 'Binomial distribution with success and failure')"
      ]
     },
     "execution_count": 11,
     "metadata": {},
     "output_type": "execute_result"
    },
    {
     "data": {
      "image/png": "[encoded data removed]",
      "text/plain": [
       "<Figure size 640x480 with 1 Axes>"
      ]
     },
     "metadata": {},
     "output_type": "display_data"
    }
   ],
   "source": [
    "\"\"\"Q.5.\"\"\"\n",
    "import numpy as np\n",
    "import matplotlib.pyplot as plt\n",
    "smp = np.random.binomial(1, 0.4, 1000)    \n",
    "plt.hist(smp)\n",
    "plt.xlabel(\"prob of success\")\n",
    "plt.ylabel(\"frequency\")\n",
    "plt.title(\"Binomial distribution with success and failure\")"
   ]
  },
  {
   "cell_type": "code",
   "execution_count": 10,
   "id": "e541e75e-a54d-413f-8482-2cda3bd30e4d",
   "metadata": {},
   "outputs": [
    {
     "data": {
      "image/png": "[encoded data removed]",
      "text/plain": [
       "<Figure size 640x480 with 1 Axes>"
      ]
     },
     "metadata": {},
     "output_type": "display_data"
    }
   ],
   "source": [
    "import matplotlib.pyplot as plt\n",
    "import numpy as np\n",
    "\n",
    "sample_size = 1000\n",
    "probability_of_success = 0.4\n",
    "random_sample = np.random.binomial(1, probability_of_success, sample_size)\n",
    "\n",
    "plt.hist(random_sample, bins=2, alpha=0.7, color='skyblue')\n",
    "plt.title('Binomial Distribution with p=0.4')\n",
    "plt.xlabel('Success/Failure')\n",
    "plt.ylabel('Frequency')\n",
    "plt.show()\n"
   ]
  },
  {
   "cell_type": "code",
   "execution_count": 14,
   "id": "1112655b-6e64-472f-89dd-b90ec9748ea7",
   "metadata": {},
   "outputs": [
    {
     "name": "stdout",
     "output_type": "stream",
     "text": [
      "2.7575381463e-314\n"
     ]
    }
   ],
   "source": [
    "\"\"\"Q.6.\"\"\"\n",
    "import math\n",
    "import numpy as np\n",
    "lam = 2\n",
    "size = 200\n",
    "for i in range(0,size):\n",
    "    const1 = np.exp(-lam)\n",
    "    const2 = lam ** i\n",
    "    const3 = math.factorial(i)\n",
    "    const4 = (const2 / const3)\n",
    "    cdf = const1 * const4\n",
    "print(cdf)"
   ]
  },
  {
   "cell_type": "code",
   "execution_count": null,
   "id": "1126e7af-503f-46cd-ac34-91fd7b51cf66",
   "metadata": {},
   "outputs": [],
   "source": [
    "\"\"\"Q.7. Binomial Distribution is different from Poisson distribution in the following ways:\n",
    "1. Binomial distribution is discrete probability distribution for finite number of trials, whereas Poisson distribution is discrete probability distribution for very large number of trials. \n",
    "2. In Binomial distribution expected outcomes are binary.\n",
    "3. Mean of Binomial distribution is given by np(n = number of trials, p = probability of success), where as mean of Poisson distribution is given by (lembda x time interval) where lembda is expected number of events in a given time interval. \n",
    "4. Binomial distribution is discrete probability distribution for number of success(x) in (n) independent experiments each asking a yes no question and each with its boolean valued outcome success with p and failure with q where as Poisson distribbution is number of events occuring in a fixed time interval.\n",
    "\"\"\""
   ]
  },
  {
   "cell_type": "code",
   "execution_count": 4,
   "id": "c6e04002-090d-4c7f-9416-07a350ab893b",
   "metadata": {},
   "outputs": [
    {
     "name": "stdout",
     "output_type": "stream",
     "text": [
      "[ 4  5  7  4  6  6  3  3  4  2  5  5  1  4  8  6  8  5  4  4  3  6  3  5\n",
      "  3  3  5  7  8  6  8  4  2  9  7  6  1  7  1  4  3  6  6  2  2  9  9 11\n",
      "  7  3  8  7  6  6  2  5  2  5  6  6  0  7  1  4  2  6  9  3  6  4  4  6\n",
      "  9  4  4  2  6  5  3  6  4  8  5  5  5  8  1  4  4  7  3  5  3  4  5  7\n",
      "  3  6  8  6  8  2  5  4  2  5  2  8  5 13  3  6  4  6  1  4  4  7  1  5\n",
      "  8  4  1  4  9  5 10  5  9  2  2  6  4  2  3  2  2  3  5  4  4  7  5  5\n",
      "  5  5  8  5  5  5  5  2  2  4  5  5  7  2  6  6  3  6 10  4  8  6  3  6\n",
      "  9  4  4  3  7  8  5  6  6  5  6  5  7  5  8  7  4  8  4  8  4  7  2  4\n",
      "  9  3  5  7  9  4  4  3 10  4  5  6  5  9  5  5  3  5  4  6  4  5  4  4\n",
      "  8  2  7  4  5  6  7  4  6  5  4  5  4  5  5  8  5  5  7  7  5  7  6  6\n",
      "  4  4  4  5  5  3  8  6 10  7  1  7  7  8  8  1  4  7  7  8  9  2  6  8\n",
      "  5  5  2  6  7  4  5  4  3  7  6  5  1  8  2  0  3  7  7  7  3  8  3  7\n",
      "  4  3  5  9  4  6  5  8  6  7  9  9  9  3  3  1  7 10  6  2  6  6  4  9\n",
      "  3  4  6  4  2  9  4  9  2  4  6  4  5  2  4  2  6  5  5  6  5  5  2  4\n",
      "  4  8  4  5  4  5  5  9  7  8 11  5  4  6  3  3  3  6 10  7  4  5  3  3\n",
      "  6  5  4  3  8  5  4  3  6  5  8  6  4  3  5  3  2  4  2  7  4  2  3  9\n",
      "  5  6  5  7  5  4  4  3  3  4  3  5  4  2  5  7  5  7  6  4  3  9  8  6\n",
      "  6  3  5  4  5  3  5  5  4  4  3  2  7  5  8  4  6  9  2  4  6  4  4  4\n",
      "  2  1  6  4  4  4  4  5  2  6  6  9  7  3  4  5  2  0  6  8  7  4  5  5\n",
      "  3  4  4  7  3  4  5  6  8  4  6  6  6  5  3  4  3  5  2  8  3  3  4  8\n",
      "  7  9  2  8  8  8  6  5  5  6  5  3  6  7  5  3  4  3  8  6  3  5  3  4\n",
      "  5  5  8 13  2  7  4  7  6  5  7  6  1  4 11  4  2  7  6  6  3  1  9  2\n",
      "  7  8  7  4  3  3  6  2  2  7  4  4  8  5  7  9  4  2  6  7  2  4  8  7\n",
      "  3  3  8  1  2  3  5  5  3  6  6  2  6  7  9  6  7  4  4  5  9  3  4  5\n",
      "  6  5  4  6  4  2  8  5  1  2  5  5  3  2  6  4  1  6  6  1  5  3  4  4\n",
      "  5  1  7  2  7  6  5  5  5 10  5  3  3  4  4  6  6  6  4  3  5  2  4  5\n",
      "  4  4  1  5  6  3  4  3  4  4  3 10  4  6  6  5  5  3  5  5  7  5  6  5\n",
      "  2  2  6  4  9  7  3  3  9  3  9  2  7  7  6  4  2  5  6  3  0  3  7  5\n",
      "  6  6 10  6  8  8  5  6 10  8  3  5  4  4  4  8  4  8  6  7  4  6  7  3\n",
      "  7  3  5  3  5  5  6  2  7  3  2  6  5  3  2  3 11  4  5  4  6  4  4  4\n",
      "  6  4  5  4  5  5  7  6  8  5  8  3  7  4  6  1  4  8  4  9  8  8  4  5\n",
      "  1  3  4  4  5  4  3 10  5  3  5  4  7  5  5  1  3  5  3  8  4  2  3  9\n",
      "  6  6  6  4  5  8  7  4  4  4  4  7  6  5  3  4  5  7  2  7  4  4  4  4\n",
      "  1  3  3  5  6  4  6  3  3  3  8  4  2  4  5  2  3  2  4  5  8  5  7  6\n",
      "  4 10  5  5  6  9  3  5  7  6  5  4  4  6 13  4  8  7  4  4  3  5  3  6\n",
      "  1  4  5  4  5  5  8  8  4  3  4  7  3  6  7 10 10  5  7  5  4  3 11  8\n",
      "  4  6  7  4  5  1  6  5  3  7  8  2  3  5  2  5  3  9  2  5  8  4  4 12\n",
      "  3  8  5  4  3  2 12  5  6  2  2  4  2  3  6  9  0  4  4  1  2  3  5  4\n",
      "  5  5  1  8  2  8  3  2  4  5  6  7  2  6  6 10  6  3  4  3  6  5  9  5\n",
      "  4  3  6  7  6  2  5  6  2  8  7  4  6  5  8  4  4  5  6  3  6  8  6  4\n",
      "  5  2  5  6  5  5  3  7  4  5  7  6  7  7  3  1  5  8  6  4  6  4  5  4\n",
      "  8  5  4  6  6  2  5  6  2  4  2  4 11 10  3  7]\n"
     ]
    }
   ],
   "source": [
    "\"\"\"Q.8.\"\"\"\n",
    "import numpy as np\n",
    "poiss = np.random.poisson(lam = 5, size = 1000)\n",
    "print(poiss)"
   ]
  },
  {
   "cell_type": "code",
   "execution_count": 5,
   "id": "327828a3-7cdb-4f4a-b919-9755091154ca",
   "metadata": {},
   "outputs": [],
   "source": [
    "Mean_poiss = np.mean(poiss)"
   ]
  },
  {
   "cell_type": "code",
   "execution_count": 6,
   "id": "d065babf-56fd-472f-bd79-e0a0725a496d",
   "metadata": {},
   "outputs": [
    {
     "data": {
      "text/plain": [
       "5.022"
      ]
     },
     "execution_count": 6,
     "metadata": {},
     "output_type": "execute_result"
    }
   ],
   "source": [
    "Mean_poiss"
   ]
  },
  {
   "cell_type": "code",
   "execution_count": 7,
   "id": "4959841c-77a7-4b16-b6af-fe02b8a7e052",
   "metadata": {},
   "outputs": [],
   "source": [
    "Var_poiss = np.var(poiss)"
   ]
  },
  {
   "cell_type": "code",
   "execution_count": 9,
   "id": "c8b958f1-bba4-4d83-b1f9-77f17c3eefd2",
   "metadata": {},
   "outputs": [
    {
     "data": {
      "text/plain": [
       "4.757516"
      ]
     },
     "execution_count": 9,
     "metadata": {},
     "output_type": "execute_result"
    }
   ],
   "source": [
    "Var_poiss"
   ]
  },
  {
   "cell_type": "code",
   "execution_count": 12,
   "id": "a9efe636-8856-4cc5-9fe3-562b82989535",
   "metadata": {},
   "outputs": [
    {
     "data": {
      "text/plain": [
       "'Q.9. In Binomial distribution mean is given by np, whereas variance is given by npq(where n = number of trial, p = probability of success, q = probability of failure). Hence\\nvariance = mean * q.\\nIn Poisson Distribution , mean is given by product of lembda(expected number of events in a given time interval) and time interval and variance is equal to mean .\\n'"
      ]
     },
     "execution_count": 12,
     "metadata": {},
     "output_type": "execute_result"
    }
   ],
   "source": [
    "\"\"\"Q.9. In Binomial distribution mean is given by np, whereas variance is given by npq(where n = number of trial, p = probability of success, q = probability of failure). Hence\n",
    "variance = mean * q.\n",
    "In Poisson Distribution , mean is given by product of lembda(expected number of events in a given time interval) and time interval and variance is equal to mean .\n",
    "\"\"\""
   ]
  },
  {
   "cell_type": "code",
   "execution_count": null,
   "id": "9b4691a0-95f7-41b6-8dde-f1342e500dda",
   "metadata": {},
   "outputs": [],
   "source": [
    "\"\"\"Q.10. In normal distribution with respect to mean position, last frequent data appear at (mean-standard_deviation) and (mean+standard_deviation) position.\n",
    "\"\"\""
   ]
  }
 ],
 "metadata": {
  "kernelspec": {
   "display_name": "Python 3 (ipykernel)",
   "language": "python",
   "name": "python3"
  },
  "language_info": {
   "codemirror_mode": {
    "name": "ipython",
    "version": 3
   },
   "file_extension": ".py",
   "mimetype": "text/x-python",
   "name": "python",
   "nbconvert_exporter": "python",
   "pygments_lexer": "ipython3",
   "version": "3.10.8"
  }
 },
 "nbformat": 4,
 "nbformat_minor": 5
}
