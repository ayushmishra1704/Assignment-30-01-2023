{
 "cells": [
  {
   "cell_type": "code",
   "execution_count": 1,
   "id": "0e1a7e1f-67c4-4719-b566-16aef16ea21f",
   "metadata": {},
   "outputs": [
    {
     "data": {
      "text/plain": [
       "' Q.1. Database is a collection of related information that can be stored. Information can be structured(in rows and columns) or unstructured(in json format).\\ne.g. grocery shopping list. \\n\\nSQL Database can only store structured format data whereas Not Only SQL Database can store non-structured format data.\\nSome e.g of Structured Database are MySql, Postgre SQL where e.g. of Not Only SQL Database are MongoDB, Cassandra.\\nData in SQL Database is stored in rows and columns in tables whereas Data in NO SQL Database is stored in in anthing but a traditional table.\\nSome e.g of structured data format is csv whereas e.g of unstructured data format is json.'"
      ]
     },
     "execution_count": 1,
     "metadata": {},
     "output_type": "execute_result"
    }
   ],
   "source": [
    "\"\"\" Q.1. Database is a collection of related information that can be stored. Information can be structured(in rows and columns) or unstructured(in json format).\n",
    "e.g. grocery shopping list. \n",
    "\n",
    "SQL Database can only store structured format data whereas Not Only SQL Database can store non-structured format data.\n",
    "Some e.g of Structured Database are MySql, Postgre SQL where e.g. of Not Only SQL Database are MongoDB, Cassandra.\n",
    "Data in SQL Database is stored in rows and columns in tables whereas Data in NO SQL Database is stored in in anthing but a traditional table.\n",
    "Some e.g of structured data format is csv whereas e.g of unstructured data format is json.\n"
   ]
  },
  {
   "cell_type": "code",
   "execution_count": null,
   "id": "e8bf16f4-5a12-4fb7-8fa6-98fe47c993dc",
   "metadata": {},
   "outputs": [],
   "source": [
    "\n",
    "\"\"\"Q.2. Data Definition Language - We define database schema in DDL. Database schema is all different tables and relations that database is going to store.\n",
    "CREATE - It is a keyword which is used to create database and tables.\n",
    "ALTER - It is a keyword which is used to modify the structure of database table (add, delete columns in a table or add, delete keys, indexes in a table or change the type in a specific column).\n",
    "DROP - It is a keyword which is used to drop the table or any column in a table when the table is not needed or drop it accoding to different situations.\n",
    "\"\"\"\n",
    "import mysql.connector\n",
    "mydb = mysql.connector.connect(\n",
    "    host = \"localhost\",\n",
    "    user = \"abc\",\n",
    "    password = \"password\"\n",
    ")\n",
    "\n",
    "my_cursor = mydb.cursor()\n",
    "my_cursor.execute(\"CREATE DATABASE if not exists database4\")\n",
    "my_cursor.execute(\"CREATE TABLE if not exists database4.student(Name VARCHAR(15), Subject_Name VARCHAR(15))\")\n",
    "my_cursor.execute(\"ALTER TABLE database4.student ADD gpa DECIMAL(3,2)\")\n",
    "my_cursor.execute(\"ALTER TABLE database4.student DROP COLUMN gpa\")\n",
    "my_cursor.execute(\"SELECT * FROM database4.student\")\n",
    "for i in my_cursor.fetchall():\n",
    "    print(i)\n",
    "\n",
    "\n",
    "\"\"\"TRUNCATE - It is keyword which is used to delete all the rows from a table regqardless of whether conditions are metor not. \"\"\"\n",
    "my_cursor.execute(\"TRUNCATE TABLE database4.student\")\n",
    "\n",
    "\n",
    "\"\"\"\n",
    "Data Manipulation Language- It is used to insert, update or delete the data in database table or simply it is used to maniplate data in after schema is defined.\n",
    "INSERT - It is a keyword which is used to insert the new data in the table of the database.\n",
    "UPDATE - It is a keyword which is used to update the existing data in the row of table for a particular column or multiple columns.\n",
    "DELETE - It is used to delete the data in the table(entire row, multiple rows ).\n",
    "\"\"\"\n",
    "my_cursor.execute(\"CREATE DATABASE if not exists database6\")\n",
    "my_cursor.execute(\"CREATE TABLE if not exists database6.studentnit(Name VARCHAR(15) PRIMARY KEY, Subject_Name VARCHAR(15))\")\n",
    "my_cursor.execute(\"INSERT INTO database6.studentnit VALUES('Ayush', 'Maths')\")\n",
    "my_cursor.execute(\"INSERT INTO database6.studentnit VALUES('Vikas', 'Science')\")\n",
    "my_cursor.execute(\"INSERT INTO database6.studentnit VALUES('Vikas', 'Science')\")\n",
    "my_cursor.execute(\"UPDATE database6.studentnit SET Name = 'Nihar' WHERE Name = 'Vikas' \")\n",
    "my_cursor.execute(\"DELETE FROM database6.studentnit WHERE Subject_Name = 'Maths' \")\n"
   ]
  },
  {
   "cell_type": "code",
   "execution_count": null,
   "id": "1f187bbf-e306-4d1b-802b-41bc44da58ba",
   "metadata": {},
   "outputs": [],
   "source": [
    "\"\"\"Q.4. Data Query Language(DQL) - It is used to query the data in the database so that user can retrieve the relevant information from the database.\n",
    "SELECT - It is used to retrieve the information in tabular form from a database\n",
    "\"\"\"\n",
    "my_cursor.execute(\"SELECT * FROM database6.studentnit\")"
   ]
  },
  {
   "cell_type": "code",
   "execution_count": null,
   "id": "14a6ce57-9174-48ed-a26e-7dfa15cfa86a",
   "metadata": {},
   "outputs": [],
   "source": [
    "\n",
    "\"\"\"Q.5. Primary Key -> It is an attribute which is used to uniquely identify each specific row. \n",
    "A particular column is generally declared a primary key if its each element corresponding to that particular row is unique.\n",
    "Primary key can be string or numbers. There can be 2 or more primary key which forms a composite key because sometimes a particular column cannot alone define a primary key.\n",
    "\"\"\"\n",
    "\n",
    "my_cursor_execute(\"ALTER TABLE database6.studentnit ADD PRIMARY KEY(Name) \")\n",
    "\n",
    "\n",
    "\"\"\"\n",
    "Foreign Key -> It is an attribute which is used to connect a table of a database from another table.\n",
    "\"\"\"\n",
    "my_cursor_execute(\"ALTER TABLE database6.studentnit ADD FOREIGN KEY(Name) REFERENCES student(Name)\")\n",
    "mydb.close()\n"
   ]
  },
  {
   "cell_type": "code",
   "execution_count": null,
   "id": "b96a2729-0177-4266-a1e0-1adadcc48628",
   "metadata": {},
   "outputs": [],
   "source": [
    "\n",
    "\"\"\"Q.6.\n",
    "cursor() - It allows python code to execute sql commands in a database session. All comands are executed in the context of a database session wrapped by the session.\n",
    "\"\"\"\n",
    "import mysql.connector\n",
    "mydb = mysql.connector.connect(\n",
    "host = \"localhost\",\n",
    "user = \"abc\",\n",
    "password = \"password\"\n",
    ")\n",
    "my_cursor = mydb.cursor()\n",
    "my_cursor.execute(\"CREATE DATABASE if not exists database5\")\n",
    "mydb.close()"
   ]
  },
  {
   "cell_type": "code",
   "execution_count": null,
   "id": "21840862-2566-41d6-b140-c48787c5c682",
   "metadata": {},
   "outputs": [],
   "source": [
    "\n",
    "\"\"\"\n",
    "Q.7. \n",
    "There are 7 stages of  sql order of execution :\n",
    "1. FROM - It is used with DQL statement SELECT to get data \"FROM\" a particular table.\n",
    "2. WHERE  - It is used to filter records. It is also used in DQL statements to specify a particular condition in order to retrieve the data.\n",
    "3. GROUP BY - The GROUP BY statement groups rows that have the same values into summary rows.\n",
    "4. HAVING - The HAVING clause was added to sql because the WHERE keyword cannot be used with aggregate functions.\n",
    "5. SELECT - It is used to retrieve the information in tabular form from a database. \n",
    "6. ORDER BY - It is used to sort the result set in ascending or descending order.\n",
    "7. LIMIT - It is used in condition when only specific number of rows are required.\n",
    "\"\"\""
   ]
  }
 ],
 "metadata": {
  "kernelspec": {
   "display_name": "Python 3 (ipykernel)",
   "language": "python",
   "name": "python3"
  },
  "language_info": {
   "codemirror_mode": {
    "name": "ipython",
    "version": 3
   },
   "file_extension": ".py",
   "mimetype": "text/x-python",
   "name": "python",
   "nbconvert_exporter": "python",
   "pygments_lexer": "ipython3",
   "version": "3.10.8"
  }
 },
 "nbformat": 4,
 "nbformat_minor": 5
}
