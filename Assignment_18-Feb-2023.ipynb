{
 "cells": [
  {
   "cell_type": "code",
   "execution_count": 2,
   "id": "7f548ce6-0d55-42bd-8850-f4a97de48bb6",
   "metadata": {},
   "outputs": [
    {
     "data": {
      "text/plain": [
       "'API - API is abbreviated as Application Programming Interface. \\nIt is a mechanism through which applications(written in different language, written on different platform) communicate with each other via protocols like HTTPS, TCP IP.\\ne.g. UPI works on API call, where Paytm application is connected with bank servers and transaction take place from Bank account, but results are shown on Paytm application.\\nSuppose we want to pay someone Rs.100, Paytm will send a request to bank servers to check whether bank account is valid or not. Bank servers respond with yes/no. Suppose it responds with yes. This communication takes place through API.'"
      ]
     },
     "execution_count": 2,
     "metadata": {},
     "output_type": "execute_result"
    }
   ],
   "source": [
    "#Q.1.\n",
    "\"\"\"API - API is abbreviated as Application Programming Interface. \n",
    "It is a mechanism through which applications(written in different language, written on different platform) communicate with each other via protocols like HTTPS, TCP IP.\n",
    "e.g. UPI works on API call, where Paytm application is connected with bank servers and transaction take place from Bank account, but results are shown on Paytm application.\n",
    "Suppose we want to pay someone Rs.100, Paytm will send a request to bank servers to check whether bank account is valid or not. Bank servers respond with yes/no. Suppose it responds with yes. This communication takes place through API.\"\"\""
   ]
  },
  {
   "cell_type": "code",
   "execution_count": 4,
   "id": "aab2959e-00b4-4713-99d2-3d0212982522",
   "metadata": {},
   "outputs": [
    {
     "data": {
      "text/plain": [
       "\"Q.2.\\nAdvantages of API:-\\n1. It allows two different application based on different different platform and different language to communicate with each other.\\n2. Innovation - With the launch of new Apps supported on API's.  Business can respond quickly and help the rapid deployment of innovation services.\\n3. It is scalable - One user using API one day and 1000 users using API other day wont hang the server.\\n4. Ease of Use - API are easy to use.\\nDisadvantages of API:-\\n1. Security Concerns - \\n2. Compatibility issues\\n3. Complexity\\n4. Governance and Management Issues\\n\""
      ]
     },
     "execution_count": 4,
     "metadata": {},
     "output_type": "execute_result"
    }
   ],
   "source": [
    "\"\"\"Q.2.\n",
    "Advantages of API:-\n",
    "1. It allows two different application based on different different platform and different language to communicate with each other.\n",
    "2. Innovation - With the launch of new Apps supported on API's.  Business can respond quickly and help the rapid deployment of innovation services.\n",
    "3. It is scalable - One user using API one day and 1000 users using API other day wont hang the server.\n",
    "4. Ease of Use - API are easy to use.\n",
    "Disadvantages of API:-\n",
    "1. Security Concerns - \n",
    "2. Compatibility issues\n",
    "3. Complexity\n",
    "4. Governance and Management Issues\n",
    "\"\"\"\n"
   ]
  },
  {
   "cell_type": "code",
   "execution_count": null,
   "id": "fa62e5d1-d5ae-46bf-87a4-e2338bc655a4",
   "metadata": {},
   "outputs": [],
   "source": [
    "\"\"\"Q.3.\n",
    "Web API is a part of API where applications communicate with each other via web. Online applications communicate each other with the help of HTTPS protcols. Web API is developed using HTTP protocols.\n",
    "Web API is a subset of API. Applications are developed using HTTP, SMTP, TCPIP prtocols. Web API examples are Google Search, Gmail.\n",
    "API - Offline applications communicate with each other via API. e.g - If windows is crashing, we can develop an API to store  the status report. API are developed using TCP IP protocol. \"\"\""
   ]
  },
  {
   "cell_type": "code",
   "execution_count": null,
   "id": "c95db4c2-9ba3-461f-864b-b2ab2ef68ab1",
   "metadata": {},
   "outputs": [],
   "source": [
    "\"\"\"Q.4.\n",
    "REST - It stands for Representational state transfer .It is a set of principles for building web services which communicate with each other via HTTP protocols .\n",
    "It is based on client server architecture. In a client server architectre, client is the one in which data is fed and it is executed on server.\n",
    "Ii is used because of its simplicity and scalablility. It is flexible in terms of communication and development. It is based on web based transaction. Based on http protocol, we insert, update and delete.\n",
    "SOAP - It is based on XML(Extended Markup language) which works on message protocols. All the communications(delivery and receiving) are done through messages . XML uses WSDL(Web service description language) which supports HTTP, SMTP protocols.\n",
    "SOAP is secured.\n",
    "SOAP has major disadvantages:\n",
    "One is that heavy transaction cannot be done.\n",
    "Another is SOAP is not easy to use.\"\"\""
   ]
  },
  {
   "cell_type": "code",
   "execution_count": null,
   "id": "da253149-60de-4474-b030-36581a340c7c",
   "metadata": {},
   "outputs": [],
   "source": [
    "\"\"\"Q.5.\n",
    "REST - It is flexible  in terms of communication and development. It is easy to use and maintain. It is scalable and used because f its simplicity.\n",
    "It is easy to develop. It is used in only web based transaction. It is easy to use. It is stateless protocol(means whatever transaction we are doing, it is not stored). It used a cache memory for storing frequent information needed to be searched. \n",
    "SOAP - It is used for doing simple transaction.\n",
    "It is more secured as compared to REST.\n"
   ]
  }
 ],
 "metadata": {
  "kernelspec": {
   "display_name": "Python 3 (ipykernel)",
   "language": "python",
   "name": "python3"
  },
  "language_info": {
   "codemirror_mode": {
    "name": "ipython",
    "version": 3
   },
   "file_extension": ".py",
   "mimetype": "text/x-python",
   "name": "python",
   "nbconvert_exporter": "python",
   "pygments_lexer": "ipython3",
   "version": "3.10.8"
  }
 },
 "nbformat": 4,
 "nbformat_minor": 5
}
