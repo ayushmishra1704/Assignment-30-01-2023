{
 "cells": [
  {
   "cell_type": "code",
   "execution_count": null,
   "id": "7cb213e9-f5ad-4173-8720-1039412059d0",
   "metadata": {},
   "outputs": [],
   "source": [
    "\"\"\"Q.1. Assumptions required to use ANOVA are:\n",
    "1. The distribution of sample means of different population should be normaly distributed.\n",
    "2. Outliers score need to be removed from dataset.\n",
    "3. Variance of different populations should be equal.\n",
    "4. Samples should be independent and random.\n",
    "e.g. If one of the variance of any of the population is different , then ANOVA can not be used.\n",
    "Suppose we are comparing the average of top 5 batsman of 5 different teams and they are not normaly distributed.\n",
    "If outlier is not identified and removed, then ANOVA cannot be used.\n",
    "Suppose we are comparing the yield of 3 different crops , under different fertilizer treatment. If variances are different , then ANOVA cannot be used\n",
    "\"\"\""
   ]
  },
  {
   "cell_type": "code",
   "execution_count": null,
   "id": "e46e9a12-310a-4992-a454-708370297090",
   "metadata": {},
   "outputs": [],
   "source": [
    "\"\"\"Q.2.\n",
    "Three types of ANOVA are:\n",
    "1. One-way ANOVA - One factor with at least 2 or more level and each level is independent.\n",
    "e.g. Doctor wants to test a medicine for back pain, and prescribed 2mg, 3mg and 5mg dose of a medicine. \n",
    "Since these medicines are independent.\n",
    "2. Repeated ANOVA - One factor with at least 2 or more level and each level is dependent. \n",
    "An athelete runs 3km on day 1 , 4 km on day 2 and 6 km on day3. Since these 3 levels are dependent because it is of \n",
    "same person.\n",
    "3. Factorial ANOVA - Two or more factor with at least 2 or more level and each level is either \n",
    "dependent or independent. \n",
    "A Man runs 3km on day 1 , 4 km on day 2 and 6 km on day3 and a Woman runs 5 km on day 1, 7 km on day2 and 9 km on day 3. Since these 3 levels are independent.\n",
    "Two fctors running and gender.\n",
    "\"\"\""
   ]
  },
  {
   "cell_type": "code",
   "execution_count": null,
   "id": "87f57dca-30e4-40cc-93ff-1b9df10b1505",
   "metadata": {},
   "outputs": [],
   "source": [
    "\"\"\"Q.3.\n",
    "Partitioning of variance in ANOVA is decomposition of total variability observed in a dataset into different components \n",
    "associated with various sources of variation.\n",
    "Understanding the partitioning of variance helps in assessing the contributions of different factors to the overall variability in the data.\n",
    "It helps in idetifying significant effects in means by comparing variability between group to variability within group.\n",
    "It helps in identifying results.\n",
    "It helps in design of experiment.\n",
    "\"\"\""
   ]
  },
  {
   "cell_type": "code",
   "execution_count": 44,
   "id": "5f96d311-c6de-4456-b873-b9acb1cc2760",
   "metadata": {},
   "outputs": [
    {
     "name": "stdout",
     "output_type": "stream",
     "text": [
      "SST:156.00000000000006, b : 0.42448979591836733, a: 9.178231292517008, y_predicted: [14.272108843537417, 14.696598639455782, 15.121088435374151, 15.545578231292518, 15.970068027210885, 16.394557823129254], y_minus_y_predicted_square: [1.6182609098061047, 13.664841501226341, 0.014662409181360006, 0.20649914387523594, 4.120623814151506, 6.78832893701697], SSE: 26.41321671525752, SSR: 129.58678328474252\n"
     ]
    }
   ],
   "source": [
    "\"\"\"Q.4.\n",
    "\"\"\"\n",
    "import scipy.stats as stat\n",
    "import numpy as np\n",
    "x = [12,13,14,15,16,17]\n",
    "y = [13,11,15,16,18,19]\n",
    "mean_x = np.mean(x)\n",
    "mean_y = np.mean(y)\n",
    "j = []\n",
    "m = []\n",
    "x_total = []\n",
    "e =  []\n",
    "SST = 0\n",
    "y_predicted = []\n",
    "y_minus_y_predicted_square = []\n",
    "for l in x:\n",
    "    m.append(l-mean_x)   \n",
    "    for n in m:\n",
    "        x_total.append(n**2)\n",
    "        sum_x_square = sum(x_total)\n",
    "for i in y:\n",
    "    j.append(i-mean_y)\n",
    "    for k in j:\n",
    "        SST = SST + (k**2)\n",
    "for c,d in zip(j,m):\n",
    "    e.append(c*d) \n",
    "    sum_xy_square = sum(e)\n",
    "    b = sum_xy_square/sum_x_square\n",
    "    a = (mean_y-(b*mean_x))\n",
    "for t in x:\n",
    "    y_predicted.append(a + (b*t))\n",
    "for r,s in zip(y_predicted,y):\n",
    "    y_minus_y_predicted_square.append((r-s)**2)\n",
    "SSE = sum(y_minus_y_predicted_square)\n",
    "SSR = SST - SSE\n",
    "print(f\"SST:{SST}, b : {b}, a: {a}, y_predicted: {y_predicted}, y_minus_y_predicted_square: {y_minus_y_predicted_square}, SSE: {SSE}, SSR: {SSR}\")"
   ]
  },
  {
   "cell_type": "code",
   "execution_count": 46,
   "id": "a71d5bd0-46fa-4943-91dd-7bd3690fe5e8",
   "metadata": {},
   "outputs": [
    {
     "name": "stdout",
     "output_type": "stream",
     "text": [
      "                             sum_sq   df         F    PR(>F)\n",
      "C(Program)                 9.627813  2.0  2.628688  0.126157\n",
      "C(Experience)              1.418778  1.0  0.774740  0.401647\n",
      "C(Program):C(Experience)   4.123556  2.0  1.125857  0.366106\n",
      "Residual                  16.481667  9.0       NaN       NaN\n",
      "Fail to reject the null hypothesis. There are no significant effects.\n"
     ]
    }
   ],
   "source": [
    "\"\"\"Q.5.\"\"\"\n",
    "import statsmodels.api as sm\n",
    "from statsmodels.formula.api import ols\n",
    "\n",
    "data = {\n",
    "    'Time': [15.2, 14.5, 16.3, 13.8, 15.5, 17.2, 14.7, 16.8, 18.5, 13.5, 15.8, 14.3, 16.0, 18.2, 15.7],\n",
    "    'Program': ['A', 'B', 'C', 'A', 'B', 'C', 'A', 'B', 'C', 'A', 'B', 'C', 'A', 'B', 'C'],\n",
    "    'Experience': ['Novice', 'Experienced', 'Novice', 'Experienced', 'Novice', 'Experienced', 'Novice', 'Experienced', 'Novice', 'Experienced', 'Novice', 'Experienced', 'Novice', 'Experienced', 'Novice']\n",
    "}\n",
    "\n",
    "df = pd.DataFrame(data)\n",
    "\n",
    "formula = 'Time ~ C(Program) + C(Experience) + C(Program):C(Experience)'\n",
    "model = ols(formula, df).fit()\n",
    "\n",
    "anova_table = sm.stats.anova_lm(model, typ=2)\n",
    "\n",
    "print(anova_table)\n",
    "\n",
    "alpha = 0.05\n",
    "\n",
    "if any(anova_table['PR(>F)'] < alpha):\n",
    "    print(\"Reject the null hypothesis. There are significant effects.\")\n",
    "else:\n",
    "    print(\"Fail to reject the null hypothesis. There are no significant effects.\")\n"
   ]
  },
  {
   "cell_type": "code",
   "execution_count": null,
   "id": "c5128ae3-b188-44bc-bd0a-06591d273b03",
   "metadata": {},
   "outputs": [],
   "source": [
    "\"\"\"Q.6.\n",
    "F-statistic of 5.23 and a p-value of 0.02. If F-statistic > F-critical value, we reject the null hypothesis and conclude there is a significant \n",
    "difference between groups, else there is no significant difference between groups. \"\"\""
   ]
  },
  {
   "cell_type": "code",
   "execution_count": null,
   "id": "1573e22b-0620-4017-8ee9-a4ee54295acc",
   "metadata": {},
   "outputs": [],
   "source": [
    "\"\"\"Q.7. Different ways to handle the missing values in a repeated measure anova are:\n",
    "1.  In case whether one of  factor is cateorical variable , replace it with mode.\n",
    "2. In case whether one of  factor is numerical variable with no outlier present  replace with mean of all data points.\n",
    "3. In case whether one of  factor is numerical variable with an outlier present  replace with median of all data points.\n",
    "4. Other methods are: Last Observation carried Forward, Next Observation Carried forward, Linear Interpolation. \n",
    "\"\"\""
   ]
  },
  {
   "cell_type": "code",
   "execution_count": null,
   "id": "c4c49d43-f67f-48d5-a79e-99dc3f5c8ebd",
   "metadata": {},
   "outputs": [],
   "source": [
    "\"\"\"Q.8.  After conducting an ANOVA and finding a significant difference among group means, post-hoc tests are often employed to \n",
    "further investigate pairwise differences between specific groups. \n",
    "Common post-hoc tests include Tukey's Honestly Significant Difference (HSD), Bonferroni correction, Scheffé test, and Dunnett's test.\n",
    "Suppose a teacher conducted an ANOVA to compare the average scores of students across four different teaching methods.\n",
    "The ANOVA indicates a significant difference in mean scores among the teaching methods. \n",
    "Now, he want to perform pairwise comparisons to identify which teaching methods are significantly different from each other. \n",
    "\"\"\""
   ]
  },
  {
   "cell_type": "code",
   "execution_count": 15,
   "id": "7c9c14d2-d023-4748-8bf4-a3d2a24180ad",
   "metadata": {},
   "outputs": [
    {
     "name": "stdout",
     "output_type": "stream",
     "text": [
      "F_statistic1.9490307174856838, p_value0.14607471835957547\n",
      "Reject the null hypothesis and conclude that  there are many significant differences between the mean weight loss of the three diets.\n"
     ]
    }
   ],
   "source": [
    "\"\"\"Q.9.\"\"\"\n",
    "import scipy.stats as stat\n",
    "import numpy as np\n",
    "n = 50\n",
    "DietA = np.random.rand(50)\n",
    "DietB = np.random.rand(50)\n",
    "DietC = np.random.rand(50)\n",
    "dof1 = len(DietA) - 1\n",
    "dof2 = len(DietB) - 1\n",
    "dof3 = len(DietC) - 1\n",
    "significance_value = 0.05\n",
    "F_statistic, p_value = stat.f_oneway(DietA , DietB, DietC)\n",
    "print(f\"F_statistic{F_statistic}, p_value{p_value}\")\n",
    "F_critical = stat.f.ppf(1-significance_value, dfn = dof1, dfd = dof2)\n",
    "if F_statistic > F_critical:\n",
    "    print(\"Reject the null hypothesis and conclude that  there are many significant differences between the mean weight loss of the three diets.\")\n",
    "else:\n",
    "    print(\"Accept the null hypothesis and conclude that  there are no significant differences between the mean weight loss of the three diets.\")"
   ]
  },
  {
   "cell_type": "code",
   "execution_count": 15,
   "id": "2131a239-4c86-4245-b0b2-15da1d3dc388",
   "metadata": {},
   "outputs": [
    {
     "name": "stdout",
     "output_type": "stream",
     "text": [
      "                             sum_sq    df         F    PR(>F)\n",
      "C(Program)                22.611532   2.0  7.443785  0.003054\n",
      "C(Experience)              4.170889   1.0  2.746139  0.110506\n",
      "C(Program):C(Experience)   7.051444   2.0  2.321357  0.119775\n",
      "Residual                  36.451667  24.0       NaN       NaN\n",
      "There is a significant main effect of Software Programs on task completion time.\n",
      "No significant main effect of Employee Experience.\n",
      "No significant interaction effect between Software Programs and Employee Experience.\n"
     ]
    }
   ],
   "source": [
    "\"\"\"Q.10.\"\"\"\n",
    "import statsmodels.api as sm\n",
    "from statsmodels.formula.api import ols\n",
    "\n",
    "data = {\n",
    "    'Time': [15.2, 14.5, 16.3, 13.8, 15.5, 17.2, 14.7, 16.8, 18.5, 13.5, 15.8, 14.3, 16.0, 18.2, 15.7,14.7, 16.8, 18.5, 13.5, 15.8, 14.3, 16.0, 18.2, 15.7,16.0, 18.2, 15.7,14.7, 16.8, 18.5],\n",
    "    'Program': ['A', 'B', 'C', 'A', 'B', 'C', 'A', 'B', 'C', 'A', 'B', 'C', 'A', 'B', 'C','A', 'B', 'C', 'A', 'B', 'C', 'A', 'B', 'C', 'A', 'B', 'C', 'A', 'B', 'C'],\n",
    "    'Experience': ['Novice', 'Experienced', 'Novice', 'Experienced', 'Novice', 'Experienced', 'Novice', 'Experienced', 'Novice', 'Experienced', 'Novice', 'Experienced', 'Novice', 'Experienced', 'Novice','Novice', 'Experienced', 'Novice', 'Experienced', 'Novice', 'Experienced', 'Novice', 'Experienced', 'Novice', 'Experienced', 'Novice', 'Experienced', 'Novice', 'Experienced', 'Novice']\n",
    "}\n",
    "\n",
    "df = pd.DataFrame(data)\n",
    "\n",
    "formula = 'Time ~ C(Program) + C(Experience) + C(Program):C(Experience)'\n",
    "model = ols(formula, df).fit()\n",
    "\n",
    "anova_table = sm.stats.anova_lm(model, typ=2)\n",
    "\n",
    "print(anova_table)\n",
    "\n",
    "alpha = 0.05\n",
    "\n",
    "if anova_table['PR(>F)']['C(Program)'] < alpha:\n",
    "    print(\"There is a significant main effect of Software Programs on task completion time.\")\n",
    "else:\n",
    "    print(\"No significant main effect of Software Programs.\")\n",
    "\n",
    "if anova_table['PR(>F)']['C(Experience)'] < alpha:\n",
    "    print(\"There is a significant main effect of Employee Experience on task completion time.\")\n",
    "else:\n",
    "    print(\"No significant main effect of Employee Experience.\")\n",
    "\n",
    "if anova_table['PR(>F)']['C(Program):C(Experience)'] < alpha:\n",
    "    print(\"There is a significant interaction effect between Software Programs and Employee Experience.\")\n",
    "else:\n",
    "    print(\"No significant interaction effect between Software Programs and Employee Experience.\")"
   ]
  },
  {
   "cell_type": "code",
   "execution_count": 18,
   "id": "058e7427-d6e9-4698-8c8b-f8cad8aa5440",
   "metadata": {},
   "outputs": [
    {
     "name": "stdout",
     "output_type": "stream",
     "text": [
      "Two-Sample T-Test:\n",
      "T-statistic: -4.108723928204809\n",
      "P-value: 8.261945608702611e-05\n",
      "\n",
      "Tukey's HSD Post-Hoc Test:\n",
      "   Multiple Comparison of Means - Tukey HSD, FWER=0.05    \n",
      "==========================================================\n",
      " group1    group2    meandiff p-adj  lower   upper  reject\n",
      "----------------------------------------------------------\n",
      "Control Experimental   7.4325 0.0001 3.8427 11.0224   True\n",
      "----------------------------------------------------------\n"
     ]
    }
   ],
   "source": [
    "\"\"\"Q.11.\"\"\"\n",
    "import numpy as np\n",
    "import pandas as pd\n",
    "from scipy.stats import ttest_ind\n",
    "from statsmodels.stats.multicomp import pairwise_tukeyhsd\n",
    "\n",
    "\n",
    "np.random.seed(42)\n",
    "\n",
    "\n",
    "control_group = np.random.normal(loc=70, scale=10, size=50)\n",
    "experimental_group = np.random.normal(loc=75, scale=10, size=50)\n",
    "\n",
    "\n",
    "data = pd.DataFrame({\n",
    "    'Score': np.concatenate([control_group, experimental_group]),\n",
    "    'Group': ['Control'] * 50 + ['Experimental'] * 50\n",
    "})\n",
    "\n",
    "\n",
    "t_stat, p_value = ttest_ind(control_group, experimental_group)\n",
    "\n",
    "\n",
    "print(\"Two-Sample T-Test:\")\n",
    "print(f\"T-statistic: {t_stat}\")\n",
    "print(f\"P-value: {p_value}\")\n",
    "\n",
    "tukey_results = pairwise_tukeyhsd(data['Score'], data['Group'])\n",
    "\n",
    "print(\"\\nTukey's HSD Post-Hoc Test:\")\n",
    "print(tukey_results)\n"
   ]
  },
  {
   "cell_type": "code",
   "execution_count": 17,
   "id": "b6219149-9b77-47c6-803d-afd9288dd2cd",
   "metadata": {},
   "outputs": [
    {
     "name": "stdout",
     "output_type": "stream",
     "text": [
      "                     sum_sq    df         F    PR(>F)\n",
      "C(Store)          19.922597   2.0  6.167987  0.020563\n",
      "C(Days)            6.631097   6.0  0.684324  0.667914\n",
      "C(Store):C(Days)  26.507903  12.0  1.367797  0.324283\n",
      "Residual          14.535000   9.0       NaN       NaN\n",
      "There is a significant main effect of Store on sales.\n",
      "No significant main effect of Store.\n",
      "No significant interaction effect between Store and Days.\n"
     ]
    }
   ],
   "source": [
    "\"\"\"Q.12.\"\"\"\n",
    "import statsmodels.api as sm\n",
    "from statsmodels.formula.api import ols\n",
    "\n",
    "data = {\n",
    "    'Sales': [15.2, 14.5, 16.3, 13.8, 15.5, 17.2, 14.7, 16.8, 18.5, 13.5, 15.8, 14.3, 16.0, 18.2, 15.7,14.7, 16.8, 18.5, 13.5, 15.8, 14.3, 16.0, 18.2, 15.7,16.0, 18.2, 15.7,14.7, 16.8, 18.5],\n",
    "    'Store': ['A', 'B', 'C', 'A', 'B', 'C', 'A', 'B', 'C', 'A', 'B', 'C', 'A', 'B', 'C','A', 'B', 'C', 'A', 'B', 'C', 'A', 'B', 'C', 'A', 'B', 'C', 'A', 'B', 'C'],\n",
    "    'Days': ['Sunday', 'Monday', 'Tuesday', 'Wednesday', 'Thursday', 'Friday', 'Saturday', 'Sunday', 'Monday', 'Tuesday', 'Wednesday', 'Thursday', 'Friday', 'Saturday', 'Sunday', 'Monday', 'Tuesday', 'Wednesday', 'Thursday', 'Friday', 'Saturday','Sunday', 'Monday', 'Tuesday', 'Wednesday', 'Thursday', 'Friday', 'Saturday','Sunday', 'Monday']\n",
    "}\n",
    "\n",
    "df = pd.DataFrame(data)\n",
    "\n",
    "formula = 'Sales ~ C(Store) + C(Days) + C(Store):C(Days)'\n",
    "model = ols(formula, df).fit()\n",
    "\n",
    "anova_table = sm.stats.anova_lm(model, typ=2)\n",
    "\n",
    "print(anova_table)\n",
    "\n",
    "alpha = 0.05\n",
    "\n",
    "if anova_table['PR(>F)']['C(Store)'] < alpha:\n",
    "    print(\"There is a significant main effect of Store on sales.\")\n",
    "else:\n",
    "    print(\"No significant main effect of Store.\")\n",
    "\n",
    "if anova_table['PR(>F)']['C(Days)'] < alpha:\n",
    "    print(\"There is a significant main effect of Days on which clothes sold on sales.\")\n",
    "else:\n",
    "    print(\"No significant main effect of Store.\")\n",
    "\n",
    "if anova_table['PR(>F)']['C(Store):C(Days)'] < alpha:\n",
    "    print(\"There is a significant interaction effect between Store and Days.\")\n",
    "else:\n",
    "    print(\"No significant interaction effect between Store and Days.\")"
   ]
  },
  {
   "cell_type": "code",
   "execution_count": null,
   "id": "5055e96a-8555-444b-ac92-53f74d89ce01",
   "metadata": {},
   "outputs": [],
   "source": []
  }
 ],
 "metadata": {
  "kernelspec": {
   "display_name": "Python 3 (ipykernel)",
   "language": "python",
   "name": "python3"
  },
  "language_info": {
   "codemirror_mode": {
    "name": "ipython",
    "version": 3
   },
   "file_extension": ".py",
   "mimetype": "text/x-python",
   "name": "python",
   "nbconvert_exporter": "python",
   "pygments_lexer": "ipython3",
   "version": "3.10.8"
  }
 },
 "nbformat": 4,
 "nbformat_minor": 5
}
