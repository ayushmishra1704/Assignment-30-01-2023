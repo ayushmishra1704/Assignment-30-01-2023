{
 "cells": [
  {
   "cell_type": "code",
   "execution_count": 12,
   "id": "04734f8f-81a6-47e0-85eb-e979854e94dd",
   "metadata": {},
   "outputs": [
    {
     "data": {
      "text/plain": [
       "[1, 3, 5, 7, 9, 11, 13, 15, 17, 19, 21, 23, 25]"
      ]
     },
     "execution_count": 12,
     "metadata": {},
     "output_type": "execute_result"
    }
   ],
   "source": [
    "# Q.1 Ans\n",
    "# def keyword is used to create a function\n",
    "def odd_num(n):\n",
    "    list = []\n",
    "    for i in range(1,n):\n",
    "        if i%2 !=0:\n",
    "            list.append(i) \n",
    "    return list\n",
    "odd_num(26)"
   ]
  },
  {
   "cell_type": "code",
   "execution_count": 6,
   "id": "23b5b0e5-7b8d-477d-a953-29ca1dbca82f",
   "metadata": {},
   "outputs": [
    {
     "data": {
      "text/plain": [
       "{'a': 1, 'b': 2, 'c': 3, 'd': 4}"
      ]
     },
     "execution_count": 6,
     "metadata": {},
     "output_type": "execute_result"
    }
   ],
   "source": [
    "# Q.2 Ans\n",
    "\"\"\" *args is used to enter multiple non-keyworded arguments in a tuple on which various operations can be performed while *kwargs is used to enter multiple keyworded arguments in a dictionary on which various operations can be performed\"\"\"\n",
    "#e.g -> *args\n",
    "def test_args(*args):\n",
    "    return args\n",
    "test_args(1,2,3,4)\n",
    "#e.g -> **kwargs\n",
    "def test_args(**kwargs):\n",
    "    return kwargs\n",
    "test_args(a = 1, b = 2, c = 3, d = 4)"
   ]
  },
  {
   "cell_type": "code",
   "execution_count": 14,
   "id": "05d58adb-4283-4403-a4c2-ef30a3ee998c",
   "metadata": {},
   "outputs": [
    {
     "data": {
      "text/plain": [
       "2"
      ]
     },
     "execution_count": 14,
     "metadata": {},
     "output_type": "execute_result"
    }
   ],
   "source": [
    "# Q.3 Ans\n",
    "\"\"\" An iterator is an object that can be iterated upon or we can traverse through all the object. \n",
    "The iterator object is initialized using the iter() method. It uses the next() method for iteration.\"\"\" \n",
    " \n",
    "l = [2, 4, 6, 8, 10, 12, 14, 16, 18, 20]\n",
    "l1 = iter(l)\n",
    "next(l1)"
   ]
  },
  {
   "cell_type": "code",
   "execution_count": 15,
   "id": "61f5cf59-b273-4941-bbc0-55586fd1fc15",
   "metadata": {},
   "outputs": [
    {
     "data": {
      "text/plain": [
       "4"
      ]
     },
     "execution_count": 15,
     "metadata": {},
     "output_type": "execute_result"
    }
   ],
   "source": [
    "next(l1)"
   ]
  },
  {
   "cell_type": "code",
   "execution_count": 16,
   "id": "8f4a40a2-1855-4223-839b-f077027f2bac",
   "metadata": {},
   "outputs": [
    {
     "data": {
      "text/plain": [
       "6"
      ]
     },
     "execution_count": 16,
     "metadata": {},
     "output_type": "execute_result"
    }
   ],
   "source": [
    "next(l1)"
   ]
  },
  {
   "cell_type": "code",
   "execution_count": 17,
   "id": "43955897-c9f9-4041-8b19-b1eeb6712ca8",
   "metadata": {},
   "outputs": [
    {
     "data": {
      "text/plain": [
       "8"
      ]
     },
     "execution_count": 17,
     "metadata": {},
     "output_type": "execute_result"
    }
   ],
   "source": [
    "next(l1)"
   ]
  },
  {
   "cell_type": "code",
   "execution_count": 18,
   "id": "aa5d72ab-4c4e-4479-801b-130f7638ffe7",
   "metadata": {},
   "outputs": [
    {
     "data": {
      "text/plain": [
       "10"
      ]
     },
     "execution_count": 18,
     "metadata": {},
     "output_type": "execute_result"
    }
   ],
   "source": [
    "next(l1)"
   ]
  },
  {
   "cell_type": "code",
   "execution_count": 2,
   "id": "c3f028f2-002e-4513-a9a8-ee05ad1b6530",
   "metadata": {},
   "outputs": [],
   "source": [
    "# Q.4 Ans\n",
    "\"\"\" Generator function is helpful in memory management as it does not store the complete data rather than it iterate over the sequence.\n",
    "It is a function that returns an iterator object with a sequence of values when iterated over. It used yield keyword instead of return.\n",
    "Yield keyword is used because it does not terminate the execution of the function like return after returning a value. \n",
    "Yield keyword stops the execution while maintaining inernal states returns a value and  then start with the next iteration.\"\"\"\n",
    "# e.g \n",
    "def count(n):\n",
    "    count = 1\n",
    "    while count <= n :\n",
    "        yield count\n",
    "        count += 1    \n",
    "c = count(10) "
   ]
  },
  {
   "cell_type": "code",
   "execution_count": 3,
   "id": "5217982b-3e91-4e77-add4-de23ca88f0aa",
   "metadata": {},
   "outputs": [
    {
     "name": "stdout",
     "output_type": "stream",
     "text": [
      "1\n",
      "2\n",
      "3\n",
      "4\n",
      "5\n",
      "6\n",
      "7\n",
      "8\n",
      "9\n",
      "10\n"
     ]
    }
   ],
   "source": [
    "for i in c:\n",
    "    print(i)"
   ]
  },
  {
   "cell_type": "code",
   "execution_count": 36,
   "id": "07e71349-0f6d-4dd1-83cd-5b2bd75c23f0",
   "metadata": {},
   "outputs": [],
   "source": [
    "# Q.5 Ans\n",
    "def prime_numbers(n): \n",
    "    print(2)\n",
    "    print(3)\n",
    "    print(5)\n",
    "    print(7)\n",
    "    for i in range(2,n):\n",
    "        if i%2 != 0 and i%3 != 0 and i%5 != 0 and i%7 !=0:\n",
    "            yield i\n",
    "        \n",
    "            \n",
    "            "
   ]
  },
  {
   "cell_type": "code",
   "execution_count": 37,
   "id": "613fffe8-47aa-4e8c-aab9-597d7490cc6d",
   "metadata": {},
   "outputs": [],
   "source": [
    "p = prime_numbers(1000)"
   ]
  },
  {
   "cell_type": "code",
   "execution_count": 38,
   "id": "0bcbbf8d-33b1-482b-8c18-0dd0a708ce03",
   "metadata": {},
   "outputs": [
    {
     "name": "stdout",
     "output_type": "stream",
     "text": [
      "2\n",
      "3\n",
      "5\n",
      "7\n",
      "11\n",
      "13\n",
      "17\n",
      "19\n",
      "23\n",
      "29\n",
      "31\n",
      "37\n",
      "41\n",
      "43\n",
      "47\n",
      "53\n",
      "59\n",
      "61\n",
      "67\n",
      "71\n"
     ]
    }
   ],
   "source": [
    "for i in range(16):\n",
    "    print(next(p))"
   ]
  },
  {
   "cell_type": "code",
   "execution_count": 7,
   "id": "2b1f0a18-ce80-482f-b5c5-b71048fb7449",
   "metadata": {},
   "outputs": [
    {
     "name": "stdout",
     "output_type": "stream",
     "text": [
      "0\n",
      "1\n",
      "1\n",
      "2\n",
      "3\n",
      "5\n",
      "8\n",
      "13\n",
      "21\n",
      "34\n"
     ]
    }
   ],
   "source": [
    "# Q.6 ans\n",
    "def fib(n):\n",
    "    a,b = 0,1\n",
    "    print(a)\n",
    "    i = 1\n",
    "    while i < n :\n",
    "        a,b = b, a+b\n",
    "        print(a)\n",
    "        i += 1\n",
    "fib(10)       "
   ]
  },
  {
   "cell_type": "code",
   "execution_count": 1,
   "id": "b49cdc0e-8d11-42af-b4d6-b0e376a00e9e",
   "metadata": {},
   "outputs": [
    {
     "data": {
      "text/plain": [
       "['p', 'w', 's', 'k', 'i', 'l', 'l', 's']"
      ]
     },
     "execution_count": 1,
     "metadata": {},
     "output_type": "execute_result"
    }
   ],
   "source": [
    "#Q.7 - Ans\n",
    "s = \"pwskills\"\n",
    "[i for i in s]"
   ]
  },
  {
   "cell_type": "code",
   "execution_count": 7,
   "id": "a4556b03-814b-4886-a76c-5140d4faf205",
   "metadata": {},
   "outputs": [
    {
     "data": {
      "text/plain": [
       "True"
      ]
     },
     "execution_count": 7,
     "metadata": {},
     "output_type": "execute_result"
    }
   ],
   "source": [
    "# Q.8 - Ans\n",
    "def ispallindrome(n):\n",
    "    while n > 0:\n",
    "        s = \"n\"\n",
    "        if s == s[::-1]:            \n",
    "            return True\n",
    "        else:\n",
    "            return False \n",
    "ispallindrome(121)   "
   ]
  },
  {
   "cell_type": "code",
   "execution_count": 3,
   "id": "16a4f98f-67b6-42e5-806a-8b9645f1fbb4",
   "metadata": {},
   "outputs": [
    {
     "data": {
      "text/plain": [
       "[1,\n",
       " 3,\n",
       " 5,\n",
       " 7,\n",
       " 9,\n",
       " 11,\n",
       " 13,\n",
       " 15,\n",
       " 17,\n",
       " 19,\n",
       " 21,\n",
       " 23,\n",
       " 25,\n",
       " 27,\n",
       " 29,\n",
       " 31,\n",
       " 33,\n",
       " 35,\n",
       " 37,\n",
       " 39,\n",
       " 41,\n",
       " 43,\n",
       " 45,\n",
       " 47,\n",
       " 49,\n",
       " 51,\n",
       " 53,\n",
       " 55,\n",
       " 57,\n",
       " 59,\n",
       " 61,\n",
       " 63,\n",
       " 65,\n",
       " 67,\n",
       " 69,\n",
       " 71,\n",
       " 73,\n",
       " 75,\n",
       " 77,\n",
       " 79,\n",
       " 81,\n",
       " 83,\n",
       " 85,\n",
       " 87,\n",
       " 89,\n",
       " 91,\n",
       " 93,\n",
       " 95,\n",
       " 97,\n",
       " 99]"
      ]
     },
     "execution_count": 3,
     "metadata": {},
     "output_type": "execute_result"
    }
   ],
   "source": [
    "#Q.9 - Ans\n",
    "[ i for i  in range(101) if i % 2 != 0]"
   ]
  },
  {
   "cell_type": "code",
   "execution_count": null,
   "id": "ee21ca04-4968-4f06-a1dc-23eac613a0f8",
   "metadata": {},
   "outputs": [],
   "source": []
  },
  {
   "cell_type": "code",
   "execution_count": null,
   "id": "1e09a3bb-479c-49d6-9394-3ff74cf2fb4c",
   "metadata": {},
   "outputs": [],
   "source": []
  },
  {
   "cell_type": "code",
   "execution_count": null,
   "id": "96fa8d5e-6b4a-4ba9-b3c0-6d34ae208300",
   "metadata": {},
   "outputs": [],
   "source": []
  }
 ],
 "metadata": {
  "kernelspec": {
   "display_name": "Python 3 (ipykernel)",
   "language": "python",
   "name": "python3"
  },
  "language_info": {
   "codemirror_mode": {
    "name": "ipython",
    "version": 3
   },
   "file_extension": ".py",
   "mimetype": "text/x-python",
   "name": "python",
   "nbconvert_exporter": "python",
   "pygments_lexer": "ipython3",
   "version": "3.10.8"
  }
 },
 "nbformat": 4,
 "nbformat_minor": 5
}
