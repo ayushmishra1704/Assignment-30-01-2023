{
 "cells": [
  {
   "cell_type": "code",
   "execution_count": null,
   "id": "58e4dcdf-75a1-484f-97a1-5669e8da30fe",
   "metadata": {},
   "outputs": [],
   "source": [
    "# Q.1- Ans\n",
    "\"\"\"For loop is used when the number of iterations is already known.\n",
    "A for loop is a control flow statement that executes code for a predefined number of iterations.\"\"\"\n",
    "# input list\n",
    "inputList = [10, 20, 30, 40, 50]\n",
    "print(\"Input list elements:\")\n",
    "for element in inputList:\n",
    "   print(element)\n",
    "\n",
    "\"\"\"While loop is used to execute statements(blocks of code) for an unknown number of times until certain criteria is \n",
    "met or until when given condition is true. e.g. And when the condition becomes false, the line immediately after the loop is executed. e.g If we want a ask a user to divide a number by 2 until it is less than 1 and ask how many times it has been divided by 2. \n",
    "If it is 32 we know we know 5 number of times. But for any number we dont know. So the process is\"\"\"\n",
    "number = int(input(\"Enter the number\"))\n",
    "counter = 0\n",
    "while number > 1 :\n",
    "    number = number/2\n",
    "    counter += 1\n",
    "print(counter)\n",
    "\n"
   ]
  },
  {
   "cell_type": "code",
   "execution_count": 8,
   "id": "a9bf3084-9ae2-430b-9372-ffc675daea84",
   "metadata": {},
   "outputs": [
    {
     "name": "stdout",
     "output_type": "stream",
     "text": [
      "55\n"
     ]
    }
   ],
   "source": [
    "# Q.2- Ans\n",
    "# Sum of first 10 natural numbers using for loop\n",
    "sum = 0\n",
    "for i in range(11):\n",
    "    sum = sum + i\n",
    "print(sum)\n"
   ]
  },
  {
   "cell_type": "code",
   "execution_count": 7,
   "id": "c770f67c-d8c6-402f-8d65-c99a8e03ec20",
   "metadata": {},
   "outputs": [
    {
     "name": "stdout",
     "output_type": "stream",
     "text": [
      "3628800\n"
     ]
    }
   ],
   "source": [
    "# Q.2- Ans\n",
    "# Product of first 10 natural numbers using for loop\n",
    "product = 1\n",
    "for i in range(1,11):\n",
    "    product = product * i\n",
    "print(product)"
   ]
  },
  {
   "cell_type": "code",
   "execution_count": 10,
   "id": "d094c667-1e4d-418f-b26c-306fee863d0e",
   "metadata": {},
   "outputs": [
    {
     "name": "stdout",
     "output_type": "stream",
     "text": [
      "55\n"
     ]
    }
   ],
   "source": [
    "# Q.2- Ans\n",
    "# Sum of first 10 natural numbers using while loop\n",
    "sum = 0\n",
    "i = 0\n",
    "while i < 11:\n",
    "    sum = sum + i\n",
    "    i += 1\n",
    "print(sum)"
   ]
  },
  {
   "cell_type": "code",
   "execution_count": 11,
   "id": "60666390-d71b-4457-8290-b1b9c9ed1b1d",
   "metadata": {},
   "outputs": [
    {
     "name": "stdout",
     "output_type": "stream",
     "text": [
      "3628800\n"
     ]
    }
   ],
   "source": [
    "# Q.2- Ans\n",
    "# Product of first 10 natural numbers using while loop\n",
    "product = 1\n",
    "i = 1\n",
    "while i < 11:\n",
    "    product = product * i\n",
    "    i +=1\n",
    "print(product)"
   ]
  },
  {
   "cell_type": "code",
   "execution_count": 5,
   "id": "60381869-e50a-4771-ac63-79a546139aef",
   "metadata": {},
   "outputs": [
    {
     "name": "stdin",
     "output_type": "stream",
     "text": [
      "Enter the units of electricity consumed in a month 310\n"
     ]
    },
    {
     "name": "stdout",
     "output_type": "stream",
     "text": [
      "2250.0\n"
     ]
    }
   ],
   "source": [
    "# Q.3 - Ans\n",
    "n = int(input(\"Enter the units of electricity consumed in a month\"))\n",
    "if n <= 100:\n",
    "    print(n*4.5)\n",
    "elif 100 < n <= 200:\n",
    "    print(100 * 4.5 + (n-100)*6)\n",
    "elif 200< n <= 300 :\n",
    "    print(100*4.5 + 100 * 6 + (n-200)*10)\n",
    "else:\n",
    "    print(100*4.5 + 100 * 6 + 100 * 10 + (n-300) * 20)\n",
    "        \n",
    "        "
   ]
  },
  {
   "cell_type": "code",
   "execution_count": 9,
   "id": "1b0e4f0c-7b61-4dc3-bc75-6231657daf1c",
   "metadata": {},
   "outputs": [
    {
     "data": {
      "text/plain": [
       "[2,\n",
       " 4,\n",
       " 5,\n",
       " 6,\n",
       " 8,\n",
       " 10,\n",
       " 12,\n",
       " 14,\n",
       " 15,\n",
       " 16,\n",
       " 18,\n",
       " 20,\n",
       " 22,\n",
       " 24,\n",
       " 25,\n",
       " 26,\n",
       " 28,\n",
       " 30,\n",
       " 32,\n",
       " 34,\n",
       " 35,\n",
       " 36,\n",
       " 38,\n",
       " 40,\n",
       " 42,\n",
       " 44,\n",
       " 45,\n",
       " 46,\n",
       " 48,\n",
       " 50,\n",
       " 52,\n",
       " 54,\n",
       " 55,\n",
       " 56,\n",
       " 58,\n",
       " 60,\n",
       " 62,\n",
       " 64,\n",
       " 65,\n",
       " 66,\n",
       " 68,\n",
       " 70,\n",
       " 72,\n",
       " 74,\n",
       " 75,\n",
       " 76,\n",
       " 78,\n",
       " 80,\n",
       " 82,\n",
       " 84,\n",
       " 85,\n",
       " 86,\n",
       " 88,\n",
       " 90,\n",
       " 92,\n",
       " 94,\n",
       " 95,\n",
       " 96,\n",
       " 98,\n",
       " 100]"
      ]
     },
     "execution_count": 9,
     "metadata": {},
     "output_type": "execute_result"
    }
   ],
   "source": [
    "# Q.4 - Ans\n",
    "# For loop for condition\n",
    "list = []\n",
    "for i in range(1,101):\n",
    "    list.append(i)\n",
    "list1 = []\n",
    "for j in list:\n",
    "    if (j**3)%4 == 0 or (j**3)%5 == 0 : \n",
    "        list1.append(j)\n",
    "list1\n",
    "        \n",
    "    \n",
    "    \n"
   ]
  },
  {
   "cell_type": "code",
   "execution_count": 9,
   "id": "995a4d38-3681-4598-b059-49cc224d3c28",
   "metadata": {},
   "outputs": [
    {
     "data": {
      "text/plain": [
       "12"
      ]
     },
     "execution_count": 9,
     "metadata": {},
     "output_type": "execute_result"
    }
   ],
   "source": [
    "# Q.5 - Ans\n",
    "string =  \"I want to become a data scientist\"\n",
    "vowels = \"a,e,i,o,u,A,E,I,O,U\"\n",
    "counter = 0\n",
    "for i in string: \n",
    "    for j in vowels:\n",
    "        if i == j:\n",
    "            counter += 1   \n",
    "counter\n"
   ]
  },
  {
   "cell_type": "code",
   "execution_count": 1,
   "id": "80ef7df5-8e27-4635-ae66-90649af7bdba",
   "metadata": {},
   "outputs": [
    {
     "data": {
      "text/plain": [
       "64"
      ]
     },
     "execution_count": 1,
     "metadata": {},
     "output_type": "execute_result"
    }
   ],
   "source": [
    "4**3"
   ]
  },
  {
   "cell_type": "code",
   "execution_count": null,
   "id": "3fbce1aa-a3d4-4832-9f3d-c93ff08abe99",
   "metadata": {},
   "outputs": [],
   "source": []
  }
 ],
 "metadata": {
  "kernelspec": {
   "display_name": "Python 3 (ipykernel)",
   "language": "python",
   "name": "python3"
  },
  "language_info": {
   "codemirror_mode": {
    "name": "ipython",
    "version": 3
   },
   "file_extension": ".py",
   "mimetype": "text/x-python",
   "name": "python",
   "nbconvert_exporter": "python",
   "pygments_lexer": "ipython3",
   "version": "3.10.8"
  }
 },
 "nbformat": 4,
 "nbformat_minor": 5
}
