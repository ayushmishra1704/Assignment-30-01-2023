{
 "cells": [
  {
   "cell_type": "code",
   "execution_count": null,
   "id": "dec28fe0-1c54-4d2a-aa14-942744cfafd9",
   "metadata": {},
   "outputs": [],
   "source": [
    "\"\"\"Q.1. Probability Mass Function(pmf) is relative likelihood of a discrete random variable to take on finite values.\n",
    "If X is a continous random variable, f(X) is pmf.\n",
    "Property of Probability Mass function:\n",
    "\n",
    "1. For a discrete random variable X , Sum of probabilities of all possible values of discrete random variable is equal to 1.\n",
    "2. Probability distribution graph forms a uniform distribution.\n",
    "3. All the probabilities are equal.\n",
    "\n",
    "e.g. Used in study of binomial distribution, poisson distribution. Titanic Dataset.\n",
    "\n",
    "Probability Density function(pdf) is relative likelihood of a continous random variable which takes on certain values within a range.\n",
    "If X is a continous random variable, f(X) is pdf.\n",
    "\n",
    "Property of Probability Denity function:\n",
    "\n",
    "1. For a continous random variable X , f(X) >= 0 .\n",
    "2. For a continous random variable X, P[a<X<b] = Integration of f(X) in the range(a,b).\n",
    "3. Total area of f(X) in its entire range is equal to 1.\n",
    "\n",
    "e.g. used in study of normal distribution. IRIS DATASET, Height of students in a class.\n",
    "\"\"\" \n"
   ]
  },
  {
   "cell_type": "code",
   "execution_count": null,
   "id": "577e71b1-43c7-46dc-897e-e3ca179c88eb",
   "metadata": {},
   "outputs": [],
   "source": [
    "\"\"\"Q.2. Cumulative density function is probability that a random variable take on value less than equal to certain value specified. \n",
    "Cumulative density function is percentage area below a continous random variable in a probability density function.\n",
    "It is used because it determines what percentage of area is below the point (a continous random variable) on xaxis in pdf curve. \n",
    "Gradient of cumulative denity function for a particular random variable determines the particular probability in probability density function. \n",
    "e.x - Rolling of a dice.\n",
    "P(X<=1) = 1/6\n",
    "P(X<=2) = 1/6+1/6 = 2/3\n",
    "P(X<=3) = 1/6+1/6+1/6 = 1/2\n",
    "P(X<=4) = 1/6+1/6+1/6+1/6 = 2/3\n",
    "P(X<=5) = 5/6\n",
    "P(X<=6) = 6/6 = 1\n",
    "\"\"\""
   ]
  },
  {
   "cell_type": "code",
   "execution_count": null,
   "id": "0d3459cd-273c-4856-950d-7ef9b202766c",
   "metadata": {},
   "outputs": [],
   "source": [
    "\"\"\"Q.3. Examples of situations where the normal distribution might be used as a model are: \n",
    "1. IRIS DATASET\n",
    "2. Heights of students in a class.\n",
    "3. Weights of students in a class.\n",
    "4. Quantile plot.\n",
    "\n",
    "Parameters of Normal distribution are  Mean, Median and Mode and its effect on shape of distribution are:\n",
    "If Mean > Median > Mode - > Positive skewed \n",
    "If Mean < Median < Mode -> Negative skewed \n",
    "If Mean = Median = Mode -> Uniform\n",
    "\"\"\""
   ]
  },
  {
   "cell_type": "code",
   "execution_count": null,
   "id": "626f6e72-fecb-4a96-9f22-053cc22ae372",
   "metadata": {},
   "outputs": [],
   "source": [
    "\"\"\"Q.4. Importance of Normal Distribution are :\n",
    "1. Many real life situations(height, weight measurement) follows normal distributions.\n",
    "2. Used in financial market for asset modeling and risk assessment.\n",
    "3. Used in Social science and psychology - Many social and behavioural phenomena observes nonmal distribution. DOctors can study behaviours from this.\n",
    "4. Simplicity and Predictibility : It can be well defined by parameters mean and standard deviation, which can perfectly describe bell shaped curve\n",
    "5. Used in analysing economic data, market trends\n",
    "\n",
    "Real life examples of situations where the normal distribution might be used as a model are: \n",
    "1. IRIS DATASET\n",
    "2. Heights of students in a class.\n",
    "3. Weights of students in a class.\n",
    "4. Quantile plot.\n",
    "\"\"\""
   ]
  },
  {
   "cell_type": "code",
   "execution_count": 1,
   "id": "37e9e3be-c3e2-47f1-ab0a-ec5147fb289a",
   "metadata": {},
   "outputs": [
    {
     "data": {
      "text/plain": [
       "'Q.5. Bernoulli distribution is named after Swiss Mathmetician jacob bernoulli. Bernoulli distriution is discrete probability distribution \\nof a random variable which takes on value 1 with probability p  and value 0 with probability q.\\ne.x. Tossing a coin.\\nP(Head) = 0.5\\nP(Tail) = 0.5\\nWhether a person will pass or fail?\\nP(Pass) = 0.7\\nP(Fail) = 0.6\\nStock market rise or fall\\nP(rise) = 0.3\\nP(fall) = 0.7\\n\\nBinomial Distribution for a single trial is Bernoulli distribution. Binonial distribution for a sequence of outcome is Bernoulli Process.\\n'"
      ]
     },
     "execution_count": 1,
     "metadata": {},
     "output_type": "execute_result"
    }
   ],
   "source": [
    "\"\"\"Q.5. Bernoulli distribution is named after Swiss Mathmetician jacob bernoulli. Bernoulli distriution is discrete probability distribution \n",
    "of a random variable which takes on value 1 with probability p  and value 0 with probability q.\n",
    "e.x. Tossing a coin.\n",
    "P(Head) = 0.5\n",
    "P(Tail) = 0.5\n",
    "Whether a person will pass or fail?\n",
    "P(Pass) = 0.7\n",
    "P(Fail) = 0.6\n",
    "Stock market rise or fall\n",
    "P(rise) = 0.3\n",
    "P(fall) = 0.7\n",
    "\n",
    "Binomial Distribution for a single trial is Bernoulli distribution. Binonial distribution for a sequence of outcome is Bernoulli Process.\n",
    "Binomial distribution is performed for n number of trials, whereas Bernoulli distribution is performed for a single trial.\n",
    "Mean of binomial distribution is given by np(where n is number of trials and p is probability of success), whereas mean of bernoulli distribution is given by p.\n",
    "\"\"\""
   ]
  },
  {
   "cell_type": "code",
   "execution_count": 1,
   "id": "158ba1b8-49bd-4d7e-97fc-14ce4225779e",
   "metadata": {},
   "outputs": [
    {
     "data": {
      "text/plain": [
       "'Q.6. z-score = (x-mean)/standard_deviation\\nz-score = (60-50)/10 = 1\\nAccording to z-table, Probability that Randomly selected observation will be smaller than 60 will be 0.84134)\\nHence, Probability that Randomly selected observation will be greater than 60 will be (1-0.84134) = 0.15866.\\n'"
      ]
     },
     "execution_count": 1,
     "metadata": {},
     "output_type": "execute_result"
    }
   ],
   "source": [
    "\"\"\"Q.6. z-score = (x-mean)/standard_deviation\n",
    "z-score = (60-50)/10 = 1\n",
    "According to z-table, Probability that Randomly selected observation will be smaller than 60 will be 0.84134)\n",
    "Hence, Probability that Randomly selected observation will be greater than 60 will be (1-0.84134) = 0.15866.\n",
    "\"\"\""
   ]
  },
  {
   "cell_type": "code",
   "execution_count": null,
   "id": "33063c9e-f218-48bc-b5cc-865eef6fa219",
   "metadata": {},
   "outputs": [],
   "source": [
    "\"\"\"Q.7. Uniform Distribution is a family of symmetric proability distribution which has arbitary outcome that lies within certain bounds.\n",
    "\n",
    "There are 2 types of Uniform Distribution -:\n",
    "\n",
    "1. Contnious Uniform Distribution - Continous Uniform distribution is a family of symmetric proability distribution which has arbitary outcome that lies within certain bounds. \n",
    "It is defined by parameter a and b which are min and max value respectively.\n",
    "Continous Uniform distribution is also called rectangular distibution because it has rectangular shaped curve with length as 1/(b-a) and breadth as (b-a).\n",
    "Pdf of Continous Uniform distribution is defined as 1/(b-a) .\n",
    "\n",
    "2. Discrete Uniform Distribution - Continous Uniform distribution is a family of symmetric proability distribution which has n no of observation within certain bounds \n",
    "which has equal probability (1/n) of being observed.\n",
    "Pdf of Discrete Uniform distribution is defined as 1/n whereas n = (b-a+1).\n",
    "\n",
    "e.x. Rolling of a die if die is fair and balanced, where all faces of die have equal chances of occuring.\n",
    "\"\"\""
   ]
  },
  {
   "cell_type": "code",
   "execution_count": null,
   "id": "9aaf3489-1baa-459b-af31-2a36f4213db3",
   "metadata": {},
   "outputs": [],
   "source": [
    "\"\"\"Q.8. Z Score is used in standard normal distribution to shift a given mean to zero and further study the distribution of data around zero mean \n",
    "and standard deviation of 1. It measures how many standard deviation a data point is below a mean.\n",
    "\n",
    "Importance of z score is :\n",
    "1. It is used to determine area under a curve below a certain data point in a pdf curve.\n",
    "2. It shifts the mean to zero and standard deviation to 1 which is an ideal curve to study distribution of data.\n",
    "3. It is used in Quality Control in manufacturing, finance and investments, medical testing and diagnostics.\n",
    "\"\"\"\n"
   ]
  },
  {
   "cell_type": "code",
   "execution_count": null,
   "id": "87bd5c8e-e6c3-4a3b-afb3-8bd040f215af",
   "metadata": {},
   "outputs": [],
   "source": [
    "\"\"\"Q.9. Central limit theorem states that for any probability distribution whether normal distribution or any other distribution,\n",
    "its mean's sampling distribution will be normally distributed as long as sample size is large enough.\n",
    "\n",
    "Significance of central limit theorem are:\n",
    "1. Real world applications -  Significance in economics and biology.\n",
    "2. Foundation of Statistical Interference - It allows us to make conclusions about a population based on a sample, assuming the sample size is sufficiently large.\n",
    "3. Large Sample size assumption \n",
    "4. Normal distribution approximation - Distribution of sample means from any population will tend to be normally distributed, regardless of the original population's distribution.\n",
    "\"\"\""
   ]
  },
  {
   "cell_type": "code",
   "execution_count": null,
   "id": "c47173fc-9043-4329-84ea-22c71ef8ca77",
   "metadata": {},
   "outputs": [],
   "source": [
    "\"\"\"Q.10. Assumption of central limit theorem are:-\n",
    "\n",
    "1. Sample size is large enough.\n",
    "2. For Gaussian distribution, n >= 30.\n",
    "3. For Non Gaussian distribution n can be any value.\n",
    "4. Observation in the sample must be independent of each other.\n",
    "5. Random variables should have same probability distribution and finite variance.\n",
    "\"\"\""
   ]
  }
 ],
 "metadata": {
  "kernelspec": {
   "display_name": "Python 3 (ipykernel)",
   "language": "python",
   "name": "python3"
  },
  "language_info": {
   "codemirror_mode": {
    "name": "ipython",
    "version": 3
   },
   "file_extension": ".py",
   "mimetype": "text/x-python",
   "name": "python",
   "nbconvert_exporter": "python",
   "pygments_lexer": "ipython3",
   "version": "3.10.8"
  }
 },
 "nbformat": 4,
 "nbformat_minor": 5
}
