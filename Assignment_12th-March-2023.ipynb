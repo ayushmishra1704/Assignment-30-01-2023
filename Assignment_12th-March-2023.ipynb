{
 "cells": [
  {
   "cell_type": "code",
   "execution_count": 1,
   "id": "e4f41627-c57b-4b2a-9b39-26610461bc67",
   "metadata": {},
   "outputs": [
    {
     "name": "stdout",
     "output_type": "stream",
     "text": [
      "The range of CI is  between 48.82510455217752 and 51.17489544782248\n"
     ]
    }
   ],
   "source": [
    "\"\"\"Q.1.\n",
    "significance_value = 0.05\n",
    "sample_mean = 50\n",
    "sample_standard_deviation = 5\n",
    "zscore(as  per table) = 1.645\n",
    "n = 49\n",
    "Upper_CI =  sample_mean + (zscore * (sample_standard_deviation/square_root(n)))\n",
    "Upper_CI = 51.1745\n",
    "Lower_CI = 48.82\n",
    "Lower_CI =  sample_mean - (zscore * (sample_standard_deviation/square_root(n)))\n",
    "The range of CI is  between 48.82510455217752 and 51.17489544782248\n",
    "\"\"\"\n",
    "import numpy as np\n",
    "import scipy.stats as stat\n",
    "significance_value = 0.05\n",
    "n = 49\n",
    "sample_mean = 50\n",
    "sample_standard_deviation = 5\n",
    "square_root = np.sqrt(49)\n",
    "zscore = stat.norm.ppf(1-significance_value)\n",
    "Upper_CI =  sample_mean + (zscore * (sample_standard_deviation/square_root))\n",
    "Lower_CI =  sample_mean - (zscore * (sample_standard_deviation/square_root))\n",
    "print(f\"The range of CI is  between {Lower_CI} and {Upper_CI}\")"
   ]
  },
  {
   "cell_type": "code",
   "execution_count": 2,
   "id": "d4f2fab5-8e86-48d2-b126-0f1516373b8b",
   "metadata": {},
   "outputs": [
    {
     "name": "stdout",
     "output_type": "stream",
     "text": [
      " Accept the null hypothesis and conclude distribution of color of M&Ms in a bag matches the expected distribution \n"
     ]
    }
   ],
   "source": [
    "\"\"\"Q.2.\"\"\"\n",
    "import scipy.stats as stat\n",
    "import numpy as np\n",
    "significance_value = 0.05\n",
    "expected_color_distribution_percentage = [0.20, 0.20, 0.20, 0.20, 0.10, 0.20]\n",
    "observed_color_distribution_percentage = [0.24, 0.20, 0.16, 0.14, 0.13, 0.23]\n",
    "dof = len(expected_color_distribution_percentage) - 1\n",
    "chi_square_value, p_value = stat.chisquare(observed_color_distribution_percentage, expected_color_distribution_percentage)\n",
    "chi_critical_value = stat.chi2.ppf(1-significance_value, dof)\n",
    "if chi_critical_value < chi_square_value:\n",
    "    print(\" Reject the null hypothesis and conclude distribution of color of M&Ms in a bag does not match the expected distribution \")\n",
    "else:\n",
    "    print(\" Accept the null hypothesis and conclude distribution of color of M&Ms in a bag matches the expected distribution \")"
   ]
  },
  {
   "cell_type": "code",
   "execution_count": 15,
   "id": "87a8bfe8-d9bd-49b8-afc8-95ff2f8c03d4",
   "metadata": {},
   "outputs": [
    {
     "name": "stdout",
     "output_type": "stream",
     "text": [
      "chi_square_value:5.833333333333334, p_value:0.05411376622282158 ,dof:2, expected_value:[[15. 20.]\n",
      " [15. 20.]\n",
      " [15. 20.]]\n"
     ]
    }
   ],
   "source": [
    "\"\"\"Q.3.\"\"\"\n",
    "import scipy.stats as stat\n",
    "import numpy as np\n",
    "observed_value = np.array([[20,15],[10,25],[15,20]])\n",
    "chi_square_value ,p_value, dof , expected_value = stat.chi2_contingency(observed_value)\n",
    "print(f\"chi_square_value:{chi_square_value}, p_value:{p_value} ,dof:{dof}, expected_value:{expected_value}\")"
   ]
  },
  {
   "cell_type": "code",
   "execution_count": 16,
   "id": "28d001a1-03f2-47e3-a263-68b5d5877a30",
   "metadata": {},
   "outputs": [
    {
     "name": "stdout",
     "output_type": "stream",
     "text": [
      "The range of true proportion of individuals in the population who smoke is between 0.09609580000282479 and 0.14390419999717521\n"
     ]
    }
   ],
   "source": [
    "\"\"\"Q.4.\"\"\"\n",
    "import scipy.stats as stat\n",
    "import numpy as np\n",
    "n = 500\n",
    "p = 0.12\n",
    "square_root = np.sqrt((p*(1-p))/n)\n",
    "z_score = stat.norm.ppf(1-significance_value)\n",
    "Upper_CI = p + (z_score*(square_root))\n",
    "Lower_CI = p - (z_score*(square_root))\n",
    "print(f\"The range of true proportion of individuals in the population who smoke is between {Lower_CI} and {Upper_CI}\")"
   ]
  },
  {
   "cell_type": "code",
   "execution_count": 17,
   "id": "12835839-b36e-475b-9079-bc7cbd3d0cf6",
   "metadata": {},
   "outputs": [
    {
     "name": "stdout",
     "output_type": "stream",
     "text": [
      "The range of true proportion of individuals in the population who smoke is between 72.8030544590664 and 77.1969455409336\n"
     ]
    }
   ],
   "source": [
    "\"\"\"Q.5.\n",
    "import scipy.stats as stat\n",
    "import numpy as np\n",
    "sample_mean = 75\n",
    "sample_standard_deviation = 12\n",
    "\"let n = 49\"\n",
    "n = 49\n",
    "significance_value = 0.10\n",
    "z_score = 1.28\n",
    "Upper_CI = sample_mean + (z_score*(sample_standard_deviation/square_root(n)))\n",
    "Lower_CI = sample_mean - (z_score*(sample_standard_deviation/square_root(n)))\n",
    "The range of true proportion of individuals in the population who smoke is between 72.8030544590664 and 77.1969455409336\n",
    "\"\"\"\n",
    "import scipy.stats as stat\n",
    "import numpy as np\n",
    "sample_mean = 75\n",
    "sample_standard_deviation = 12\n",
    "\"let n = 49\"\n",
    "n = 49\n",
    "significance_value = 0.10\n",
    "z_score = stat.norm.ppf(1-significance_value)\n",
    "square_root = np.sqrt(n)\n",
    "Upper_CI = sample_mean + (z_score*(sample_standard_deviation/square_root))\n",
    "Lower_CI = sample_mean - (z_score*(sample_standard_deviation/square_root))\n",
    "print(f\"The range of true proportion of individuals in the population who smoke is between {Lower_CI} and {Upper_CI}\")"
   ]
  },
  {
   "cell_type": "code",
   "execution_count": 18,
   "id": "6df09d38-2e95-4e26-a47a-3c06a290f613",
   "metadata": {},
   "outputs": [
    {
     "data": {
      "text/plain": [
       "Text(0, 0.5, 'pdf')"
      ]
     },
     "execution_count": 18,
     "metadata": {},
     "output_type": "execute_result"
    },
    {
     "data": {
      "image/png": "[encoded data removed]",
      "text/plain": [
       "<Figure size 640x480 with 1 Axes>"
      ]
     },
     "metadata": {},
     "output_type": "display_data"
    }
   ],
   "source": [
    "\"\"\"Q.6.\"\"\"\n",
    "import matplotlib.pyplot as plt\n",
    "import scipy.stats as stat\n",
    "import numpy as np\n",
    "x = np.linspace(0,30,1000)\n",
    "dof = 10\n",
    "pdf = stat.chi2.pdf(x,dof)\n",
    "x_shaded_region = np.linspace(0,15,1000)\n",
    "plt.fill_between(x_shaded_region, stat.chi2.pdf(x_shaded_region,dof))\n",
    "plt.plot(x,pdf)\n",
    "plt.title(\"chi2 distribution\")\n",
    "plt.xlabel(\"x_axis \")\n",
    "plt.ylabel(\"pdf\")"
   ]
  },
  {
   "cell_type": "code",
   "execution_count": 19,
   "id": "cf9417f9-a9e3-49f3-ac26-c266c3210d77",
   "metadata": {},
   "outputs": [
    {
     "name": "stdout",
     "output_type": "stream",
     "text": [
      "The range of true proportion of individuals in the population who smoke is between 0.48324664845226817 and 0.5567533515477319\n"
     ]
    }
   ],
   "source": [
    "\"\"\"Q.7.\n",
    "significance_value = 0.01\n",
    "n = 1000\n",
    "p = 0.52\n",
    "z_score = 2.33\n",
    "Upper_CI = p + (z_score*(square_root((p*(1-p))/n)))\n",
    "Lower_CI = p - (z_score*(square_root((p*(1-p))/n)))\n",
    "The range of true proportion of individuals in the population who smoke is between 0.48324664845226817 and 0.5567533515477319.\n",
    "\"\"\"\n",
    "import scipy.stats as stat\n",
    "import numpy as np\n",
    "significance_value = 0.01\n",
    "n = 1000\n",
    "p = 0.52\n",
    "z_score = stat.norm.ppf(1-significance_value)\n",
    "square_root = np.sqrt((p*(1-p))/n)\n",
    "Upper_CI = p + (z_score*(square_root))\n",
    "Lower_CI = p - (z_score*(square_root))\n",
    "print(f\"The range of true proportion of individuals in the population who smoke is between {Lower_CI} and {Upper_CI}\")"
   ]
  },
  {
   "cell_type": "code",
   "execution_count": 20,
   "id": "e7bed0b6-a5c9-4a5b-9c19-f6b7685eb850",
   "metadata": {},
   "outputs": [
    {
     "name": "stdout",
     "output_type": "stream",
     "text": [
      "Accept the null hypothesis and conclude that observed frequency matches the expected frequencies of a fair coin\n"
     ]
    }
   ],
   "source": [
    "\"\"\"Q.8.\n",
    "n = 100\n",
    "probability_of_fair_coin = 0.5 \n",
    "observed_value = 45\n",
    "expected_value = 0.5 * 100\n",
    "significance_value = 0.05\n",
    "dof = 1\n",
    "chi_square_statistics = ((observed_value - expected_value) ** 2)/expected_value\n",
    "chi_square_statistics = 0.5\n",
    "chi_square_critical = 3.84\n",
    "Since chi_square_statistics < chi_square_critical, we accept the null hypothesis and conclude that observed frequency matches the expected frequencies of a fair coin.\n",
    "\"\"\"\n",
    "import scipy.stats as stat\n",
    "import numpy as np\n",
    "n = 100\n",
    "probability_of_fair_coin = 0.5 \n",
    "observed_value = 45\n",
    "expected_value = 0.5 * 100\n",
    "significance_value = 0.05\n",
    "dof = 1\n",
    "chi_square_statistics = ((observed_value - expected_value) ** 2)/expected_value\n",
    "chi_square_critical = stat.chi2.ppf(1-significance_value, dof)\n",
    "if chi_square_statistics > chi_square_critical:\n",
    "    print(\"Reject the null hypothesis and conclude that observed frequency does not match the expected frequencies of a fair coin\")\n",
    "else:\n",
    "    print(\"Accept the null hypothesis and conclude that observed frequency matches the expected frequencies of a fair coin\")"
   ]
  },
  {
   "cell_type": "code",
   "execution_count": 1,
   "id": "f59b0400-e4e8-4088-ab8c-8aec83972f17",
   "metadata": {},
   "outputs": [
    {
     "name": "stdout",
     "output_type": "stream",
     "text": [
      "chi_value_statistics:12.057347670250895, p_value:0.0005158863863703744 ,dof:1, expected_value:[[ 45. 155.]\n",
      " [ 45. 155.]]\n"
     ]
    }
   ],
   "source": [
    "\"\"\"Q.9.\n",
    "observed_value = [[60,140],[30,170]]\n",
    "significance_value = 0.05\n",
    "dof = 2-1 = 1\n",
    "expected_value = (Total_row_value(i) x Column_value(i))/Grand_Total(i)\n",
    "expected_value = [[45,155],[45,155]]\n",
    "significance_value = 0.05\n",
    "dof = 1\n",
    "chi_square_statistics = ((observed_value - expected_value) ** 2)/expected_value\n",
    "chi_square_statistics = 12.06\n",
    "chi_square_critical = 3.84\n",
    "Since chi_square_statistics > chi_square_critical, we reject the null  hypothesis and conclude that there is a significant association between smoking status and lung cancer diagnosis.\n",
    "\"\"\"\n",
    "import scipy.stats as stat\n",
    "import numpy as np\n",
    "observed_value = [[60,140],[30,170]]\n",
    "significance_value = 0.05\n",
    "chi_value_statistics, p_value ,dof, expected_value = stat.chi2_contingency(observed_value)\n",
    "print(f\"chi_value_statistics:{chi_value_statistics}, p_value:{p_value} ,dof:{dof}, expected_value:{expected_value}\")"
   ]
  },
  {
   "cell_type": "code",
   "execution_count": 6,
   "id": "36eabf6c-86ac-4a92-bf4c-b2d4082ffc57",
   "metadata": {},
   "outputs": [
    {
     "name": "stdout",
     "output_type": "stream",
     "text": [
      "Reject the null hypothesis and conclude that there is a significant association between smoking status and lung cancer diagnosis.\n"
     ]
    }
   ],
   "source": [
    "import scipy.stats as stat\n",
    "import numpy as np\n",
    "\n",
    "observed_value_1 = np.array([[60,140],[30,170]])\n",
    "expected_value_1 = np.array([[45,155],[45,155]])\n",
    "significance_value = 0.05\n",
    "dof = 1\n",
    "chi_square_statistics,  p_value_1 = stat.chisquare(observed_value_1, expected_value_1)\n",
    "chi_critical = stat.chi2.ppf(1 - significance_value, dof)\n",
    "if chi_square_statistics.any() < chi_critical:\n",
    "    print(\"Reject the null hypothesis and conclude that there is a significant association between smoking status and lung cancer diagnosis.\")\n",
    "else:\n",
    "    print(\"Accept the null hypothesis and conclude that there is no significant association between smoking status and lung cancer diagnosis\")"
   ]
  },
  {
   "cell_type": "code",
   "execution_count": 10,
   "id": "4538ddbc-2ce8-49d4-a0e7-85506c5aac06",
   "metadata": {},
   "outputs": [
    {
     "name": "stdout",
     "output_type": "stream",
     "text": [
      "chi_value_statistics:13.393665158371041, p_value:0.0012348168997745918 ,dof:2, expected_value:[[212.5 162.5 125. ]\n",
      " [212.5 162.5 125. ]]\n"
     ]
    }
   ],
   "source": [
    "\"\"\"Q.10.\n",
    "observed_value = [[200,150,150],[225,175,100]]\n",
    "significance_value = 0.05\n",
    "dof = 2-1 = 1\n",
    "expected_value = (Total_row_value(i) x Column_value(i))/Grand_Total(i)\n",
    "expected_value = [[45,155],[45,155]]\n",
    "significance_value = 0.05\n",
    "dof = 1\n",
    "chi_square_statistics = ((observed_value - expected_value) ** 2)/expected_value\n",
    "chi_square_statistics = 13.39\n",
    "chi_square_critical = 6.63\n",
    "Since chi_square_statistics > chi_square_critical, we reject the null  hypothesis and conclude that there is a significant association between smoking status and lung cancer diagnosis.\n",
    "\"\"\"\n",
    "import scipy.stats as stat\n",
    "import numpy as np\n",
    "observed_value = np.array([[200,150,150],[225,175,100]])\n",
    "significance_value = 0.01\n",
    "chi_value_statistics, p_value ,dof, expected_value = stat.chi2_contingency(observed_value)\n",
    "print(f\"chi_value_statistics:{chi_value_statistics}, p_value:{p_value} ,dof:{dof}, expected_value:{expected_value}\")"
   ]
  },
  {
   "cell_type": "code",
   "execution_count": 11,
   "id": "ae684ac8-93f7-4caf-a606-897cc0672181",
   "metadata": {},
   "outputs": [
    {
     "name": "stdout",
     "output_type": "stream",
     "text": [
      "Reject the null hypothesis and conclude that there is a significant association between chocolate preference and country of origin..\n"
     ]
    }
   ],
   "source": [
    "import scipy.stats as stat\n",
    "import numpy as np\n",
    "\n",
    "observed_value_1 = np.array([[200,150,150],[225,175,100]])\n",
    "expected_value_1 = np.array([[212.5,162.5,125],[212.5,162.5,125]])\n",
    "significance_value = 0.01\n",
    "dof = 1\n",
    "chi_square_statistics,  p_value_1 = stat.chisquare(observed_value_1, expected_value_1)\n",
    "chi_critical = stat.chi2.ppf(1 - significance_value, dof)\n",
    "if chi_square_statistics.any() < chi_critical:\n",
    "    print(\"Reject the null hypothesis and conclude that there is a significant association between chocolate preference and country of origin..\")\n",
    "else:\n",
    "    print(\"Accept the null hypothesis and conclude that there is no significant association between chocolate preference and country of origin.\")"
   ]
  },
  {
   "cell_type": "code",
   "execution_count": 2,
   "id": "f45f6dab-1015-44d5-b50b-678d428a4166",
   "metadata": {},
   "outputs": [
    {
     "name": "stdout",
     "output_type": "stream",
     "text": [
      "Accept the null hypothesis and conclude that population mean is  equal to 70\n"
     ]
    }
   ],
   "source": [
    "\"\"\"Q.11.\n",
    "n = 30\n",
    "sample_mean = 72\n",
    "sample_standard_deviation = 10\n",
    "significance_value = 0.05\n",
    "population_mean = 70\n",
    "dof = n - 1\n",
    "t_value = (sample_mean - population_mean)/(sample_standard_deviation/np.sqrt(n))\n",
    "t_value = 1.09\n",
    "t_critical = 1.70\n",
    "t_value < t_critical and conclude that population mean is  equal to 70.\n",
    "\"\"\"\n",
    "import scipy.stats as stat\n",
    "import numpy as np\n",
    "n = 30\n",
    "sample_mean = 72\n",
    "sample_standard_deviation = 10\n",
    "significance_value = 0.05\n",
    "population_mean = 70\n",
    "dof = n - 1\n",
    "t_value = (sample_mean - population_mean)/(sample_standard_deviation/np.sqrt(n))\n",
    "t_critical = stat.t.ppf(1- significance_value , dof)\n",
    "if t_value > t_critical:\n",
    "    print(\"Reject the null hypothesis and conclude that population mean is  significantly different from 70\")\n",
    "elif t_value < (-1*t_critical):\n",
    "    print(\"Reject the null hypothesis and conclude that population mean is  significantly different from 70\")\n",
    "else:\n",
    "    print(\"Accept the null hypothesis and conclude that population mean is  equal to 70\")"
   ]
  },
  {
   "cell_type": "code",
   "execution_count": null,
   "id": "abeb57a0-0588-45a9-98fc-8800132c10d7",
   "metadata": {},
   "outputs": [],
   "source": []
  },
  {
   "cell_type": "code",
   "execution_count": null,
   "id": "26688e70-e50b-4133-8d23-b86efd19687a",
   "metadata": {},
   "outputs": [],
   "source": []
  }
 ],
 "metadata": {
  "kernelspec": {
   "display_name": "Python 3 (ipykernel)",
   "language": "python",
   "name": "python3"
  },
  "language_info": {
   "codemirror_mode": {
    "name": "ipython",
    "version": 3
   },
   "file_extension": ".py",
   "mimetype": "text/x-python",
   "name": "python",
   "nbconvert_exporter": "python",
   "pygments_lexer": "ipython3",
   "version": "3.10.8"
  }
 },
 "nbformat": 4,
 "nbformat_minor": 5
}
